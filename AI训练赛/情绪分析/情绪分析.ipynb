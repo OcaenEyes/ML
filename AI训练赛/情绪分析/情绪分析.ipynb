{
 "cells": [
  {
   "cell_type": "code",
   "execution_count": 1,
   "id": "intellectual-dodge",
   "metadata": {},
   "outputs": [],
   "source": [
    "import sys"
   ]
  },
  {
   "cell_type": "code",
   "execution_count": 2,
   "id": "assumed-swift",
   "metadata": {},
   "outputs": [
    {
     "data": {
      "text/plain": [
       "'/Users/gaozhiyong/Documents/pyenv/pyenv3.6/bin/python'"
      ]
     },
     "execution_count": 2,
     "metadata": {},
     "output_type": "execute_result"
    }
   ],
   "source": [
    "sys.executable"
   ]
  },
  {
   "cell_type": "code",
   "execution_count": 3,
   "id": "answering-astrology",
   "metadata": {},
   "outputs": [],
   "source": [
    "import pandas as pd\n",
    "import matplotlib.pyplot as plt "
   ]
  },
  {
   "cell_type": "code",
   "execution_count": 10,
   "id": "matched-roads",
   "metadata": {},
   "outputs": [],
   "source": [
    "train=pd.read_csv('nCoV_100k_train.labled.csv',skiprows=1,names=['userid','ctime','username','content','picture','video','motion'])"
   ]
  },
  {
   "cell_type": "code",
   "execution_count": 12,
   "id": "permanent-mountain",
   "metadata": {},
   "outputs": [
    {
     "data": {
      "text/plain": [
       "0        写在年末冬初孩子流感的第五天，我们仍然没有忘记热情拥抱这2020年的第一天。带着一丝迷信，早...\n",
       "1          开年大模型…累到以为自己发烧了腰疼膝盖疼腿疼胳膊疼脖子疼#Luna的Krystallife#?\n",
       "2        邱晨这就是我爹，爹，发烧快好，毕竟美好的假期拿来养病不太好，假期还是要好好享受快乐，爹，新...\n",
       "3                           新年的第一天感冒又发烧的也太衰了但是我要想着明天一定会好的?\n",
       "4        问：我们意念里有坏的想法了，天神就会给记下来，那如果有好的想法也会被记下来吗？答：那当然了。...\n",
       "                               ...                        \n",
       "99995    #抗击新型肺炎第一线#【@中国计量大学研制新冠病毒蛋白标准样品】记者从中国计量大学获悉，新型...\n",
       "99996    1、类RaTG13病毒（一种从云南蝙蝠身上分离出来的冠状病毒）可能是2019-nCoV的源头...\n",
       "99997    #微博辟谣#没有证据表明，吃大蒜、漱口水、涂抹芝麻油、生理盐水洗鼻子等手段可以防止感染新型冠...\n",
       "99998    【新冠疫情最受关注的十一篇英文核心期刊论文全解析】本文整理了关于新型冠状病毒最受关注的十一篇...\n",
       "99999    从蝙蝠携带的冠状病毒变异成2019-nCoV冠状病毒,怎样才能发生变异呢？有两种可能1.自然...\n",
       "Name: content, Length: 100000, dtype: object"
      ]
     },
     "execution_count": 12,
     "metadata": {},
     "output_type": "execute_result"
    }
   ],
   "source": [
    "train['content']"
   ]
  },
  {
   "cell_type": "code",
   "execution_count": 14,
   "id": "secondary-sphere",
   "metadata": {},
   "outputs": [
    {
     "name": "stdout",
     "output_type": "stream",
     "text": [
      "Looking in indexes: https://pypi.tuna.tsinghua.edu.cn/simple/\n",
      "Collecting wordcloud\n",
      "  Downloading https://pypi.tuna.tsinghua.edu.cn/packages/be/33/5bdd39587f0e8ede3fe12d9d16d6f1fb5e7a43f29621604a949ee362d013/wordcloud-1.8.1.tar.gz (220 kB)\n",
      "\u001b[K     |████████████████████████████████| 220 kB 1.7 MB/s eta 0:00:01\n",
      "\u001b[?25hRequirement already satisfied: numpy>=1.6.1 in /Users/gaozhiyong/Documents/pyenv/pyenv3.6/lib/python3.6/site-packages (from wordcloud) (1.19.5)\n",
      "Requirement already satisfied: pillow in /Users/gaozhiyong/Documents/pyenv/pyenv3.6/lib/python3.6/site-packages (from wordcloud) (8.1.1)\n",
      "Requirement already satisfied: matplotlib in /Users/gaozhiyong/Documents/pyenv/pyenv3.6/lib/python3.6/site-packages (from wordcloud) (3.3.4)\n",
      "Requirement already satisfied: pyparsing!=2.0.4,!=2.1.2,!=2.1.6,>=2.0.3 in /Users/gaozhiyong/Documents/pyenv/pyenv3.6/lib/python3.6/site-packages (from matplotlib->wordcloud) (2.4.7)\n",
      "Requirement already satisfied: kiwisolver>=1.0.1 in /Users/gaozhiyong/Documents/pyenv/pyenv3.6/lib/python3.6/site-packages (from matplotlib->wordcloud) (1.3.1)\n",
      "Requirement already satisfied: python-dateutil>=2.1 in /Users/gaozhiyong/Documents/pyenv/pyenv3.6/lib/python3.6/site-packages (from matplotlib->wordcloud) (2.8.1)\n",
      "Requirement already satisfied: cycler>=0.10 in /Users/gaozhiyong/Documents/pyenv/pyenv3.6/lib/python3.6/site-packages (from matplotlib->wordcloud) (0.10.0)\n",
      "Requirement already satisfied: six>=1.5 in /Users/gaozhiyong/Documents/pyenv/pyenv3.6/lib/python3.6/site-packages (from python-dateutil>=2.1->matplotlib->wordcloud) (1.15.0)\n",
      "Building wheels for collected packages: wordcloud\n",
      "  Building wheel for wordcloud (setup.py) ... \u001b[?25ldone\n",
      "\u001b[?25h  Created wheel for wordcloud: filename=wordcloud-1.8.1-cp36-cp36m-macosx_10_9_x86_64.whl size=158872 sha256=cb060e8886e4361f13a311ef3f8e67bb3be8c40538bbeeee0f7abe727fd3b911\n",
      "  Stored in directory: /Users/gaozhiyong/Library/Caches/pip/wheels/10/bf/3f/298efd6560aa3359b5c427c77ae4db28c145de44805ac6832d\n",
      "Successfully built wordcloud\n",
      "Installing collected packages: wordcloud\n",
      "Successfully installed wordcloud-1.8.1\n"
     ]
    }
   ],
   "source": [
    "!pip install wordcloud -i https://pypi.tuna.tsinghua.edu.cn/simple/"
   ]
  },
  {
   "cell_type": "code",
   "execution_count": 15,
   "id": "peaceful-lemon",
   "metadata": {},
   "outputs": [],
   "source": [
    "import wordcloud\n",
    "import jieba"
   ]
  },
  {
   "cell_type": "code",
   "execution_count": 36,
   "id": "considered-provider",
   "metadata": {},
   "outputs": [
    {
     "data": {
      "text/plain": [
       "100000"
      ]
     },
     "execution_count": 36,
     "metadata": {},
     "output_type": "execute_result"
    }
   ],
   "source": [
    "len(train['content'].tolist())"
   ]
  },
  {
   "cell_type": "code",
   "execution_count": 37,
   "id": "billion-causing",
   "metadata": {},
   "outputs": [],
   "source": [
    "content = [str(a) for a in train['content'].tolist()]"
   ]
  },
  {
   "cell_type": "code",
   "execution_count": 38,
   "id": "interesting-syracuse",
   "metadata": {},
   "outputs": [],
   "source": [
    "train['content_jieba'] = train['content']"
   ]
  },
  {
   "cell_type": "code",
   "execution_count": 39,
   "id": "cross-outreach",
   "metadata": {},
   "outputs": [
    {
     "name": "stderr",
     "output_type": "stream",
     "text": [
      "/Users/gaozhiyong/Documents/pyenv/pyenv3.6/lib/python3.6/site-packages/ipykernel_launcher.py:2: SettingWithCopyWarning: \n",
      "A value is trying to be set on a copy of a slice from a DataFrame\n",
      "\n",
      "See the caveats in the documentation: https://pandas.pydata.org/pandas-docs/stable/user_guide/indexing.html#returning-a-view-versus-a-copy\n",
      "  \n"
     ]
    }
   ],
   "source": [
    "for i,c  in enumerate(content):\n",
    "    train['content_jieba'][i] = jieba.lcut(c)"
   ]
  },
  {
   "cell_type": "code",
   "execution_count": 40,
   "id": "trained-northwest",
   "metadata": {},
   "outputs": [
    {
     "data": {
      "text/plain": [
       "0        [写, 在, 年末, 冬初, 孩子, 流感, 的, 第五天, ，, 我们, 仍然, 没有, ...\n",
       "1        [开年, 大, 模型, …, 累到, 以为, 自己, 发烧, 了, 腰疼, 膝盖, 疼, 腿...\n",
       "2        [, 邱晨, 这, 就是, 我爹, ，, 爹, ，, 发烧, 快, 好, ，, 毕竟, 美...\n",
       "3        [新年, 的, 第一天, 感冒, 又, 发烧, 的, 也, 太衰, 了, 但是, 我要, 想...\n",
       "4        [问, ：, 我们, 意念, 里, 有, 坏, 的, 想法, 了, ，, 天神, 就, 会,...\n",
       "                               ...                        \n",
       "99995    [#, 抗击, 新型, 肺炎, 第一线, #, 【, @, 中国, 计量, 大学, 研制, ...\n",
       "99996    [1, 、, 类, RaTG13, 病毒, （, 一种, 从, 云南, 蝙蝠, 身上, 分离...\n",
       "99997    [#, 微博, 辟谣, #, 没有, 证据, 表明, ，, 吃, 大蒜, 、, 漱口水, 、...\n",
       "99998    [【, 新冠, 疫情, 最受, 关注, 的, 十一篇, 英文, 核心, 期刊论文, 全, 解...\n",
       "99999    [从, 蝙蝠, 携带, 的, 冠状病毒, 变异, 成, 2019, -, nCoV, 冠状病...\n",
       "Name: content_jieba, Length: 100000, dtype: object"
      ]
     },
     "execution_count": 40,
     "metadata": {},
     "output_type": "execute_result"
    }
   ],
   "source": [
    "train['content_jieba']"
   ]
  },
  {
   "cell_type": "code",
   "execution_count": 41,
   "id": "figured-hunger",
   "metadata": {},
   "outputs": [],
   "source": [
    "def cutword(x):\n",
    "    seq = jieba.lcut(x)\n",
    "    return ','.join(seq)"
   ]
  },
  {
   "cell_type": "code",
   "execution_count": 43,
   "id": "modular-kansas",
   "metadata": {},
   "outputs": [],
   "source": [
    "train['content_copy'] = train['content'].astype(str)"
   ]
  },
  {
   "cell_type": "code",
   "execution_count": 45,
   "id": "coordinated-fashion",
   "metadata": {},
   "outputs": [
    {
     "data": {
      "text/html": [
       "<div>\n",
       "<style scoped>\n",
       "    .dataframe tbody tr th:only-of-type {\n",
       "        vertical-align: middle;\n",
       "    }\n",
       "\n",
       "    .dataframe tbody tr th {\n",
       "        vertical-align: top;\n",
       "    }\n",
       "\n",
       "    .dataframe thead th {\n",
       "        text-align: right;\n",
       "    }\n",
       "</style>\n",
       "<table border=\"1\" class=\"dataframe\">\n",
       "  <thead>\n",
       "    <tr style=\"text-align: right;\">\n",
       "      <th></th>\n",
       "      <th>userid</th>\n",
       "      <th>ctime</th>\n",
       "      <th>username</th>\n",
       "      <th>content</th>\n",
       "      <th>picture</th>\n",
       "      <th>video</th>\n",
       "      <th>motion</th>\n",
       "      <th>content_jieba</th>\n",
       "      <th>content_copy</th>\n",
       "    </tr>\n",
       "  </thead>\n",
       "  <tbody>\n",
       "    <tr>\n",
       "      <th>0</th>\n",
       "      <td>4456072029125500</td>\n",
       "      <td>01月01日 23:50</td>\n",
       "      <td>存曦1988</td>\n",
       "      <td>写在年末冬初孩子流感的第五天，我们仍然没有忘记热情拥抱这2020年的第一天。带着一丝迷信，早...</td>\n",
       "      <td>['https://ww2.sinaimg.cn/orj360/005VnA1zly1gah...</td>\n",
       "      <td>[]</td>\n",
       "      <td>0</td>\n",
       "      <td>[写, 在, 年末, 冬初, 孩子, 流感, 的, 第五天, ，, 我们, 仍然, 没有, ...</td>\n",
       "      <td>写在年末冬初孩子流感的第五天，我们仍然没有忘记热情拥抱这2020年的第一天。带着一丝迷信，早...</td>\n",
       "    </tr>\n",
       "    <tr>\n",
       "      <th>1</th>\n",
       "      <td>4456074167480980</td>\n",
       "      <td>01月01日 23:58</td>\n",
       "      <td>LunaKrys</td>\n",
       "      <td>开年大模型…累到以为自己发烧了腰疼膝盖疼腿疼胳膊疼脖子疼#Luna的Krystallife#?</td>\n",
       "      <td>[]</td>\n",
       "      <td>[]</td>\n",
       "      <td>-1</td>\n",
       "      <td>[开年, 大, 模型, …, 累到, 以为, 自己, 发烧, 了, 腰疼, 膝盖, 疼, 腿...</td>\n",
       "      <td>开年大模型…累到以为自己发烧了腰疼膝盖疼腿疼胳膊疼脖子疼#Luna的Krystallife#?</td>\n",
       "    </tr>\n",
       "    <tr>\n",
       "      <th>2</th>\n",
       "      <td>4456054253264520</td>\n",
       "      <td>01月01日 22:39</td>\n",
       "      <td>小王爷学辩论o_O</td>\n",
       "      <td>邱晨这就是我爹，爹，发烧快好，毕竟美好的假期拿来养病不太好，假期还是要好好享受快乐，爹，新...</td>\n",
       "      <td>['https://ww2.sinaimg.cn/thumb150/006ymYXKgy1g...</td>\n",
       "      <td>[]</td>\n",
       "      <td>1</td>\n",
       "      <td>[, 邱晨, 这, 就是, 我爹, ，, 爹, ，, 发烧, 快, 好, ，, 毕竟, 美...</td>\n",
       "      <td>邱晨这就是我爹，爹，发烧快好，毕竟美好的假期拿来养病不太好，假期还是要好好享受快乐，爹，新...</td>\n",
       "    </tr>\n",
       "    <tr>\n",
       "      <th>3</th>\n",
       "      <td>4456061509126470</td>\n",
       "      <td>01月01日 23:08</td>\n",
       "      <td>芩鎟</td>\n",
       "      <td>新年的第一天感冒又发烧的也太衰了但是我要想着明天一定会好的?</td>\n",
       "      <td>['https://ww2.sinaimg.cn/orj360/005FL9LZgy1gah...</td>\n",
       "      <td>[]</td>\n",
       "      <td>1</td>\n",
       "      <td>[新年, 的, 第一天, 感冒, 又, 发烧, 的, 也, 太衰, 了, 但是, 我要, 想...</td>\n",
       "      <td>新年的第一天感冒又发烧的也太衰了但是我要想着明天一定会好的?</td>\n",
       "    </tr>\n",
       "    <tr>\n",
       "      <th>4</th>\n",
       "      <td>4455979322528190</td>\n",
       "      <td>01月01日 17:42</td>\n",
       "      <td>changlwj</td>\n",
       "      <td>问：我们意念里有坏的想法了，天神就会给记下来，那如果有好的想法也会被记下来吗？答：那当然了。...</td>\n",
       "      <td>[]</td>\n",
       "      <td>[]</td>\n",
       "      <td>1</td>\n",
       "      <td>[问, ：, 我们, 意念, 里, 有, 坏, 的, 想法, 了, ，, 天神, 就, 会,...</td>\n",
       "      <td>问：我们意念里有坏的想法了，天神就会给记下来，那如果有好的想法也会被记下来吗？答：那当然了。...</td>\n",
       "    </tr>\n",
       "  </tbody>\n",
       "</table>\n",
       "</div>"
      ],
      "text/plain": [
       "             userid         ctime   username  \\\n",
       "0  4456072029125500  01月01日 23:50     存曦1988   \n",
       "1  4456074167480980  01月01日 23:58   LunaKrys   \n",
       "2  4456054253264520  01月01日 22:39  小王爷学辩论o_O   \n",
       "3  4456061509126470  01月01日 23:08         芩鎟   \n",
       "4  4455979322528190  01月01日 17:42   changlwj   \n",
       "\n",
       "                                             content  \\\n",
       "0  写在年末冬初孩子流感的第五天，我们仍然没有忘记热情拥抱这2020年的第一天。带着一丝迷信，早...   \n",
       "1    开年大模型…累到以为自己发烧了腰疼膝盖疼腿疼胳膊疼脖子疼#Luna的Krystallife#?   \n",
       "2  邱晨这就是我爹，爹，发烧快好，毕竟美好的假期拿来养病不太好，假期还是要好好享受快乐，爹，新...   \n",
       "3                     新年的第一天感冒又发烧的也太衰了但是我要想着明天一定会好的?   \n",
       "4  问：我们意念里有坏的想法了，天神就会给记下来，那如果有好的想法也会被记下来吗？答：那当然了。...   \n",
       "\n",
       "                                             picture video motion  \\\n",
       "0  ['https://ww2.sinaimg.cn/orj360/005VnA1zly1gah...    []      0   \n",
       "1                                                 []    []     -1   \n",
       "2  ['https://ww2.sinaimg.cn/thumb150/006ymYXKgy1g...    []      1   \n",
       "3  ['https://ww2.sinaimg.cn/orj360/005FL9LZgy1gah...    []      1   \n",
       "4                                                 []    []      1   \n",
       "\n",
       "                                       content_jieba  \\\n",
       "0  [写, 在, 年末, 冬初, 孩子, 流感, 的, 第五天, ，, 我们, 仍然, 没有, ...   \n",
       "1  [开年, 大, 模型, …, 累到, 以为, 自己, 发烧, 了, 腰疼, 膝盖, 疼, 腿...   \n",
       "2  [, 邱晨, 这, 就是, 我爹, ，, 爹, ，, 发烧, 快, 好, ，, 毕竟, 美...   \n",
       "3  [新年, 的, 第一天, 感冒, 又, 发烧, 的, 也, 太衰, 了, 但是, 我要, 想...   \n",
       "4  [问, ：, 我们, 意念, 里, 有, 坏, 的, 想法, 了, ，, 天神, 就, 会,...   \n",
       "\n",
       "                                        content_copy  \n",
       "0  写在年末冬初孩子流感的第五天，我们仍然没有忘记热情拥抱这2020年的第一天。带着一丝迷信，早...  \n",
       "1    开年大模型…累到以为自己发烧了腰疼膝盖疼腿疼胳膊疼脖子疼#Luna的Krystallife#?  \n",
       "2  邱晨这就是我爹，爹，发烧快好，毕竟美好的假期拿来养病不太好，假期还是要好好享受快乐，爹，新...  \n",
       "3                     新年的第一天感冒又发烧的也太衰了但是我要想着明天一定会好的?  \n",
       "4  问：我们意念里有坏的想法了，天神就会给记下来，那如果有好的想法也会被记下来吗？答：那当然了。...  "
      ]
     },
     "execution_count": 45,
     "metadata": {},
     "output_type": "execute_result"
    }
   ],
   "source": [
    "train.head()"
   ]
  },
  {
   "cell_type": "code",
   "execution_count": 46,
   "id": "protected-portland",
   "metadata": {},
   "outputs": [],
   "source": [
    "train['content_seq'] = train['content_copy'].apply(cutword)"
   ]
  },
  {
   "cell_type": "code",
   "execution_count": 51,
   "id": "conscious-bankruptcy",
   "metadata": {},
   "outputs": [
    {
     "data": {
      "text/html": [
       "<div>\n",
       "<style scoped>\n",
       "    .dataframe tbody tr th:only-of-type {\n",
       "        vertical-align: middle;\n",
       "    }\n",
       "\n",
       "    .dataframe tbody tr th {\n",
       "        vertical-align: top;\n",
       "    }\n",
       "\n",
       "    .dataframe thead th {\n",
       "        text-align: right;\n",
       "    }\n",
       "</style>\n",
       "<table border=\"1\" class=\"dataframe\">\n",
       "  <thead>\n",
       "    <tr style=\"text-align: right;\">\n",
       "      <th></th>\n",
       "      <th>userid</th>\n",
       "      <th>ctime</th>\n",
       "      <th>username</th>\n",
       "      <th>content</th>\n",
       "      <th>picture</th>\n",
       "      <th>video</th>\n",
       "      <th>motion</th>\n",
       "      <th>content_copy</th>\n",
       "      <th>content_seq</th>\n",
       "    </tr>\n",
       "  </thead>\n",
       "  <tbody>\n",
       "    <tr>\n",
       "      <th>0</th>\n",
       "      <td>4456072029125500</td>\n",
       "      <td>01月01日 23:50</td>\n",
       "      <td>存曦1988</td>\n",
       "      <td>写在年末冬初孩子流感的第五天，我们仍然没有忘记热情拥抱这2020年的第一天。带着一丝迷信，早...</td>\n",
       "      <td>['https://ww2.sinaimg.cn/orj360/005VnA1zly1gah...</td>\n",
       "      <td>[]</td>\n",
       "      <td>0</td>\n",
       "      <td>写在年末冬初孩子流感的第五天，我们仍然没有忘记热情拥抱这2020年的第一天。带着一丝迷信，早...</td>\n",
       "      <td>写,在,年末,冬初,孩子,流感,的,第五天,，,我们,仍然,没有,忘记,热情,拥抱,这,20...</td>\n",
       "    </tr>\n",
       "    <tr>\n",
       "      <th>1</th>\n",
       "      <td>4456074167480980</td>\n",
       "      <td>01月01日 23:58</td>\n",
       "      <td>LunaKrys</td>\n",
       "      <td>开年大模型…累到以为自己发烧了腰疼膝盖疼腿疼胳膊疼脖子疼#Luna的Krystallife#?</td>\n",
       "      <td>[]</td>\n",
       "      <td>[]</td>\n",
       "      <td>-1</td>\n",
       "      <td>开年大模型…累到以为自己发烧了腰疼膝盖疼腿疼胳膊疼脖子疼#Luna的Krystallife#?</td>\n",
       "      <td>开年,大,模型,…,累到,以为,自己,发烧,了,腰疼,膝盖,疼,腿疼,胳膊,疼,脖子,疼,#...</td>\n",
       "    </tr>\n",
       "    <tr>\n",
       "      <th>2</th>\n",
       "      <td>4456054253264520</td>\n",
       "      <td>01月01日 22:39</td>\n",
       "      <td>小王爷学辩论o_O</td>\n",
       "      <td>邱晨这就是我爹，爹，发烧快好，毕竟美好的假期拿来养病不太好，假期还是要好好享受快乐，爹，新...</td>\n",
       "      <td>['https://ww2.sinaimg.cn/thumb150/006ymYXKgy1g...</td>\n",
       "      <td>[]</td>\n",
       "      <td>1</td>\n",
       "      <td>邱晨这就是我爹，爹，发烧快好，毕竟美好的假期拿来养病不太好，假期还是要好好享受快乐，爹，新...</td>\n",
       "      <td>,邱晨,这,就是,我爹,，,爹,，,发烧,快,好,，,毕竟,美好,的,假期,拿来,养病,不...</td>\n",
       "    </tr>\n",
       "    <tr>\n",
       "      <th>3</th>\n",
       "      <td>4456061509126470</td>\n",
       "      <td>01月01日 23:08</td>\n",
       "      <td>芩鎟</td>\n",
       "      <td>新年的第一天感冒又发烧的也太衰了但是我要想着明天一定会好的?</td>\n",
       "      <td>['https://ww2.sinaimg.cn/orj360/005FL9LZgy1gah...</td>\n",
       "      <td>[]</td>\n",
       "      <td>1</td>\n",
       "      <td>新年的第一天感冒又发烧的也太衰了但是我要想着明天一定会好的?</td>\n",
       "      <td>新年,的,第一天,感冒,又,发烧,的,也,太衰,了,但是,我要,想着,明天,一定,会,好,的,?</td>\n",
       "    </tr>\n",
       "    <tr>\n",
       "      <th>4</th>\n",
       "      <td>4455979322528190</td>\n",
       "      <td>01月01日 17:42</td>\n",
       "      <td>changlwj</td>\n",
       "      <td>问：我们意念里有坏的想法了，天神就会给记下来，那如果有好的想法也会被记下来吗？答：那当然了。...</td>\n",
       "      <td>[]</td>\n",
       "      <td>[]</td>\n",
       "      <td>1</td>\n",
       "      <td>问：我们意念里有坏的想法了，天神就会给记下来，那如果有好的想法也会被记下来吗？答：那当然了。...</td>\n",
       "      <td>问,：,我们,意念,里,有,坏,的,想法,了,，,天神,就,会,给,记下来,，,那,如果,有...</td>\n",
       "    </tr>\n",
       "    <tr>\n",
       "      <th>...</th>\n",
       "      <td>...</td>\n",
       "      <td>...</td>\n",
       "      <td>...</td>\n",
       "      <td>...</td>\n",
       "      <td>...</td>\n",
       "      <td>...</td>\n",
       "      <td>...</td>\n",
       "      <td>...</td>\n",
       "      <td>...</td>\n",
       "    </tr>\n",
       "    <tr>\n",
       "      <th>99995</th>\n",
       "      <td>4473033438259880</td>\n",
       "      <td>02月17日 19:08</td>\n",
       "      <td>中国教育新闻网</td>\n",
       "      <td>#抗击新型肺炎第一线#【@中国计量大学研制新冠病毒蛋白标准样品】记者从中国计量大学获悉，新型...</td>\n",
       "      <td>['https://ww1.sinaimg.cn/orj360/682cebefly1gbz...</td>\n",
       "      <td>[]</td>\n",
       "      <td>0</td>\n",
       "      <td>#抗击新型肺炎第一线#【@中国计量大学研制新冠病毒蛋白标准样品】记者从中国计量大学获悉，新型...</td>\n",
       "      <td>#,抗击,新型,肺炎,第一线,#,【,@,中国,计量,大学,研制,新冠,病毒,蛋白,标准,样...</td>\n",
       "    </tr>\n",
       "    <tr>\n",
       "      <th>99996</th>\n",
       "      <td>4472969222714290</td>\n",
       "      <td>02月17日 14:53</td>\n",
       "      <td>fuzhuoting</td>\n",
       "      <td>1、类RaTG13病毒（一种从云南蝙蝠身上分离出来的冠状病毒）可能是2019-nCoV的源头...</td>\n",
       "      <td>[]</td>\n",
       "      <td>[]</td>\n",
       "      <td>0</td>\n",
       "      <td>1、类RaTG13病毒（一种从云南蝙蝠身上分离出来的冠状病毒）可能是2019-nCoV的源头...</td>\n",
       "      <td>1,、,类,RaTG13,病毒,（,一种,从,云南,蝙蝠,身上,分离出来,的,冠状病毒,）,...</td>\n",
       "    </tr>\n",
       "    <tr>\n",
       "      <th>99997</th>\n",
       "      <td>4473035904435920</td>\n",
       "      <td>02月17日 19:18</td>\n",
       "      <td>蝌蚪五线谱</td>\n",
       "      <td>#微博辟谣#没有证据表明，吃大蒜、漱口水、涂抹芝麻油、生理盐水洗鼻子等手段可以防止感染新型冠...</td>\n",
       "      <td>['https://ww4.sinaimg.cn/orj360/6d2cc4e6ly1gbz...</td>\n",
       "      <td>[]</td>\n",
       "      <td>0</td>\n",
       "      <td>#微博辟谣#没有证据表明，吃大蒜、漱口水、涂抹芝麻油、生理盐水洗鼻子等手段可以防止感染新型冠...</td>\n",
       "      <td>#,微博,辟谣,#,没有,证据,表明,，,吃,大蒜,、,漱口水,、,涂抹,芝麻油,、,生理盐...</td>\n",
       "    </tr>\n",
       "    <tr>\n",
       "      <th>99998</th>\n",
       "      <td>4472950743017610</td>\n",
       "      <td>02月17日 13:40</td>\n",
       "      <td>医库</td>\n",
       "      <td>【新冠疫情最受关注的十一篇英文核心期刊论文全解析】本文整理了关于新型冠状病毒最受关注的十一篇...</td>\n",
       "      <td>[]</td>\n",
       "      <td>[]</td>\n",
       "      <td>1</td>\n",
       "      <td>【新冠疫情最受关注的十一篇英文核心期刊论文全解析】本文整理了关于新型冠状病毒最受关注的十一篇...</td>\n",
       "      <td>【,新冠,疫情,最受,关注,的,十一篇,英文,核心,期刊论文,全,解析,】,本文,整理,了,...</td>\n",
       "    </tr>\n",
       "    <tr>\n",
       "      <th>99999</th>\n",
       "      <td>4472870103356260</td>\n",
       "      <td>02月17日 08:19</td>\n",
       "      <td>有度为王</td>\n",
       "      <td>从蝙蝠携带的冠状病毒变异成2019-nCoV冠状病毒,怎样才能发生变异呢？有两种可能1.自然...</td>\n",
       "      <td>[]</td>\n",
       "      <td>[]</td>\n",
       "      <td>0</td>\n",
       "      <td>从蝙蝠携带的冠状病毒变异成2019-nCoV冠状病毒,怎样才能发生变异呢？有两种可能1.自然...</td>\n",
       "      <td>从,蝙蝠,携带,的,冠状病毒,变异,成,2019,-,nCoV,冠状病毒,,,怎样才能,发生...</td>\n",
       "    </tr>\n",
       "  </tbody>\n",
       "</table>\n",
       "<p>100000 rows × 9 columns</p>\n",
       "</div>"
      ],
      "text/plain": [
       "                 userid         ctime    username  \\\n",
       "0      4456072029125500  01月01日 23:50      存曦1988   \n",
       "1      4456074167480980  01月01日 23:58    LunaKrys   \n",
       "2      4456054253264520  01月01日 22:39   小王爷学辩论o_O   \n",
       "3      4456061509126470  01月01日 23:08          芩鎟   \n",
       "4      4455979322528190  01月01日 17:42    changlwj   \n",
       "...                 ...           ...         ...   \n",
       "99995  4473033438259880  02月17日 19:08     中国教育新闻网   \n",
       "99996  4472969222714290  02月17日 14:53  fuzhuoting   \n",
       "99997  4473035904435920  02月17日 19:18       蝌蚪五线谱   \n",
       "99998  4472950743017610  02月17日 13:40          医库   \n",
       "99999  4472870103356260  02月17日 08:19        有度为王   \n",
       "\n",
       "                                                 content  \\\n",
       "0      写在年末冬初孩子流感的第五天，我们仍然没有忘记热情拥抱这2020年的第一天。带着一丝迷信，早...   \n",
       "1        开年大模型…累到以为自己发烧了腰疼膝盖疼腿疼胳膊疼脖子疼#Luna的Krystallife#?   \n",
       "2      邱晨这就是我爹，爹，发烧快好，毕竟美好的假期拿来养病不太好，假期还是要好好享受快乐，爹，新...   \n",
       "3                         新年的第一天感冒又发烧的也太衰了但是我要想着明天一定会好的?   \n",
       "4      问：我们意念里有坏的想法了，天神就会给记下来，那如果有好的想法也会被记下来吗？答：那当然了。...   \n",
       "...                                                  ...   \n",
       "99995  #抗击新型肺炎第一线#【@中国计量大学研制新冠病毒蛋白标准样品】记者从中国计量大学获悉，新型...   \n",
       "99996  1、类RaTG13病毒（一种从云南蝙蝠身上分离出来的冠状病毒）可能是2019-nCoV的源头...   \n",
       "99997  #微博辟谣#没有证据表明，吃大蒜、漱口水、涂抹芝麻油、生理盐水洗鼻子等手段可以防止感染新型冠...   \n",
       "99998  【新冠疫情最受关注的十一篇英文核心期刊论文全解析】本文整理了关于新型冠状病毒最受关注的十一篇...   \n",
       "99999  从蝙蝠携带的冠状病毒变异成2019-nCoV冠状病毒,怎样才能发生变异呢？有两种可能1.自然...   \n",
       "\n",
       "                                                 picture video motion  \\\n",
       "0      ['https://ww2.sinaimg.cn/orj360/005VnA1zly1gah...    []      0   \n",
       "1                                                     []    []     -1   \n",
       "2      ['https://ww2.sinaimg.cn/thumb150/006ymYXKgy1g...    []      1   \n",
       "3      ['https://ww2.sinaimg.cn/orj360/005FL9LZgy1gah...    []      1   \n",
       "4                                                     []    []      1   \n",
       "...                                                  ...   ...    ...   \n",
       "99995  ['https://ww1.sinaimg.cn/orj360/682cebefly1gbz...    []      0   \n",
       "99996                                                 []    []      0   \n",
       "99997  ['https://ww4.sinaimg.cn/orj360/6d2cc4e6ly1gbz...    []      0   \n",
       "99998                                                 []    []      1   \n",
       "99999                                                 []    []      0   \n",
       "\n",
       "                                            content_copy  \\\n",
       "0      写在年末冬初孩子流感的第五天，我们仍然没有忘记热情拥抱这2020年的第一天。带着一丝迷信，早...   \n",
       "1        开年大模型…累到以为自己发烧了腰疼膝盖疼腿疼胳膊疼脖子疼#Luna的Krystallife#?   \n",
       "2      邱晨这就是我爹，爹，发烧快好，毕竟美好的假期拿来养病不太好，假期还是要好好享受快乐，爹，新...   \n",
       "3                         新年的第一天感冒又发烧的也太衰了但是我要想着明天一定会好的?   \n",
       "4      问：我们意念里有坏的想法了，天神就会给记下来，那如果有好的想法也会被记下来吗？答：那当然了。...   \n",
       "...                                                  ...   \n",
       "99995  #抗击新型肺炎第一线#【@中国计量大学研制新冠病毒蛋白标准样品】记者从中国计量大学获悉，新型...   \n",
       "99996  1、类RaTG13病毒（一种从云南蝙蝠身上分离出来的冠状病毒）可能是2019-nCoV的源头...   \n",
       "99997  #微博辟谣#没有证据表明，吃大蒜、漱口水、涂抹芝麻油、生理盐水洗鼻子等手段可以防止感染新型冠...   \n",
       "99998  【新冠疫情最受关注的十一篇英文核心期刊论文全解析】本文整理了关于新型冠状病毒最受关注的十一篇...   \n",
       "99999  从蝙蝠携带的冠状病毒变异成2019-nCoV冠状病毒,怎样才能发生变异呢？有两种可能1.自然...   \n",
       "\n",
       "                                             content_seq  \n",
       "0      写,在,年末,冬初,孩子,流感,的,第五天,，,我们,仍然,没有,忘记,热情,拥抱,这,20...  \n",
       "1      开年,大,模型,…,累到,以为,自己,发烧,了,腰疼,膝盖,疼,腿疼,胳膊,疼,脖子,疼,#...  \n",
       "2      ,邱晨,这,就是,我爹,，,爹,，,发烧,快,好,，,毕竟,美好,的,假期,拿来,养病,不...  \n",
       "3       新年,的,第一天,感冒,又,发烧,的,也,太衰,了,但是,我要,想着,明天,一定,会,好,的,?  \n",
       "4      问,：,我们,意念,里,有,坏,的,想法,了,，,天神,就,会,给,记下来,，,那,如果,有...  \n",
       "...                                                  ...  \n",
       "99995  #,抗击,新型,肺炎,第一线,#,【,@,中国,计量,大学,研制,新冠,病毒,蛋白,标准,样...  \n",
       "99996  1,、,类,RaTG13,病毒,（,一种,从,云南,蝙蝠,身上,分离出来,的,冠状病毒,）,...  \n",
       "99997  #,微博,辟谣,#,没有,证据,表明,，,吃,大蒜,、,漱口水,、,涂抹,芝麻油,、,生理盐...  \n",
       "99998  【,新冠,疫情,最受,关注,的,十一篇,英文,核心,期刊论文,全,解析,】,本文,整理,了,...  \n",
       "99999  从,蝙蝠,携带,的,冠状病毒,变异,成,2019,-,nCoV,冠状病毒,,,怎样才能,发生...  \n",
       "\n",
       "[100000 rows x 9 columns]"
      ]
     },
     "execution_count": 51,
     "metadata": {},
     "output_type": "execute_result"
    }
   ],
   "source": [
    "train.drop(['content_jieba'],axis=1)"
   ]
  },
  {
   "cell_type": "code",
   "execution_count": null,
   "id": "rapid-question",
   "metadata": {},
   "outputs": [],
   "source": []
  }
 ],
 "metadata": {
  "kernelspec": {
   "display_name": "Python 3",
   "language": "python",
   "name": "python3"
  },
  "language_info": {
   "codemirror_mode": {
    "name": "ipython",
    "version": 3
   },
   "file_extension": ".py",
   "mimetype": "text/x-python",
   "name": "python",
   "nbconvert_exporter": "python",
   "pygments_lexer": "ipython3",
   "version": "3.6.5"
  }
 },
 "nbformat": 4,
 "nbformat_minor": 5
}
