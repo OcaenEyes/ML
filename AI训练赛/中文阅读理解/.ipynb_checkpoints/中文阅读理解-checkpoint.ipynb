{
 "cells": [
  {
   "cell_type": "code",
   "execution_count": 1,
   "id": "registered-trainer",
   "metadata": {},
   "outputs": [],
   "source": [
    "import pandas as pd\n",
    "import numpy as np\n",
    "import json\n",
    "import matplotlib.pyplot as plt"
   ]
  },
  {
   "cell_type": "code",
   "execution_count": 3,
   "id": "disturbed-pressing",
   "metadata": {},
   "outputs": [],
   "source": [
    "with open(\"./dataset/train.json\",'r', encoding=\"UTF-8\") as f:\n",
    "    train_data = json.load(f)"
   ]
  },
  {
   "cell_type": "code",
   "execution_count": 4,
   "id": "mechanical-moscow",
   "metadata": {},
   "outputs": [
    {
     "data": {
      "text/plain": [
       "{'ID': 1,\n",
       " 'Content': '奉和袭美抱疾杜门见寄次韵  陆龟蒙虽失春城醉上期，下帷裁遍未裁诗。因吟郢岸百亩蕙，欲采商崖三秀芝。栖野鹤笼宽使织，施山僧饭别教炊。但医沈约重瞳健，不怕江花不满枝。',\n",
       " 'Questions': [{'Question': '下列对这首诗的理解和赏析，不正确的一项是',\n",
       "   'Choices': ['A．作者写作此诗之时，皮日休正患病居家，闭门谢客，与外界不通音讯。',\n",
       "    'B．由于友人患病，原有的约会被暂时搁置，作者游春的诗篇也未能写出。',\n",
       "    'C．作者虽然身在书斋从事教学，但心中盼望能走进自然，领略美好春光。',\n",
       "    'D．尾联使用了关于沈约的典故，可以由此推测皮日休所患的疾病是目疾。'],\n",
       "   'Answer': 'A',\n",
       "   'Q_id': '000101'}]}"
      ]
     },
     "execution_count": 4,
     "metadata": {},
     "output_type": "execute_result"
    }
   ],
   "source": [
    "train_data[0]"
   ]
  },
  {
   "cell_type": "code",
   "execution_count": 5,
   "id": "uniform-lending",
   "metadata": {},
   "outputs": [
    {
     "data": {
      "text/plain": [
       "6313"
      ]
     },
     "execution_count": 5,
     "metadata": {},
     "output_type": "execute_result"
    }
   ],
   "source": [
    "len(train_data)"
   ]
  },
  {
   "cell_type": "code",
   "execution_count": 7,
   "id": "paperback-practice",
   "metadata": {},
   "outputs": [
    {
     "data": {
      "text/plain": [
       "{'Question': '下列对这首诗的理解和赏析，不正确的一项是',\n",
       " 'Choices': ['A．作者写作此诗之时，皮日休正患病居家，闭门谢客，与外界不通音讯。',\n",
       "  'B．由于友人患病，原有的约会被暂时搁置，作者游春的诗篇也未能写出。',\n",
       "  'C．作者虽然身在书斋从事教学，但心中盼望能走进自然，领略美好春光。',\n",
       "  'D．尾联使用了关于沈约的典故，可以由此推测皮日休所患的疾病是目疾。'],\n",
       " 'Answer': 'A',\n",
       " 'Q_id': '000101',\n",
       " 'Content': '奉和袭美抱疾杜门见寄次韵  陆龟蒙虽失春城醉上期，下帷裁遍未裁诗。因吟郢岸百亩蕙，欲采商崖三秀芝。栖野鹤笼宽使织，施山僧饭别教炊。但医沈约重瞳健，不怕江花不满枝。'}"
      ]
     },
     "execution_count": 7,
     "metadata": {},
     "output_type": "execute_result"
    }
   ],
   "source": [
    "train_df = []\n",
    "\n",
    "for i in range(len(train_data)):\n",
    "    data = train_data[i]\n",
    "    content = data[\"Content\"]\n",
    "    questions = data[\"Questions\"]\n",
    "    for item in questions:\n",
    "        item[\"Content\"] = content\n",
    "        train_df.append(item)\n",
    "    \n",
    "train_df[0]"
   ]
  },
  {
   "cell_type": "code",
   "execution_count": 9,
   "id": "freelance-turkish",
   "metadata": {},
   "outputs": [],
   "source": [
    "train_df = pd.DataFrame(train_df)"
   ]
  },
  {
   "cell_type": "code",
   "execution_count": 10,
   "id": "visible-translator",
   "metadata": {},
   "outputs": [
    {
     "data": {
      "text/html": [
       "<div>\n",
       "<style scoped>\n",
       "    .dataframe tbody tr th:only-of-type {\n",
       "        vertical-align: middle;\n",
       "    }\n",
       "\n",
       "    .dataframe tbody tr th {\n",
       "        vertical-align: top;\n",
       "    }\n",
       "\n",
       "    .dataframe thead th {\n",
       "        text-align: right;\n",
       "    }\n",
       "</style>\n",
       "<table border=\"1\" class=\"dataframe\">\n",
       "  <thead>\n",
       "    <tr style=\"text-align: right;\">\n",
       "      <th></th>\n",
       "      <th>Question</th>\n",
       "      <th>Choices</th>\n",
       "      <th>Answer</th>\n",
       "      <th>Q_id</th>\n",
       "      <th>Content</th>\n",
       "    </tr>\n",
       "  </thead>\n",
       "  <tbody>\n",
       "    <tr>\n",
       "      <th>0</th>\n",
       "      <td>下列对这首诗的理解和赏析，不正确的一项是</td>\n",
       "      <td>[A．作者写作此诗之时，皮日休正患病居家，闭门谢客，与外界不通音讯。, B．由于友人患病，原...</td>\n",
       "      <td>A</td>\n",
       "      <td>000101</td>\n",
       "      <td>奉和袭美抱疾杜门见寄次韵  陆龟蒙虽失春城醉上期，下帷裁遍未裁诗。因吟郢岸百亩蕙，欲采商崖三...</td>\n",
       "    </tr>\n",
       "    <tr>\n",
       "      <th>1</th>\n",
       "      <td>1. 文中“肆虐”“凋凌”“昼夜兼程”“版图”“稚嫩”“嫣然”“抱憾退出”的词语中，有错别字...</td>\n",
       "      <td>[A. 肆虐  凋凌, B. 集结  昼夜兼程, C. 版图  稚嫩, D. 嫣然  抱憾退出]</td>\n",
       "      <td>A</td>\n",
       "      <td>000201</td>\n",
       "      <td>隆冬之际，西伯利亚的寒流（笼罩/席卷）欧亚大陆，狂风肆虐，草木凋凌，而那些春天的元素——温暖...</td>\n",
       "    </tr>\n",
       "    <tr>\n",
       "      <th>2</th>\n",
       "      <td>依次选用文中括号里的词语，最恰当的一项是</td>\n",
       "      <td>[A. 席卷  系  扩展, B. 笼罩  停  扩展, C. 席卷  停  扩充, D. ...</td>\n",
       "      <td>A</td>\n",
       "      <td>000202</td>\n",
       "      <td>隆冬之际，西伯利亚的寒流（笼罩/席卷）欧亚大陆，狂风肆虐，草木凋凌，而那些春天的元素——温暖...</td>\n",
       "    </tr>\n",
       "    <tr>\n",
       "      <th>3</th>\n",
       "      <td>下列对材料相关内容的理解，不正确的一项是</td>\n",
       "      <td>[A.量子通信把量子物理与信息技术结合起来，利用量子调控技术对信息进行编码、存储、传输和操纵...</td>\n",
       "      <td>D</td>\n",
       "      <td>000301</td>\n",
       "      <td>材料一：日前，中国科学院在京召开新闻发布会对外宣布“墨子号”进行科学实验卫星提前并圆满实现全...</td>\n",
       "    </tr>\n",
       "    <tr>\n",
       "      <th>4</th>\n",
       "      <td>下列对材料相关内容的概括和分析，不正确的一项是</td>\n",
       "      <td>[A.利用“墨子号”科学实验卫星研究量子密钥发布和量子隐形形态的量子通信技术，对国家信息安全...</td>\n",
       "      <td>C</td>\n",
       "      <td>000302</td>\n",
       "      <td>材料一：日前，中国科学院在京召开新闻发布会对外宣布“墨子号”进行科学实验卫星提前并圆满实现全...</td>\n",
       "    </tr>\n",
       "    <tr>\n",
       "      <th>...</th>\n",
       "      <td>...</td>\n",
       "      <td>...</td>\n",
       "      <td>...</td>\n",
       "      <td>...</td>\n",
       "      <td>...</td>\n",
       "    </tr>\n",
       "    <tr>\n",
       "      <th>15416</th>\n",
       "      <td>根据原文内容，下列说法不正确的一项是</td>\n",
       "      <td>[A．所谓“古今通”就是指要寻求中国法治的历史脉络，就是要通晓中国古今法治的联系，把握法治发...</td>\n",
       "      <td>B</td>\n",
       "      <td>631303</td>\n",
       "      <td>现在我国的法学教育出现了法学院专业设置越来越细的新情况，把原来一个法学院拆分为民商法学院、经...</td>\n",
       "    </tr>\n",
       "    <tr>\n",
       "      <th>15417</th>\n",
       "      <td>1.阅读原文内容，下列说法符合原文第一段和第二段内容的是</td>\n",
       "      <td>[A、“科学公园”刊登的那篇署名“挣脱枷锁的囚徒”的文章介绍了电离辐射的常识，通过那篇文章再...</td>\n",
       "      <td>C</td>\n",
       "      <td>631401</td>\n",
       "      <td>背景辐射没有危害吗\\n\\n方舟子\\n\\n有一个自称做“科普”的叫“科学公园”的网站，登了一篇...</td>\n",
       "    </tr>\n",
       "    <tr>\n",
       "      <th>15418</th>\n",
       "      <td>结合原文，有关“背景辐射”的理解不正确的一项是</td>\n",
       "      <td>[A、“背景辐射”也是“电离辐射”，也能对人体细胞造成损伤，当然对人体是有危害的，理论上任何...</td>\n",
       "      <td>D</td>\n",
       "      <td>631402</td>\n",
       "      <td>背景辐射没有危害吗\\n\\n方舟子\\n\\n有一个自称做“科普”的叫“科学公园”的网站，登了一篇...</td>\n",
       "    </tr>\n",
       "    <tr>\n",
       "      <th>15419</th>\n",
       "      <td>下列表述，与原文意思不符的一项是</td>\n",
       "      <td>[A．“提笔忘字”时不去翻字典，而是拿出手机用拼音打出忘记的字，反映的是越来越多的中国人不再...</td>\n",
       "      <td>C</td>\n",
       "      <td>631501</td>\n",
       "      <td>日前美国《洛杉矶时报》的一则报道一石激起千层浪：“由于使用拼音发手机短信及电脑打字正在取代拥...</td>\n",
       "    </tr>\n",
       "    <tr>\n",
       "      <th>15420</th>\n",
       "      <td>下列对汉字书写的表述，不准确的一项是</td>\n",
       "      <td>[A．汉字书写除了是生存和生活技能外，而且还寄托着中国文化之精髓，担负着重要的文化传承作用。...</td>\n",
       "      <td>C</td>\n",
       "      <td>631502</td>\n",
       "      <td>日前美国《洛杉矶时报》的一则报道一石激起千层浪：“由于使用拼音发手机短信及电脑打字正在取代拥...</td>\n",
       "    </tr>\n",
       "  </tbody>\n",
       "</table>\n",
       "<p>15421 rows × 5 columns</p>\n",
       "</div>"
      ],
      "text/plain": [
       "                                                Question  \\\n",
       "0                                   下列对这首诗的理解和赏析，不正确的一项是   \n",
       "1      1. 文中“肆虐”“凋凌”“昼夜兼程”“版图”“稚嫩”“嫣然”“抱憾退出”的词语中，有错别字...   \n",
       "2                                   依次选用文中括号里的词语，最恰当的一项是   \n",
       "3                                   下列对材料相关内容的理解，不正确的一项是   \n",
       "4                                下列对材料相关内容的概括和分析，不正确的一项是   \n",
       "...                                                  ...   \n",
       "15416                                 根据原文内容，下列说法不正确的一项是   \n",
       "15417                       1.阅读原文内容，下列说法符合原文第一段和第二段内容的是   \n",
       "15418                            结合原文，有关“背景辐射”的理解不正确的一项是   \n",
       "15419                                   下列表述，与原文意思不符的一项是   \n",
       "15420                                 下列对汉字书写的表述，不准确的一项是   \n",
       "\n",
       "                                                 Choices Answer    Q_id  \\\n",
       "0      [A．作者写作此诗之时，皮日休正患病居家，闭门谢客，与外界不通音讯。, B．由于友人患病，原...      A  000101   \n",
       "1       [A. 肆虐  凋凌, B. 集结  昼夜兼程, C. 版图  稚嫩, D. 嫣然  抱憾退出]      A  000201   \n",
       "2      [A. 席卷  系  扩展, B. 笼罩  停  扩展, C. 席卷  停  扩充, D. ...      A  000202   \n",
       "3      [A.量子通信把量子物理与信息技术结合起来，利用量子调控技术对信息进行编码、存储、传输和操纵...      D  000301   \n",
       "4      [A.利用“墨子号”科学实验卫星研究量子密钥发布和量子隐形形态的量子通信技术，对国家信息安全...      C  000302   \n",
       "...                                                  ...    ...     ...   \n",
       "15416  [A．所谓“古今通”就是指要寻求中国法治的历史脉络，就是要通晓中国古今法治的联系，把握法治发...      B  631303   \n",
       "15417  [A、“科学公园”刊登的那篇署名“挣脱枷锁的囚徒”的文章介绍了电离辐射的常识，通过那篇文章再...      C  631401   \n",
       "15418  [A、“背景辐射”也是“电离辐射”，也能对人体细胞造成损伤，当然对人体是有危害的，理论上任何...      D  631402   \n",
       "15419  [A．“提笔忘字”时不去翻字典，而是拿出手机用拼音打出忘记的字，反映的是越来越多的中国人不再...      C  631501   \n",
       "15420  [A．汉字书写除了是生存和生活技能外，而且还寄托着中国文化之精髓，担负着重要的文化传承作用。...      C  631502   \n",
       "\n",
       "                                                 Content  \n",
       "0      奉和袭美抱疾杜门见寄次韵  陆龟蒙虽失春城醉上期，下帷裁遍未裁诗。因吟郢岸百亩蕙，欲采商崖三...  \n",
       "1      隆冬之际，西伯利亚的寒流（笼罩/席卷）欧亚大陆，狂风肆虐，草木凋凌，而那些春天的元素——温暖...  \n",
       "2      隆冬之际，西伯利亚的寒流（笼罩/席卷）欧亚大陆，狂风肆虐，草木凋凌，而那些春天的元素——温暖...  \n",
       "3      材料一：日前，中国科学院在京召开新闻发布会对外宣布“墨子号”进行科学实验卫星提前并圆满实现全...  \n",
       "4      材料一：日前，中国科学院在京召开新闻发布会对外宣布“墨子号”进行科学实验卫星提前并圆满实现全...  \n",
       "...                                                  ...  \n",
       "15416  现在我国的法学教育出现了法学院专业设置越来越细的新情况，把原来一个法学院拆分为民商法学院、经...  \n",
       "15417  背景辐射没有危害吗\\n\\n方舟子\\n\\n有一个自称做“科普”的叫“科学公园”的网站，登了一篇...  \n",
       "15418  背景辐射没有危害吗\\n\\n方舟子\\n\\n有一个自称做“科普”的叫“科学公园”的网站，登了一篇...  \n",
       "15419  日前美国《洛杉矶时报》的一则报道一石激起千层浪：“由于使用拼音发手机短信及电脑打字正在取代拥...  \n",
       "15420  日前美国《洛杉矶时报》的一则报道一石激起千层浪：“由于使用拼音发手机短信及电脑打字正在取代拥...  \n",
       "\n",
       "[15421 rows x 5 columns]"
      ]
     },
     "execution_count": 10,
     "metadata": {},
     "output_type": "execute_result"
    }
   ],
   "source": [
    "train_df"
   ]
  },
  {
   "cell_type": "code",
   "execution_count": 12,
   "id": "younger-brighton",
   "metadata": {},
   "outputs": [
    {
     "data": {
      "text/html": [
       "<div>\n",
       "<style scoped>\n",
       "    .dataframe tbody tr th:only-of-type {\n",
       "        vertical-align: middle;\n",
       "    }\n",
       "\n",
       "    .dataframe tbody tr th {\n",
       "        vertical-align: top;\n",
       "    }\n",
       "\n",
       "    .dataframe thead th {\n",
       "        text-align: right;\n",
       "    }\n",
       "</style>\n",
       "<table border=\"1\" class=\"dataframe\">\n",
       "  <thead>\n",
       "    <tr style=\"text-align: right;\">\n",
       "      <th></th>\n",
       "      <th>Question</th>\n",
       "      <th>Choices</th>\n",
       "      <th>Answer</th>\n",
       "      <th>Q_id</th>\n",
       "      <th>Content</th>\n",
       "    </tr>\n",
       "  </thead>\n",
       "  <tbody>\n",
       "    <tr>\n",
       "      <th>0</th>\n",
       "      <td>下列对这首诗的理解和赏析，不正确的一项是</td>\n",
       "      <td>[A．作者写作此诗之时，皮日休正患病居家，闭门谢客，与外界不通音讯。, B．由于友人患病，原...</td>\n",
       "      <td>A</td>\n",
       "      <td>000101</td>\n",
       "      <td>奉和袭美抱疾杜门见寄次韵  陆龟蒙虽失春城醉上期，下帷裁遍未裁诗。因吟郢岸百亩蕙，欲采商崖三...</td>\n",
       "    </tr>\n",
       "    <tr>\n",
       "      <th>1</th>\n",
       "      <td>1. 文中“肆虐”“凋凌”“昼夜兼程”“版图”“稚嫩”“嫣然”“抱憾退出”的词语中，有错别字...</td>\n",
       "      <td>[A. 肆虐  凋凌, B. 集结  昼夜兼程, C. 版图  稚嫩, D. 嫣然  抱憾退出]</td>\n",
       "      <td>A</td>\n",
       "      <td>000201</td>\n",
       "      <td>隆冬之际，西伯利亚的寒流（笼罩/席卷）欧亚大陆，狂风肆虐，草木凋凌，而那些春天的元素——温暖...</td>\n",
       "    </tr>\n",
       "    <tr>\n",
       "      <th>2</th>\n",
       "      <td>依次选用文中括号里的词语，最恰当的一项是</td>\n",
       "      <td>[A. 席卷  系  扩展, B. 笼罩  停  扩展, C. 席卷  停  扩充, D. ...</td>\n",
       "      <td>A</td>\n",
       "      <td>000202</td>\n",
       "      <td>隆冬之际，西伯利亚的寒流（笼罩/席卷）欧亚大陆，狂风肆虐，草木凋凌，而那些春天的元素——温暖...</td>\n",
       "    </tr>\n",
       "    <tr>\n",
       "      <th>3</th>\n",
       "      <td>下列对材料相关内容的理解，不正确的一项是</td>\n",
       "      <td>[A.量子通信把量子物理与信息技术结合起来，利用量子调控技术对信息进行编码、存储、传输和操纵...</td>\n",
       "      <td>D</td>\n",
       "      <td>000301</td>\n",
       "      <td>材料一：日前，中国科学院在京召开新闻发布会对外宣布“墨子号”进行科学实验卫星提前并圆满实现全...</td>\n",
       "    </tr>\n",
       "    <tr>\n",
       "      <th>4</th>\n",
       "      <td>下列对材料相关内容的概括和分析，不正确的一项是</td>\n",
       "      <td>[A.利用“墨子号”科学实验卫星研究量子密钥发布和量子隐形形态的量子通信技术，对国家信息安全...</td>\n",
       "      <td>C</td>\n",
       "      <td>000302</td>\n",
       "      <td>材料一：日前，中国科学院在京召开新闻发布会对外宣布“墨子号”进行科学实验卫星提前并圆满实现全...</td>\n",
       "    </tr>\n",
       "  </tbody>\n",
       "</table>\n",
       "</div>"
      ],
      "text/plain": [
       "                                            Question  \\\n",
       "0                               下列对这首诗的理解和赏析，不正确的一项是   \n",
       "1  1. 文中“肆虐”“凋凌”“昼夜兼程”“版图”“稚嫩”“嫣然”“抱憾退出”的词语中，有错别字...   \n",
       "2                               依次选用文中括号里的词语，最恰当的一项是   \n",
       "3                               下列对材料相关内容的理解，不正确的一项是   \n",
       "4                            下列对材料相关内容的概括和分析，不正确的一项是   \n",
       "\n",
       "                                             Choices Answer    Q_id  \\\n",
       "0  [A．作者写作此诗之时，皮日休正患病居家，闭门谢客，与外界不通音讯。, B．由于友人患病，原...      A  000101   \n",
       "1   [A. 肆虐  凋凌, B. 集结  昼夜兼程, C. 版图  稚嫩, D. 嫣然  抱憾退出]      A  000201   \n",
       "2  [A. 席卷  系  扩展, B. 笼罩  停  扩展, C. 席卷  停  扩充, D. ...      A  000202   \n",
       "3  [A.量子通信把量子物理与信息技术结合起来，利用量子调控技术对信息进行编码、存储、传输和操纵...      D  000301   \n",
       "4  [A.利用“墨子号”科学实验卫星研究量子密钥发布和量子隐形形态的量子通信技术，对国家信息安全...      C  000302   \n",
       "\n",
       "                                             Content  \n",
       "0  奉和袭美抱疾杜门见寄次韵  陆龟蒙虽失春城醉上期，下帷裁遍未裁诗。因吟郢岸百亩蕙，欲采商崖三...  \n",
       "1  隆冬之际，西伯利亚的寒流（笼罩/席卷）欧亚大陆，狂风肆虐，草木凋凌，而那些春天的元素——温暖...  \n",
       "2  隆冬之际，西伯利亚的寒流（笼罩/席卷）欧亚大陆，狂风肆虐，草木凋凌，而那些春天的元素——温暖...  \n",
       "3  材料一：日前，中国科学院在京召开新闻发布会对外宣布“墨子号”进行科学实验卫星提前并圆满实现全...  \n",
       "4  材料一：日前，中国科学院在京召开新闻发布会对外宣布“墨子号”进行科学实验卫星提前并圆满实现全...  "
      ]
     },
     "execution_count": 12,
     "metadata": {},
     "output_type": "execute_result"
    }
   ],
   "source": [
    "train_df.head()"
   ]
  },
  {
   "cell_type": "code",
   "execution_count": 13,
   "id": "creative-uruguay",
   "metadata": {},
   "outputs": [],
   "source": [
    "with open(\"./dataset/validation.json\", 'r',encoding=\"UTF-8\") as f1:\n",
    "    test_data = json.load(f1)"
   ]
  },
  {
   "cell_type": "code",
   "execution_count": 14,
   "id": "looking-junction",
   "metadata": {},
   "outputs": [
    {
     "data": {
      "text/plain": [
       "{'ID': 1,\n",
       " 'Content': '周鼎传①公讳鼎，字实甫，自为童子时即以言动自持，趋立多中礼。早岁善属文，补邑诸生，坚意嗜读，贯综今古，而范诸先行，常倾其伦辈。②葵丑，成进士，为晋宁司理。居官廉正，吏惮其守，一切馈遗不敢入。治狱多平反，即疑案滞讼，一讯辄得其情。老胥巨猾皆咋舌退，周敢鬻法以上下其间。时有巡盐使者送犯拘罪，公讯无实，辄释之。其公方不阿类如此。③典试山东，持鉴朗察，所得皆知名士。方在闱中，薛韩城时为莱郡司理，手一卷力荐之。公视其文疵谬不可入穀．比至再，乃与同事者搜阅得一卷，共为击节，及发牍，为郝君名晋者，实宿寒名士。既复捷去，公方以得人为慰。④以左布政使调巡嘉湖，湖地剧难治，又多势家豪仆，飞舸肆掠，略无所忌。公一日过乌镇，见拥噪千人，号泣震远迩。询之，曰：“朱家奴掠人也。”立捕两奴及舟械至奴犹称相国从者意不下。公弗顾，益尽法惩之，民距跃称快。自是豪强屏息，终公之任，无敢暴掠为非。⑤公孝友出于至性，廉于其身，而处人唯恐不厚。与人相接。无贫富长幼皆整容礼之。或人有非理之请，虽亲厚必直辞拒之，不妄徇也。其在任时，戚属间有所欲言，公对庄语，多意沮而寝。居家垂二十年，敦伦赈乏，居德正俗，不出户庭而系天下之望，人以比之范文正云。',\n",
       " 'Questions': [{'Question': '文中“自是豪强屏息”中“屏”的意思是',\n",
       "   'Choices': ['A、屏住呼吸', 'B、收敛行迹', 'C、退避迁徙', 'D、抑止打压'],\n",
       "   'Q_id': '000101'},\n",
       "  {'Question': '文中“多意沮而寝”中“寝”的意思是',\n",
       "   'Choices': ['A、睡觉', 'B、丑陋', 'C、隐蔽', 'D、停止'],\n",
       "   'Q_id': '000102'},\n",
       "  {'Question': '第④段断句正确的一项是',\n",
       "   'Choices': ['A、立捕两奴/及舟械至奴/犹称相国/从者意不下。',\n",
       "    'B、立捕两奴/及舟/械至奴/犹称相国/从者意不下。',\n",
       "    'C、立捕两奴/及舟械至奴/犹称相国从者/意不下。',\n",
       "    'D、立捕两奴及舟械/至奴/犹称相国从者/意不下。'],\n",
       "   'Q_id': '000103'}],\n",
       " 'Type': '11',\n",
       " 'Diff': 1}"
      ]
     },
     "execution_count": 14,
     "metadata": {},
     "output_type": "execute_result"
    }
   ],
   "source": [
    "test_data[0]"
   ]
  },
  {
   "cell_type": "code",
   "execution_count": 15,
   "id": "tracked-logging",
   "metadata": {},
   "outputs": [],
   "source": [
    "test_df=[]"
   ]
  },
  {
   "cell_type": "code",
   "execution_count": 16,
   "id": "thousand-cholesterol",
   "metadata": {},
   "outputs": [],
   "source": [
    "for i in range(len(test_data)):\n",
    "    data = test_data[i]\n",
    "    content = data[\"Content\"]\n",
    "    questions = data[\"Questions\"]\n",
    "    qtype = data[\"Type\"]\n",
    "    diff = data[\"Diff\"]\n",
    "    for item in questions:\n",
    "        item[\"Content\"] = content\n",
    "        item[\"Type\"] = qtype\n",
    "        item[\"Diff\"] = diff\n",
    "        \n",
    "        test_df.append(item)"
   ]
  },
  {
   "cell_type": "code",
   "execution_count": 18,
   "id": "trying-cornwall",
   "metadata": {},
   "outputs": [],
   "source": [
    "test_df = pd.DataFrame(test_df)"
   ]
  },
  {
   "cell_type": "code",
   "execution_count": 19,
   "id": "cognitive-manufacturer",
   "metadata": {},
   "outputs": [
    {
     "data": {
      "text/html": [
       "<div>\n",
       "<style scoped>\n",
       "    .dataframe tbody tr th:only-of-type {\n",
       "        vertical-align: middle;\n",
       "    }\n",
       "\n",
       "    .dataframe tbody tr th {\n",
       "        vertical-align: top;\n",
       "    }\n",
       "\n",
       "    .dataframe thead th {\n",
       "        text-align: right;\n",
       "    }\n",
       "</style>\n",
       "<table border=\"1\" class=\"dataframe\">\n",
       "  <thead>\n",
       "    <tr style=\"text-align: right;\">\n",
       "      <th></th>\n",
       "      <th>Question</th>\n",
       "      <th>Choices</th>\n",
       "      <th>Q_id</th>\n",
       "      <th>Content</th>\n",
       "      <th>Type</th>\n",
       "      <th>Diff</th>\n",
       "    </tr>\n",
       "  </thead>\n",
       "  <tbody>\n",
       "    <tr>\n",
       "      <th>0</th>\n",
       "      <td>文中“自是豪强屏息”中“屏”的意思是</td>\n",
       "      <td>[A、屏住呼吸, B、收敛行迹, C、退避迁徙, D、抑止打压]</td>\n",
       "      <td>000101</td>\n",
       "      <td>周鼎传①公讳鼎，字实甫，自为童子时即以言动自持，趋立多中礼。早岁善属文，补邑诸生，坚意嗜读，...</td>\n",
       "      <td>11</td>\n",
       "      <td>1</td>\n",
       "    </tr>\n",
       "    <tr>\n",
       "      <th>1</th>\n",
       "      <td>文中“多意沮而寝”中“寝”的意思是</td>\n",
       "      <td>[A、睡觉, B、丑陋, C、隐蔽, D、停止]</td>\n",
       "      <td>000102</td>\n",
       "      <td>周鼎传①公讳鼎，字实甫，自为童子时即以言动自持，趋立多中礼。早岁善属文，补邑诸生，坚意嗜读，...</td>\n",
       "      <td>11</td>\n",
       "      <td>1</td>\n",
       "    </tr>\n",
       "    <tr>\n",
       "      <th>2</th>\n",
       "      <td>第④段断句正确的一项是</td>\n",
       "      <td>[A、立捕两奴/及舟械至奴/犹称相国/从者意不下。, B、立捕两奴/及舟/械至奴/犹称相国/...</td>\n",
       "      <td>000103</td>\n",
       "      <td>周鼎传①公讳鼎，字实甫，自为童子时即以言动自持，趋立多中礼。早岁善属文，补邑诸生，坚意嗜读，...</td>\n",
       "      <td>11</td>\n",
       "      <td>1</td>\n",
       "    </tr>\n",
       "    <tr>\n",
       "      <th>3</th>\n",
       "      <td>下列对文中\"三年权知礼部贡举会大雪苦寒士坐庭中噤未能言轼宽其禁约使得尽技巡铺内侍每摧辱举子且...</td>\n",
       "      <td>[A．三年/权知礼部贡举/会大雪苦寒/士坐庭中/噤未能言/轼宽其禁约/使得尽技/巡辅内侍每摧...</td>\n",
       "      <td>000201</td>\n",
       "      <td>苏轼字子瞻，眉州眉山人。母程氏亲授以书，闻古今成败，辄能语其要。嘉佑二年，试礼部，主司欧阳修...</td>\n",
       "      <td>11</td>\n",
       "      <td>6</td>\n",
       "    </tr>\n",
       "    <tr>\n",
       "      <th>4</th>\n",
       "      <td>下列对原文有关内容的概括和分析，不正确的一项是</td>\n",
       "      <td>[A．苏轼自幼聪颖，深受时贤赏识。母亲亲自为他授课，他往往能说出要点。欧阳修十分看重他，曾对...</td>\n",
       "      <td>000202</td>\n",
       "      <td>苏轼字子瞻，眉州眉山人。母程氏亲授以书，闻古今成败，辄能语其要。嘉佑二年，试礼部，主司欧阳修...</td>\n",
       "      <td>11</td>\n",
       "      <td>6</td>\n",
       "    </tr>\n",
       "  </tbody>\n",
       "</table>\n",
       "</div>"
      ],
      "text/plain": [
       "                                            Question  \\\n",
       "0                                 文中“自是豪强屏息”中“屏”的意思是   \n",
       "1                                  文中“多意沮而寝”中“寝”的意思是   \n",
       "2                                        第④段断句正确的一项是   \n",
       "3  下列对文中\"三年权知礼部贡举会大雪苦寒士坐庭中噤未能言轼宽其禁约使得尽技巡铺内侍每摧辱举子且...   \n",
       "4                            下列对原文有关内容的概括和分析，不正确的一项是   \n",
       "\n",
       "                                             Choices    Q_id  \\\n",
       "0                   [A、屏住呼吸, B、收敛行迹, C、退避迁徙, D、抑止打压]  000101   \n",
       "1                           [A、睡觉, B、丑陋, C、隐蔽, D、停止]  000102   \n",
       "2  [A、立捕两奴/及舟械至奴/犹称相国/从者意不下。, B、立捕两奴/及舟/械至奴/犹称相国/...  000103   \n",
       "3  [A．三年/权知礼部贡举/会大雪苦寒/士坐庭中/噤未能言/轼宽其禁约/使得尽技/巡辅内侍每摧...  000201   \n",
       "4  [A．苏轼自幼聪颖，深受时贤赏识。母亲亲自为他授课，他往往能说出要点。欧阳修十分看重他，曾对...  000202   \n",
       "\n",
       "                                             Content Type  Diff  \n",
       "0  周鼎传①公讳鼎，字实甫，自为童子时即以言动自持，趋立多中礼。早岁善属文，补邑诸生，坚意嗜读，...   11     1  \n",
       "1  周鼎传①公讳鼎，字实甫，自为童子时即以言动自持，趋立多中礼。早岁善属文，补邑诸生，坚意嗜读，...   11     1  \n",
       "2  周鼎传①公讳鼎，字实甫，自为童子时即以言动自持，趋立多中礼。早岁善属文，补邑诸生，坚意嗜读，...   11     1  \n",
       "3  苏轼字子瞻，眉州眉山人。母程氏亲授以书，闻古今成败，辄能语其要。嘉佑二年，试礼部，主司欧阳修...   11     6  \n",
       "4  苏轼字子瞻，眉州眉山人。母程氏亲授以书，闻古今成败，辄能语其要。嘉佑二年，试礼部，主司欧阳修...   11     6  "
      ]
     },
     "execution_count": 19,
     "metadata": {},
     "output_type": "execute_result"
    }
   ],
   "source": [
    "test_df.head()"
   ]
  },
  {
   "cell_type": "code",
   "execution_count": null,
   "id": "suburban-screw",
   "metadata": {},
   "outputs": [],
   "source": []
  }
 ],
 "metadata": {
  "kernelspec": {
   "display_name": "Python 3",
   "language": "python",
   "name": "python3"
  },
  "language_info": {
   "codemirror_mode": {
    "name": "ipython",
    "version": 3
   },
   "file_extension": ".py",
   "mimetype": "text/x-python",
   "name": "python",
   "nbconvert_exporter": "python",
   "pygments_lexer": "ipython3",
   "version": "3.6.5"
  }
 },
 "nbformat": 4,
 "nbformat_minor": 5
}
