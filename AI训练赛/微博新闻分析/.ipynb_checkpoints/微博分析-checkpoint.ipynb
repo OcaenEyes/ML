{
 "cells": [
  {
   "cell_type": "code",
   "execution_count": 1,
   "id": "upset-stuff",
   "metadata": {},
   "outputs": [
    {
     "data": {
      "text/plain": [
       "'/Users/gaozhiyong/Documents/pyenv/pyenv3.6/bin/python'"
      ]
     },
     "execution_count": 1,
     "metadata": {},
     "output_type": "execute_result"
    }
   ],
   "source": [
    "import sys\n",
    "sys.executable"
   ]
  },
  {
   "cell_type": "code",
   "execution_count": 2,
   "id": "split-mistress",
   "metadata": {},
   "outputs": [],
   "source": [
    "import pandas as pd\n",
    "import jieba\n",
    "import wordcloud\n",
    "import matplotlib.pyplot as plt\n",
    "import seaborn as sns"
   ]
  },
  {
   "cell_type": "code",
   "execution_count": 3,
   "id": "adaptive-organizer",
   "metadata": {},
   "outputs": [],
   "source": [
    "data = pd.read_csv(\"微博新闻数据集.csv\")"
   ]
  },
  {
   "cell_type": "code",
   "execution_count": 4,
   "id": "hungarian-youth",
   "metadata": {},
   "outputs": [
    {
     "data": {
      "text/html": [
       "<div>\n",
       "<style scoped>\n",
       "    .dataframe tbody tr th:only-of-type {\n",
       "        vertical-align: middle;\n",
       "    }\n",
       "\n",
       "    .dataframe tbody tr th {\n",
       "        vertical-align: top;\n",
       "    }\n",
       "\n",
       "    .dataframe thead th {\n",
       "        text-align: right;\n",
       "    }\n",
       "</style>\n",
       "<table border=\"1\" class=\"dataframe\">\n",
       "  <thead>\n",
       "    <tr style=\"text-align: right;\">\n",
       "      <th></th>\n",
       "      <th>id</th>\n",
       "      <th>content</th>\n",
       "      <th>picture_lists</th>\n",
       "      <th>category</th>\n",
       "      <th>ncw_label</th>\n",
       "      <th>fake_label</th>\n",
       "      <th>real_label</th>\n",
       "      <th>comment_2c</th>\n",
       "      <th>comment_all</th>\n",
       "    </tr>\n",
       "  </thead>\n",
       "  <tbody>\n",
       "    <tr>\n",
       "      <th>0</th>\n",
       "      <td>4028762460708675</td>\n",
       "      <td>回复新浪网友对博文【国家文物局限制鉴宝节目现场估价转】的评论：;;查看原文：</td>\n",
       "      <td>NaN</td>\n",
       "      <td>文体娱乐</td>\n",
       "      <td>0</td>\n",
       "      <td>0</td>\n",
       "      <td>1</td>\n",
       "      <td>NaN</td>\n",
       "      <td>NaN</td>\n",
       "    </tr>\n",
       "    <tr>\n",
       "      <th>1</th>\n",
       "      <td>4126670854660291</td>\n",
       "      <td>//分享网易新闻:《发生在昆明的火锅店老板“辱滇门”，云南人该愤怒还是羞愧》|发生在昆明.....</td>\n",
       "      <td>63ad082a189566eed7c4bb3e4bc55012.jpg</td>\n",
       "      <td>社会生活</td>\n",
       "      <td>0</td>\n",
       "      <td>0</td>\n",
       "      <td>1</td>\n",
       "      <td>NaN</td>\n",
       "      <td>NaN</td>\n",
       "    </tr>\n",
       "    <tr>\n",
       "      <th>2</th>\n",
       "      <td>3702441948299962</td>\n",
       "      <td>西宁城管围殴民警扬言要把警察打死|西宁城管围...</td>\n",
       "      <td>4986dc2a5f09a87c7af5dfc57d7775cd.jpg</td>\n",
       "      <td>社会生活</td>\n",
       "      <td>0</td>\n",
       "      <td>0</td>\n",
       "      <td>1</td>\n",
       "      <td>NaN</td>\n",
       "      <td>NaN</td>\n",
       "    </tr>\n",
       "    <tr>\n",
       "      <th>3</th>\n",
       "      <td>4239549419245466</td>\n",
       "      <td>【川航航班因驾驶舱风挡破裂安全备降成都】今天上午6:26从重庆江北国际机场出发前往拉萨的四川...</td>\n",
       "      <td>dcfccfc69e90a0007afd6aafa1385e56.jpg</td>\n",
       "      <td>社会生活</td>\n",
       "      <td>0</td>\n",
       "      <td>0</td>\n",
       "      <td>1</td>\n",
       "      <td>NaN</td>\n",
       "      <td>NaN</td>\n",
       "    </tr>\n",
       "    <tr>\n",
       "      <th>4</th>\n",
       "      <td>3966337217183260</td>\n",
       "      <td>支持郑强！！！//【贵州大学校长回应空姐言论:常给她们写感谢信】</td>\n",
       "      <td>NaN</td>\n",
       "      <td>社会生活</td>\n",
       "      <td>0</td>\n",
       "      <td>0</td>\n",
       "      <td>1</td>\n",
       "      <td>NaN</td>\n",
       "      <td>NaN</td>\n",
       "    </tr>\n",
       "    <tr>\n",
       "      <th>...</th>\n",
       "      <td>...</td>\n",
       "      <td>...</td>\n",
       "      <td>...</td>\n",
       "      <td>...</td>\n",
       "      <td>...</td>\n",
       "      <td>...</td>\n",
       "      <td>...</td>\n",
       "      <td>...</td>\n",
       "      <td>...</td>\n",
       "    </tr>\n",
       "    <tr>\n",
       "      <th>49905</th>\n",
       "      <td>4281576541648565</td>\n",
       "      <td>\\t\\t奇妙的食光声明 网传的奇妙的食光澳洲冲突事件告一段落！庭审结果没有罚款没有赔偿没有逮...</td>\n",
       "      <td>1599889a0b2357a4e1464b532a046f58.jpg\\t3d20edbf...</td>\n",
       "      <td>文体娱乐</td>\n",
       "      <td>1</td>\n",
       "      <td>0</td>\n",
       "      <td>0</td>\n",
       "      <td>哪个台的\\t不评论打人行为的话，那私生本身就很可怕\\t</td>\n",
       "      <td>哪个台的\\t不评论打人行为的话，那私生本身就很可怕\\t代拍卖图随随便便大把钱，跟车别车、无视...</td>\n",
       "    </tr>\n",
       "    <tr>\n",
       "      <th>49906</th>\n",
       "      <td>4300177235889695</td>\n",
       "      <td>#请陈立农工作室立刻停止不合理商业合作# 望贵公司可以好好规划艺人的发展，宁缺毋滥，这次的事...</td>\n",
       "      <td>d9904fccbc04bee388a92786a379c197.jpg</td>\n",
       "      <td>文体娱乐</td>\n",
       "      <td>1</td>\n",
       "      <td>0</td>\n",
       "      <td>0</td>\n",
       "      <td>请正面回应\\t不支持！@陳立農工作室[微笑][微笑]1\\t</td>\n",
       "      <td>请正面回应\\t不支持！@陳立農工作室[微笑][微笑]1\\t我真是气到死！\\t来，我们谈谈人生...</td>\n",
       "    </tr>\n",
       "    <tr>\n",
       "      <th>49907</th>\n",
       "      <td>4301684919880140</td>\n",
       "      <td>很多未成年少女被侵犯恰恰是那些熟悉的人，意想不到的。《高铁事件到底是不是猥亵？多位专家给了说...</td>\n",
       "      <td>651303513fd7e8487163d9ace9757d9c.jpg</td>\n",
       "      <td>社会生活</td>\n",
       "      <td>1</td>\n",
       "      <td>0</td>\n",
       "      <td>0</td>\n",
       "      <td>NaN</td>\n",
       "      <td>NaN</td>\n",
       "    </tr>\n",
       "    <tr>\n",
       "      <th>49908</th>\n",
       "      <td>4302998223949938</td>\n",
       "      <td>#官方回应车轮带泥被罚#这一案例，就像发生在浙江省金华市多湖派出所丢失警犬处理一案那样，是警...</td>\n",
       "      <td>5df69b4bb412a48f4055c4d9e6a3d85e.jpg\\t0b52423e...</td>\n",
       "      <td>社会生活</td>\n",
       "      <td>1</td>\n",
       "      <td>0</td>\n",
       "      <td>0</td>\n",
       "      <td>小散们最无助的时候，只有@股市抄盘能带你们起飞。今天又板了2支\\t希望能改进服务态度。\\t</td>\n",
       "      <td>小散们最无助的时候，只有@股市抄盘能带你们起飞。今天又板了2支\\t希望能改进服务态度。\\t扬...</td>\n",
       "    </tr>\n",
       "    <tr>\n",
       "      <th>49909</th>\n",
       "      <td>4301326785542331</td>\n",
       "      <td>【父亲应教给孩子的15件事】网传“诈尸式育儿”，具体是指父亲在家庭教育中经常缺位，却又偶尔在...</td>\n",
       "      <td>88fa02e2efe83ac4ce1d0505e4b50894.jpg\\tc3aecbe4...</td>\n",
       "      <td>社会生活</td>\n",
       "      <td>1</td>\n",
       "      <td>0</td>\n",
       "      <td>0</td>\n",
       "      <td>回复@嘿明先生的表态:[中国赞]\\t@tony小强哥\\t</td>\n",
       "      <td>回复@嘿明先生的表态:[中国赞]\\t@tony小强哥\\t回复@啊哈哈iq狂想曲的表态:[米奇...</td>\n",
       "    </tr>\n",
       "  </tbody>\n",
       "</table>\n",
       "<p>49910 rows × 9 columns</p>\n",
       "</div>"
      ],
      "text/plain": [
       "                     id                                            content  \\\n",
       "0      4028762460708675             回复新浪网友对博文【国家文物局限制鉴宝节目现场估价转】的评论：;;查看原文：   \n",
       "1      4126670854660291  //分享网易新闻:《发生在昆明的火锅店老板“辱滇门”，云南人该愤怒还是羞愧》|发生在昆明.....   \n",
       "2      3702441948299962                          西宁城管围殴民警扬言要把警察打死|西宁城管围...   \n",
       "3      4239549419245466  【川航航班因驾驶舱风挡破裂安全备降成都】今天上午6:26从重庆江北国际机场出发前往拉萨的四川...   \n",
       "4      3966337217183260                   支持郑强！！！//【贵州大学校长回应空姐言论:常给她们写感谢信】   \n",
       "...                 ...                                                ...   \n",
       "49905  4281576541648565  \\t\\t奇妙的食光声明 网传的奇妙的食光澳洲冲突事件告一段落！庭审结果没有罚款没有赔偿没有逮...   \n",
       "49906  4300177235889695  #请陈立农工作室立刻停止不合理商业合作# 望贵公司可以好好规划艺人的发展，宁缺毋滥，这次的事...   \n",
       "49907  4301684919880140  很多未成年少女被侵犯恰恰是那些熟悉的人，意想不到的。《高铁事件到底是不是猥亵？多位专家给了说...   \n",
       "49908  4302998223949938  #官方回应车轮带泥被罚#这一案例，就像发生在浙江省金华市多湖派出所丢失警犬处理一案那样，是警...   \n",
       "49909  4301326785542331  【父亲应教给孩子的15件事】网传“诈尸式育儿”，具体是指父亲在家庭教育中经常缺位，却又偶尔在...   \n",
       "\n",
       "                                           picture_lists category  ncw_label  \\\n",
       "0                                                    NaN     文体娱乐          0   \n",
       "1                   63ad082a189566eed7c4bb3e4bc55012.jpg     社会生活          0   \n",
       "2                   4986dc2a5f09a87c7af5dfc57d7775cd.jpg     社会生活          0   \n",
       "3                   dcfccfc69e90a0007afd6aafa1385e56.jpg     社会生活          0   \n",
       "4                                                    NaN     社会生活          0   \n",
       "...                                                  ...      ...        ...   \n",
       "49905  1599889a0b2357a4e1464b532a046f58.jpg\\t3d20edbf...     文体娱乐          1   \n",
       "49906               d9904fccbc04bee388a92786a379c197.jpg     文体娱乐          1   \n",
       "49907               651303513fd7e8487163d9ace9757d9c.jpg     社会生活          1   \n",
       "49908  5df69b4bb412a48f4055c4d9e6a3d85e.jpg\\t0b52423e...     社会生活          1   \n",
       "49909  88fa02e2efe83ac4ce1d0505e4b50894.jpg\\tc3aecbe4...     社会生活          1   \n",
       "\n",
       "       fake_label  real_label                                     comment_2c  \\\n",
       "0               0           1                                            NaN   \n",
       "1               0           1                                            NaN   \n",
       "2               0           1                                            NaN   \n",
       "3               0           1                                            NaN   \n",
       "4               0           1                                            NaN   \n",
       "...           ...         ...                                            ...   \n",
       "49905           0           0                    哪个台的\\t不评论打人行为的话，那私生本身就很可怕\\t   \n",
       "49906           0           0                  请正面回应\\t不支持！@陳立農工作室[微笑][微笑]1\\t   \n",
       "49907           0           0                                            NaN   \n",
       "49908           0           0  小散们最无助的时候，只有@股市抄盘能带你们起飞。今天又板了2支\\t希望能改进服务态度。\\t   \n",
       "49909           0           0                   回复@嘿明先生的表态:[中国赞]\\t@tony小强哥\\t   \n",
       "\n",
       "                                             comment_all  \n",
       "0                                                    NaN  \n",
       "1                                                    NaN  \n",
       "2                                                    NaN  \n",
       "3                                                    NaN  \n",
       "4                                                    NaN  \n",
       "...                                                  ...  \n",
       "49905  哪个台的\\t不评论打人行为的话，那私生本身就很可怕\\t代拍卖图随随便便大把钱，跟车别车、无视...  \n",
       "49906  请正面回应\\t不支持！@陳立農工作室[微笑][微笑]1\\t我真是气到死！\\t来，我们谈谈人生...  \n",
       "49907                                                NaN  \n",
       "49908  小散们最无助的时候，只有@股市抄盘能带你们起飞。今天又板了2支\\t希望能改进服务态度。\\t扬...  \n",
       "49909  回复@嘿明先生的表态:[中国赞]\\t@tony小强哥\\t回复@啊哈哈iq狂想曲的表态:[米奇...  \n",
       "\n",
       "[49910 rows x 9 columns]"
      ]
     },
     "execution_count": 4,
     "metadata": {},
     "output_type": "execute_result"
    }
   ],
   "source": [
    "data"
   ]
  },
  {
   "cell_type": "code",
   "execution_count": 5,
   "id": "scenic-exception",
   "metadata": {},
   "outputs": [
    {
     "name": "stdout",
     "output_type": "stream",
     "text": [
      "<class 'pandas.core.frame.DataFrame'>\n",
      "RangeIndex: 49910 entries, 0 to 49909\n",
      "Data columns (total 9 columns):\n",
      " #   Column         Non-Null Count  Dtype \n",
      "---  ------         --------------  ----- \n",
      " 0   id             49910 non-null  object\n",
      " 1   content        49910 non-null  object\n",
      " 2   picture_lists  29625 non-null  object\n",
      " 3   category       49910 non-null  object\n",
      " 4   ncw_label      49910 non-null  int64 \n",
      " 5   fake_label     49910 non-null  int64 \n",
      " 6   real_label     49910 non-null  int64 \n",
      " 7   comment_2c     22689 non-null  object\n",
      " 8   comment_all    22689 non-null  object\n",
      "dtypes: int64(3), object(6)\n",
      "memory usage: 3.4+ MB\n"
     ]
    }
   ],
   "source": [
    "data.info()"
   ]
  },
  {
   "cell_type": "code",
   "execution_count": 6,
   "id": "engaged-advertiser",
   "metadata": {},
   "outputs": [
    {
     "name": "stdout",
     "output_type": "stream",
     "text": [
      "回复新浪网友对博文【国家文物局限制鉴宝节目现场估价转】的评论：;;查看原文：\n",
      "//分享网易新闻:《发生在昆明的火锅店老板“辱滇门”，云南人该愤怒还是羞愧》|发生在昆明...@网易新闻客户端#网易新闻#\n",
      "西宁城管围殴民警扬言要把警察打死|西宁城管围...\n"
     ]
    }
   ],
   "source": [
    "for i in data[:3]['content']:\n",
    "    print(i)\n",
    "    "
   ]
  },
  {
   "cell_type": "code",
   "execution_count": 7,
   "id": "simple-kitchen",
   "metadata": {},
   "outputs": [
    {
     "data": {
      "text/plain": [
       "category\n",
       "社会生活    22258\n",
       "文体娱乐    10232\n",
       "医药健康     8123\n",
       "科技       2506\n",
       "财经商业     2267\n",
       "军事       1978\n",
       "政治       1544\n",
       "教育考试     1002\n",
       "Name: id, dtype: int64"
      ]
     },
     "execution_count": 7,
     "metadata": {},
     "output_type": "execute_result"
    }
   ],
   "source": [
    "data.groupby('category')['id'].count().sort_values(ascending=False)"
   ]
  },
  {
   "cell_type": "code",
   "execution_count": 8,
   "id": "extreme-cancellation",
   "metadata": {},
   "outputs": [],
   "source": [
    "count1 = data.groupby('category')['id'].count().sort_values(ascending=False).reset_index()"
   ]
  },
  {
   "cell_type": "code",
   "execution_count": 9,
   "id": "musical-reviewer",
   "metadata": {},
   "outputs": [],
   "source": [
    "count1.columns=['category','count']"
   ]
  },
  {
   "cell_type": "code",
   "execution_count": 10,
   "id": "informative-assurance",
   "metadata": {},
   "outputs": [
    {
     "data": {
      "text/html": [
       "<div>\n",
       "<style scoped>\n",
       "    .dataframe tbody tr th:only-of-type {\n",
       "        vertical-align: middle;\n",
       "    }\n",
       "\n",
       "    .dataframe tbody tr th {\n",
       "        vertical-align: top;\n",
       "    }\n",
       "\n",
       "    .dataframe thead th {\n",
       "        text-align: right;\n",
       "    }\n",
       "</style>\n",
       "<table border=\"1\" class=\"dataframe\">\n",
       "  <thead>\n",
       "    <tr style=\"text-align: right;\">\n",
       "      <th></th>\n",
       "      <th>category</th>\n",
       "      <th>count</th>\n",
       "    </tr>\n",
       "  </thead>\n",
       "  <tbody>\n",
       "    <tr>\n",
       "      <th>0</th>\n",
       "      <td>社会生活</td>\n",
       "      <td>22258</td>\n",
       "    </tr>\n",
       "    <tr>\n",
       "      <th>1</th>\n",
       "      <td>文体娱乐</td>\n",
       "      <td>10232</td>\n",
       "    </tr>\n",
       "    <tr>\n",
       "      <th>2</th>\n",
       "      <td>医药健康</td>\n",
       "      <td>8123</td>\n",
       "    </tr>\n",
       "    <tr>\n",
       "      <th>3</th>\n",
       "      <td>科技</td>\n",
       "      <td>2506</td>\n",
       "    </tr>\n",
       "    <tr>\n",
       "      <th>4</th>\n",
       "      <td>财经商业</td>\n",
       "      <td>2267</td>\n",
       "    </tr>\n",
       "    <tr>\n",
       "      <th>5</th>\n",
       "      <td>军事</td>\n",
       "      <td>1978</td>\n",
       "    </tr>\n",
       "    <tr>\n",
       "      <th>6</th>\n",
       "      <td>政治</td>\n",
       "      <td>1544</td>\n",
       "    </tr>\n",
       "    <tr>\n",
       "      <th>7</th>\n",
       "      <td>教育考试</td>\n",
       "      <td>1002</td>\n",
       "    </tr>\n",
       "  </tbody>\n",
       "</table>\n",
       "</div>"
      ],
      "text/plain": [
       "  category  count\n",
       "0     社会生活  22258\n",
       "1     文体娱乐  10232\n",
       "2     医药健康   8123\n",
       "3       科技   2506\n",
       "4     财经商业   2267\n",
       "5       军事   1978\n",
       "6       政治   1544\n",
       "7     教育考试   1002"
      ]
     },
     "execution_count": 10,
     "metadata": {},
     "output_type": "execute_result"
    }
   ],
   "source": [
    "count1"
   ]
  },
  {
   "cell_type": "code",
   "execution_count": 11,
   "id": "specified-punch",
   "metadata": {},
   "outputs": [],
   "source": [
    "#通过下面这行解决MAC OS中文乱码问题\n",
    "# plt.rcParams['font.family'] = ['Arial Unicode MS'] #用来正常显示中文标签\n",
    "# plt.rcParams['axes.unicode_minus'] = False #用来正常显示负号\n",
    "\n",
    "sns.set_style('whitegrid',{'font.sans-serif':['Arial Unicode MS','Arial']})"
   ]
  },
  {
   "cell_type": "code",
   "execution_count": 12,
   "id": "unable-abortion",
   "metadata": {},
   "outputs": [
    {
     "data": {
      "text/plain": [
       "<AxesSubplot:xlabel='category', ylabel='count'>"
      ]
     },
     "execution_count": 12,
     "metadata": {},
     "output_type": "execute_result"
    },
    {
     "data": {
      "image/png": "[encoded data removed]",
      "text/plain": [
       "<Figure size 432x288 with 1 Axes>"
      ]
     },
     "metadata": {},
     "output_type": "display_data"
    }
   ],
   "source": [
    "sns.barplot(x=count1['category'], y=count1['count'],)"
   ]
  },
  {
   "cell_type": "code",
   "execution_count": 13,
   "id": "neither-marijuana",
   "metadata": {},
   "outputs": [
    {
     "data": {
      "image/png": "[encoded data removed]",
      "text/plain": [
       "<Figure size 432x288 with 1 Axes>"
      ]
     },
     "metadata": {},
     "output_type": "display_data"
    }
   ],
   "source": [
    "g = sns.barplot(data=count1,x='category',y='count')"
   ]
  },
  {
   "cell_type": "code",
   "execution_count": null,
   "id": "widespread-notice",
   "metadata": {},
   "outputs": [],
   "source": [
    "wordcloud.WordCloud()"
   ]
  }
 ],
 "metadata": {
  "kernelspec": {
   "display_name": "Python 3",
   "language": "python",
   "name": "python3"
  },
  "language_info": {
   "codemirror_mode": {
    "name": "ipython",
    "version": 3
   },
   "file_extension": ".py",
   "mimetype": "text/x-python",
   "name": "python",
   "nbconvert_exporter": "python",
   "pygments_lexer": "ipython3",
   "version": "3.6.5"
  }
 },
 "nbformat": 4,
 "nbformat_minor": 5
}
