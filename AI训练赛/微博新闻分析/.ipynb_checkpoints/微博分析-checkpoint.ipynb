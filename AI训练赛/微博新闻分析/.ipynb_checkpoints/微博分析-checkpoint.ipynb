{
 "cells": [
  {
   "cell_type": "code",
   "execution_count": 1,
   "id": "f9e99068",
   "metadata": {},
   "outputs": [
    {
     "data": {
      "text/plain": [
       "'c:\\\\users\\\\ysilhouette\\\\documents\\\\pyenv\\\\py3.6.5\\\\scripts\\\\python.exe'"
      ]
     },
     "execution_count": 1,
     "metadata": {},
     "output_type": "execute_result"
    }
   ],
   "source": [
    "import sys\n",
    "sys.executable"
   ]
  },
  {
   "cell_type": "code",
   "execution_count": 2,
   "id": "1cd145c1",
   "metadata": {},
   "outputs": [],
   "source": [
    "import pandas as pd\n",
    "import jieba\n",
    "import wordcloud\n",
    "import matplotlib.pyplot as plt\n",
    "import seaborn as sns"
   ]
  },
  {
   "cell_type": "code",
   "execution_count": 3,
   "id": "75830d0a",
   "metadata": {},
   "outputs": [],
   "source": [
    "data = pd.read_csv(\"微博新闻数据集.csv\")"
   ]
  },
  {
   "cell_type": "code",
   "execution_count": 4,
   "id": "90ff3f8b",
   "metadata": {},
   "outputs": [
    {
     "data": {
      "text/html": [
       "<div>\n",
       "<style scoped>\n",
       "    .dataframe tbody tr th:only-of-type {\n",
       "        vertical-align: middle;\n",
       "    }\n",
       "\n",
       "    .dataframe tbody tr th {\n",
       "        vertical-align: top;\n",
       "    }\n",
       "\n",
       "    .dataframe thead th {\n",
       "        text-align: right;\n",
       "    }\n",
       "</style>\n",
       "<table border=\"1\" class=\"dataframe\">\n",
       "  <thead>\n",
       "    <tr style=\"text-align: right;\">\n",
       "      <th></th>\n",
       "      <th>id</th>\n",
       "      <th>content</th>\n",
       "      <th>picture_lists</th>\n",
       "      <th>category</th>\n",
       "      <th>ncw_label</th>\n",
       "      <th>fake_label</th>\n",
       "      <th>real_label</th>\n",
       "      <th>comment_2c</th>\n",
       "      <th>comment_all</th>\n",
       "    </tr>\n",
       "  </thead>\n",
       "  <tbody>\n",
       "    <tr>\n",
       "      <th>0</th>\n",
       "      <td>4028762460708675</td>\n",
       "      <td>回复新浪网友对博文【国家文物局限制鉴宝节目现场估价转】的评论：;;查看原文：</td>\n",
       "      <td>NaN</td>\n",
       "      <td>文体娱乐</td>\n",
       "      <td>0</td>\n",
       "      <td>0</td>\n",
       "      <td>1</td>\n",
       "      <td>NaN</td>\n",
       "      <td>NaN</td>\n",
       "    </tr>\n",
       "    <tr>\n",
       "      <th>1</th>\n",
       "      <td>4126670854660291</td>\n",
       "      <td>//分享网易新闻:《发生在昆明的火锅店老板“辱滇门”，云南人该愤怒还是羞愧》|发生在昆明.....</td>\n",
       "      <td>63ad082a189566eed7c4bb3e4bc55012.jpg</td>\n",
       "      <td>社会生活</td>\n",
       "      <td>0</td>\n",
       "      <td>0</td>\n",
       "      <td>1</td>\n",
       "      <td>NaN</td>\n",
       "      <td>NaN</td>\n",
       "    </tr>\n",
       "    <tr>\n",
       "      <th>2</th>\n",
       "      <td>3702441948299962</td>\n",
       "      <td>西宁城管围殴民警扬言要把警察打死|西宁城管围...</td>\n",
       "      <td>4986dc2a5f09a87c7af5dfc57d7775cd.jpg</td>\n",
       "      <td>社会生活</td>\n",
       "      <td>0</td>\n",
       "      <td>0</td>\n",
       "      <td>1</td>\n",
       "      <td>NaN</td>\n",
       "      <td>NaN</td>\n",
       "    </tr>\n",
       "    <tr>\n",
       "      <th>3</th>\n",
       "      <td>4239549419245466</td>\n",
       "      <td>【川航航班因驾驶舱风挡破裂安全备降成都】今天上午6:26从重庆江北国际机场出发前往拉萨的四川...</td>\n",
       "      <td>dcfccfc69e90a0007afd6aafa1385e56.jpg</td>\n",
       "      <td>社会生活</td>\n",
       "      <td>0</td>\n",
       "      <td>0</td>\n",
       "      <td>1</td>\n",
       "      <td>NaN</td>\n",
       "      <td>NaN</td>\n",
       "    </tr>\n",
       "    <tr>\n",
       "      <th>4</th>\n",
       "      <td>3966337217183260</td>\n",
       "      <td>支持郑强！！！//【贵州大学校长回应空姐言论:常给她们写感谢信】</td>\n",
       "      <td>NaN</td>\n",
       "      <td>社会生活</td>\n",
       "      <td>0</td>\n",
       "      <td>0</td>\n",
       "      <td>1</td>\n",
       "      <td>NaN</td>\n",
       "      <td>NaN</td>\n",
       "    </tr>\n",
       "    <tr>\n",
       "      <th>...</th>\n",
       "      <td>...</td>\n",
       "      <td>...</td>\n",
       "      <td>...</td>\n",
       "      <td>...</td>\n",
       "      <td>...</td>\n",
       "      <td>...</td>\n",
       "      <td>...</td>\n",
       "      <td>...</td>\n",
       "      <td>...</td>\n",
       "    </tr>\n",
       "    <tr>\n",
       "      <th>49905</th>\n",
       "      <td>4281576541648565</td>\n",
       "      <td>\\t\\t奇妙的食光声明 网传的奇妙的食光澳洲冲突事件告一段落！庭审结果没有罚款没有赔偿没有逮...</td>\n",
       "      <td>1599889a0b2357a4e1464b532a046f58.jpg\\t3d20edbf...</td>\n",
       "      <td>文体娱乐</td>\n",
       "      <td>1</td>\n",
       "      <td>0</td>\n",
       "      <td>0</td>\n",
       "      <td>哪个台的\\t不评论打人行为的话，那私生本身就很可怕\\t</td>\n",
       "      <td>哪个台的\\t不评论打人行为的话，那私生本身就很可怕\\t代拍卖图随随便便大把钱，跟车别车、无视...</td>\n",
       "    </tr>\n",
       "    <tr>\n",
       "      <th>49906</th>\n",
       "      <td>4300177235889695</td>\n",
       "      <td>#请陈立农工作室立刻停止不合理商业合作# 望贵公司可以好好规划艺人的发展，宁缺毋滥，这次的事...</td>\n",
       "      <td>d9904fccbc04bee388a92786a379c197.jpg</td>\n",
       "      <td>文体娱乐</td>\n",
       "      <td>1</td>\n",
       "      <td>0</td>\n",
       "      <td>0</td>\n",
       "      <td>请正面回应\\t不支持！@陳立農工作室[微笑][微笑]1\\t</td>\n",
       "      <td>请正面回应\\t不支持！@陳立農工作室[微笑][微笑]1\\t我真是气到死！\\t来，我们谈谈人生...</td>\n",
       "    </tr>\n",
       "    <tr>\n",
       "      <th>49907</th>\n",
       "      <td>4301684919880140</td>\n",
       "      <td>很多未成年少女被侵犯恰恰是那些熟悉的人，意想不到的。《高铁事件到底是不是猥亵？多位专家给了说...</td>\n",
       "      <td>651303513fd7e8487163d9ace9757d9c.jpg</td>\n",
       "      <td>社会生活</td>\n",
       "      <td>1</td>\n",
       "      <td>0</td>\n",
       "      <td>0</td>\n",
       "      <td>NaN</td>\n",
       "      <td>NaN</td>\n",
       "    </tr>\n",
       "    <tr>\n",
       "      <th>49908</th>\n",
       "      <td>4302998223949938</td>\n",
       "      <td>#官方回应车轮带泥被罚#这一案例，就像发生在浙江省金华市多湖派出所丢失警犬处理一案那样，是警...</td>\n",
       "      <td>5df69b4bb412a48f4055c4d9e6a3d85e.jpg\\t0b52423e...</td>\n",
       "      <td>社会生活</td>\n",
       "      <td>1</td>\n",
       "      <td>0</td>\n",
       "      <td>0</td>\n",
       "      <td>小散们最无助的时候，只有@股市抄盘能带你们起飞。今天又板了2支\\t希望能改进服务态度。\\t</td>\n",
       "      <td>小散们最无助的时候，只有@股市抄盘能带你们起飞。今天又板了2支\\t希望能改进服务态度。\\t扬...</td>\n",
       "    </tr>\n",
       "    <tr>\n",
       "      <th>49909</th>\n",
       "      <td>4301326785542331</td>\n",
       "      <td>【父亲应教给孩子的15件事】网传“诈尸式育儿”，具体是指父亲在家庭教育中经常缺位，却又偶尔在...</td>\n",
       "      <td>88fa02e2efe83ac4ce1d0505e4b50894.jpg\\tc3aecbe4...</td>\n",
       "      <td>社会生活</td>\n",
       "      <td>1</td>\n",
       "      <td>0</td>\n",
       "      <td>0</td>\n",
       "      <td>回复@嘿明先生的表态:[中国赞]\\t@tony小强哥\\t</td>\n",
       "      <td>回复@嘿明先生的表态:[中国赞]\\t@tony小强哥\\t回复@啊哈哈iq狂想曲的表态:[米奇...</td>\n",
       "    </tr>\n",
       "  </tbody>\n",
       "</table>\n",
       "<p>49910 rows × 9 columns</p>\n",
       "</div>"
      ],
      "text/plain": [
       "                     id                                            content  \\\n",
       "0      4028762460708675             回复新浪网友对博文【国家文物局限制鉴宝节目现场估价转】的评论：;;查看原文：   \n",
       "1      4126670854660291  //分享网易新闻:《发生在昆明的火锅店老板“辱滇门”，云南人该愤怒还是羞愧》|发生在昆明.....   \n",
       "2      3702441948299962                          西宁城管围殴民警扬言要把警察打死|西宁城管围...   \n",
       "3      4239549419245466  【川航航班因驾驶舱风挡破裂安全备降成都】今天上午6:26从重庆江北国际机场出发前往拉萨的四川...   \n",
       "4      3966337217183260                   支持郑强！！！//【贵州大学校长回应空姐言论:常给她们写感谢信】   \n",
       "...                 ...                                                ...   \n",
       "49905  4281576541648565  \\t\\t奇妙的食光声明 网传的奇妙的食光澳洲冲突事件告一段落！庭审结果没有罚款没有赔偿没有逮...   \n",
       "49906  4300177235889695  #请陈立农工作室立刻停止不合理商业合作# 望贵公司可以好好规划艺人的发展，宁缺毋滥，这次的事...   \n",
       "49907  4301684919880140  很多未成年少女被侵犯恰恰是那些熟悉的人，意想不到的。《高铁事件到底是不是猥亵？多位专家给了说...   \n",
       "49908  4302998223949938  #官方回应车轮带泥被罚#这一案例，就像发生在浙江省金华市多湖派出所丢失警犬处理一案那样，是警...   \n",
       "49909  4301326785542331  【父亲应教给孩子的15件事】网传“诈尸式育儿”，具体是指父亲在家庭教育中经常缺位，却又偶尔在...   \n",
       "\n",
       "                                           picture_lists category  ncw_label  \\\n",
       "0                                                    NaN     文体娱乐          0   \n",
       "1                   63ad082a189566eed7c4bb3e4bc55012.jpg     社会生活          0   \n",
       "2                   4986dc2a5f09a87c7af5dfc57d7775cd.jpg     社会生活          0   \n",
       "3                   dcfccfc69e90a0007afd6aafa1385e56.jpg     社会生活          0   \n",
       "4                                                    NaN     社会生活          0   \n",
       "...                                                  ...      ...        ...   \n",
       "49905  1599889a0b2357a4e1464b532a046f58.jpg\\t3d20edbf...     文体娱乐          1   \n",
       "49906               d9904fccbc04bee388a92786a379c197.jpg     文体娱乐          1   \n",
       "49907               651303513fd7e8487163d9ace9757d9c.jpg     社会生活          1   \n",
       "49908  5df69b4bb412a48f4055c4d9e6a3d85e.jpg\\t0b52423e...     社会生活          1   \n",
       "49909  88fa02e2efe83ac4ce1d0505e4b50894.jpg\\tc3aecbe4...     社会生活          1   \n",
       "\n",
       "       fake_label  real_label                                     comment_2c  \\\n",
       "0               0           1                                            NaN   \n",
       "1               0           1                                            NaN   \n",
       "2               0           1                                            NaN   \n",
       "3               0           1                                            NaN   \n",
       "4               0           1                                            NaN   \n",
       "...           ...         ...                                            ...   \n",
       "49905           0           0                    哪个台的\\t不评论打人行为的话，那私生本身就很可怕\\t   \n",
       "49906           0           0                  请正面回应\\t不支持！@陳立農工作室[微笑][微笑]1\\t   \n",
       "49907           0           0                                            NaN   \n",
       "49908           0           0  小散们最无助的时候，只有@股市抄盘能带你们起飞。今天又板了2支\\t希望能改进服务态度。\\t   \n",
       "49909           0           0                   回复@嘿明先生的表态:[中国赞]\\t@tony小强哥\\t   \n",
       "\n",
       "                                             comment_all  \n",
       "0                                                    NaN  \n",
       "1                                                    NaN  \n",
       "2                                                    NaN  \n",
       "3                                                    NaN  \n",
       "4                                                    NaN  \n",
       "...                                                  ...  \n",
       "49905  哪个台的\\t不评论打人行为的话，那私生本身就很可怕\\t代拍卖图随随便便大把钱，跟车别车、无视...  \n",
       "49906  请正面回应\\t不支持！@陳立農工作室[微笑][微笑]1\\t我真是气到死！\\t来，我们谈谈人生...  \n",
       "49907                                                NaN  \n",
       "49908  小散们最无助的时候，只有@股市抄盘能带你们起飞。今天又板了2支\\t希望能改进服务态度。\\t扬...  \n",
       "49909  回复@嘿明先生的表态:[中国赞]\\t@tony小强哥\\t回复@啊哈哈iq狂想曲的表态:[米奇...  \n",
       "\n",
       "[49910 rows x 9 columns]"
      ]
     },
     "execution_count": 4,
     "metadata": {},
     "output_type": "execute_result"
    }
   ],
   "source": [
    "data"
   ]
  },
  {
   "cell_type": "code",
   "execution_count": 5,
   "id": "544fade9",
   "metadata": {},
   "outputs": [
    {
     "name": "stdout",
     "output_type": "stream",
     "text": [
      "<class 'pandas.core.frame.DataFrame'>\n",
      "RangeIndex: 49910 entries, 0 to 49909\n",
      "Data columns (total 9 columns):\n",
      " #   Column         Non-Null Count  Dtype \n",
      "---  ------         --------------  ----- \n",
      " 0   id             49910 non-null  object\n",
      " 1   content        49910 non-null  object\n",
      " 2   picture_lists  29625 non-null  object\n",
      " 3   category       49910 non-null  object\n",
      " 4   ncw_label      49910 non-null  int64 \n",
      " 5   fake_label     49910 non-null  int64 \n",
      " 6   real_label     49910 non-null  int64 \n",
      " 7   comment_2c     22689 non-null  object\n",
      " 8   comment_all    22689 non-null  object\n",
      "dtypes: int64(3), object(6)\n",
      "memory usage: 3.4+ MB\n"
     ]
    }
   ],
   "source": [
    "data.info()"
   ]
  },
  {
   "cell_type": "code",
   "execution_count": 6,
   "id": "f575b4dc",
   "metadata": {},
   "outputs": [
    {
     "name": "stdout",
     "output_type": "stream",
     "text": [
      "回复新浪网友对博文【国家文物局限制鉴宝节目现场估价转】的评论：;;查看原文：\n",
      "//分享网易新闻:《发生在昆明的火锅店老板“辱滇门”，云南人该愤怒还是羞愧》|发生在昆明...@网易新闻客户端#网易新闻#\n",
      "西宁城管围殴民警扬言要把警察打死|西宁城管围...\n"
     ]
    }
   ],
   "source": [
    "for i in data[:3]['content']:\n",
    "    print(i)"
   ]
  },
  {
   "cell_type": "code",
   "execution_count": 7,
   "id": "90c93a5d",
   "metadata": {},
   "outputs": [
    {
     "data": {
      "text/plain": [
       "category\n",
       "社会生活    22258\n",
       "文体娱乐    10232\n",
       "医药健康     8123\n",
       "科技       2506\n",
       "财经商业     2267\n",
       "军事       1978\n",
       "政治       1544\n",
       "教育考试     1002\n",
       "Name: id, dtype: int64"
      ]
     },
     "execution_count": 7,
     "metadata": {},
     "output_type": "execute_result"
    }
   ],
   "source": [
    "data.groupby('category')['id'].count().sort_values(ascending=False)"
   ]
  },
  {
   "cell_type": "code",
   "execution_count": 8,
   "id": "257c1598",
   "metadata": {},
   "outputs": [],
   "source": [
    "count1 = data.groupby('category')['id'].count().sort_values(ascending=False).reset_index()"
   ]
  },
  {
   "cell_type": "code",
   "execution_count": 9,
   "id": "2d391908",
   "metadata": {},
   "outputs": [],
   "source": [
    "count1.columns=['category','count']"
   ]
  },
  {
   "cell_type": "code",
   "execution_count": 10,
   "id": "70b07e93",
   "metadata": {},
   "outputs": [
    {
     "data": {
      "text/html": [
       "<div>\n",
       "<style scoped>\n",
       "    .dataframe tbody tr th:only-of-type {\n",
       "        vertical-align: middle;\n",
       "    }\n",
       "\n",
       "    .dataframe tbody tr th {\n",
       "        vertical-align: top;\n",
       "    }\n",
       "\n",
       "    .dataframe thead th {\n",
       "        text-align: right;\n",
       "    }\n",
       "</style>\n",
       "<table border=\"1\" class=\"dataframe\">\n",
       "  <thead>\n",
       "    <tr style=\"text-align: right;\">\n",
       "      <th></th>\n",
       "      <th>category</th>\n",
       "      <th>count</th>\n",
       "    </tr>\n",
       "  </thead>\n",
       "  <tbody>\n",
       "    <tr>\n",
       "      <th>0</th>\n",
       "      <td>社会生活</td>\n",
       "      <td>22258</td>\n",
       "    </tr>\n",
       "    <tr>\n",
       "      <th>1</th>\n",
       "      <td>文体娱乐</td>\n",
       "      <td>10232</td>\n",
       "    </tr>\n",
       "    <tr>\n",
       "      <th>2</th>\n",
       "      <td>医药健康</td>\n",
       "      <td>8123</td>\n",
       "    </tr>\n",
       "    <tr>\n",
       "      <th>3</th>\n",
       "      <td>科技</td>\n",
       "      <td>2506</td>\n",
       "    </tr>\n",
       "    <tr>\n",
       "      <th>4</th>\n",
       "      <td>财经商业</td>\n",
       "      <td>2267</td>\n",
       "    </tr>\n",
       "    <tr>\n",
       "      <th>5</th>\n",
       "      <td>军事</td>\n",
       "      <td>1978</td>\n",
       "    </tr>\n",
       "    <tr>\n",
       "      <th>6</th>\n",
       "      <td>政治</td>\n",
       "      <td>1544</td>\n",
       "    </tr>\n",
       "    <tr>\n",
       "      <th>7</th>\n",
       "      <td>教育考试</td>\n",
       "      <td>1002</td>\n",
       "    </tr>\n",
       "  </tbody>\n",
       "</table>\n",
       "</div>"
      ],
      "text/plain": [
       "  category  count\n",
       "0     社会生活  22258\n",
       "1     文体娱乐  10232\n",
       "2     医药健康   8123\n",
       "3       科技   2506\n",
       "4     财经商业   2267\n",
       "5       军事   1978\n",
       "6       政治   1544\n",
       "7     教育考试   1002"
      ]
     },
     "execution_count": 10,
     "metadata": {},
     "output_type": "execute_result"
    }
   ],
   "source": [
    "count1"
   ]
  },
  {
   "cell_type": "code",
   "execution_count": 11,
   "id": "7ba7896c",
   "metadata": {},
   "outputs": [],
   "source": [
    "#通过下面这行解决MAC OS中文乱码问题\n",
    "# plt.rcParams['font.family'] = ['Arial Unicode MS'] #用来正常显示中文标签\n",
    "# plt.rcParams['axes.unicode_minus'] = False #用来正常显示负号\n",
    "\n",
    "sns.set_style('whitegrid',{'font.sans-serif':['Arial Unicode MS','Arial']})"
   ]
  },
  {
   "cell_type": "code",
   "execution_count": 12,
   "id": "01249775",
   "metadata": {},
   "outputs": [
    {
     "data": {
      "text/plain": [
       "<AxesSubplot:xlabel='category', ylabel='count'>"
      ]
     },
     "execution_count": 12,
     "metadata": {},
     "output_type": "execute_result"
    },
    {
     "data": {
      "image/png": "[encoded data removed]",
      "text/plain": [
       "<Figure size 432x288 with 1 Axes>"
      ]
     },
     "metadata": {},
     "output_type": "display_data"
    }
   ],
   "source": [
    "sns.barplot(x=count1['category'], y=count1['count'],)"
   ]
  },
  {
   "cell_type": "code",
   "execution_count": 13,
   "id": "b2df6a8a",
   "metadata": {},
   "outputs": [
    {
     "data": {
      "image/png": "[encoded data removed]",
      "text/plain": [
       "<Figure size 432x288 with 1 Axes>"
      ]
     },
     "metadata": {},
     "output_type": "display_data"
    }
   ],
   "source": [
    "g = sns.barplot(data=count1,x='category',y='count')"
   ]
  },
  {
   "cell_type": "code",
   "execution_count": 14,
   "id": "eef484d7",
   "metadata": {},
   "outputs": [],
   "source": [
    "stopwords = set(wordcloud.STOPWORDS)"
   ]
  },
  {
   "cell_type": "code",
   "execution_count": 15,
   "id": "c80ea7b8",
   "metadata": {},
   "outputs": [
    {
     "data": {
      "text/plain": [
       "set"
      ]
     },
     "execution_count": 15,
     "metadata": {},
     "output_type": "execute_result"
    }
   ],
   "source": [
    "type(stopwords)"
   ]
  },
  {
   "cell_type": "code",
   "execution_count": 16,
   "id": "5267001d",
   "metadata": {},
   "outputs": [],
   "source": [
    "chinese_stopword = set()"
   ]
  },
  {
   "cell_type": "code",
   "execution_count": 17,
   "id": "ee5cb008",
   "metadata": {},
   "outputs": [],
   "source": [
    "with open('中文停用词表.txt',encoding='utf-8') as f:\n",
    "    for i in f.readlines():\n",
    "        chinese_stopword.add(i.strip('\\n'))"
   ]
  },
  {
   "cell_type": "code",
   "execution_count": 18,
   "id": "3d455820",
   "metadata": {},
   "outputs": [],
   "source": [
    "with open('哈工大停用词表.txt',encoding='utf-8') as f:\n",
    "    for i in f.readlines():\n",
    "        chinese_stopword.add(i.strip('\\n'))"
   ]
  },
  {
   "cell_type": "code",
   "execution_count": 19,
   "id": "14df300c",
   "metadata": {},
   "outputs": [],
   "source": [
    "with open('百度停用词表.txt',encoding='utf-8') as f:\n",
    "    for i in f.readlines():\n",
    "        chinese_stopword.add(i.strip('\\n'))"
   ]
  },
  {
   "cell_type": "code",
   "execution_count": 20,
   "id": "cf8b6b9b",
   "metadata": {},
   "outputs": [],
   "source": [
    "text = ' '.join(data['content'].tolist())"
   ]
  },
  {
   "cell_type": "code",
   "execution_count": 21,
   "id": "f4c31855",
   "metadata": {},
   "outputs": [],
   "source": [
    "chinese_stopword.add('展开全文c')"
   ]
  },
  {
   "cell_type": "code",
   "execution_count": 22,
   "id": "662d4804",
   "metadata": {},
   "outputs": [],
   "source": [
    "w = wordcloud.WordCloud(font_path=\"../../simhei.ttf\",margin=2,stopwords=chinese_stopword,max_words=1000,min_font_size=4,max_font_size=80).generate(text)"
   ]
  },
  {
   "cell_type": "code",
   "execution_count": 23,
   "id": "2575e6f8",
   "metadata": {},
   "outputs": [
    {
     "data": {
      "text/plain": [
       "<matplotlib.image.AxesImage at 0x24712dba2e8>"
      ]
     },
     "execution_count": 23,
     "metadata": {},
     "output_type": "execute_result"
    },
    {
     "data": {
      "image/png": "[encoded data removed]",
      "text/plain": [
       "<Figure size 432x288 with 1 Axes>"
      ]
     },
     "metadata": {},
     "output_type": "display_data"
    }
   ],
   "source": [
    "plt.imshow(w)"
   ]
  },
  {
   "cell_type": "code",
   "execution_count": 24,
   "id": "4da1def0",
   "metadata": {},
   "outputs": [],
   "source": [
    "from collections import Counter"
   ]
  },
  {
   "cell_type": "code",
   "execution_count": 30,
   "id": "8620b50a",
   "metadata": {},
   "outputs": [],
   "source": [
    "from pyecharts.globals import CurrentConfig, NotebookType\n",
    "CurrentConfig.NOTEBOOK_TYPE = NotebookType.JUPYTER_LAB"
   ]
  },
  {
   "cell_type": "code",
   "execution_count": 31,
   "id": "f115e5bf",
   "metadata": {},
   "outputs": [],
   "source": [
    "from pyecharts.charts import WordCloud"
   ]
  },
  {
   "cell_type": "code",
   "execution_count": 40,
   "id": "c4bc42e7",
   "metadata": {},
   "outputs": [
    {
     "name": "stderr",
     "output_type": "stream",
     "text": [
      "Building prefix dict from the default dictionary ...\n",
      "Dumping model to file cache C:\\Users\\YSILHO~1\\AppData\\Local\\Temp\\jieba.cache\n",
      "Loading model cost 0.640 seconds.\n",
      "Prefix dict has been built successfully.\n"
     ]
    }
   ],
   "source": [
    "textlist = list(jieba.cut(text))"
   ]
  },
  {
   "cell_type": "code",
   "execution_count": 45,
   "id": "6399f44e",
   "metadata": {},
   "outputs": [],
   "source": [
    "text_tongji = Counter(textlist)"
   ]
  },
  {
   "cell_type": "code",
   "execution_count": 46,
   "id": "37649754",
   "metadata": {},
   "outputs": [],
   "source": [
    "count_cloud = WordCloud()"
   ]
  },
  {
   "cell_type": "code",
   "execution_count": 50,
   "id": "79b52cee",
   "metadata": {},
   "outputs": [
    {
     "data": {
      "text/plain": [
       "['社会生活', '文体娱乐', '医药健康', '科技', '财经商业', '军事', '政治', '教育考试']"
      ]
     },
     "execution_count": 50,
     "metadata": {},
     "output_type": "execute_result"
    }
   ],
   "source": [
    "name = count1['category'].tolist()\n",
    "name"
   ]
  },
  {
   "cell_type": "code",
   "execution_count": 51,
   "id": "1232c794",
   "metadata": {},
   "outputs": [
    {
     "data": {
      "text/plain": [
       "[22258, 10232, 8123, 2506, 2267, 1978, 1544, 1002]"
      ]
     },
     "execution_count": 51,
     "metadata": {},
     "output_type": "execute_result"
    }
   ],
   "source": [
    "count=count1['count'].tolist()\n",
    "count"
   ]
  },
  {
   "cell_type": "code",
   "execution_count": 72,
   "id": "67dd440a",
   "metadata": {},
   "outputs": [
    {
     "data": {
      "text/plain": [
       "[('社会生活', 22258),\n",
       " ('文体娱乐', 10232),\n",
       " ('医药健康', 8123),\n",
       " ('科技', 2506),\n",
       " ('财经商业', 2267),\n",
       " ('军事', 1978),\n",
       " ('政治', 1544),\n",
       " ('教育考试', 1002)]"
      ]
     },
     "execution_count": 72,
     "metadata": {},
     "output_type": "execute_result"
    }
   ],
   "source": [
    "count1_data_pair=[]\n",
    "for index,row in count1.iterrows():\n",
    "    count1_data_pair.append(tuple(row))\n",
    "count1_data_pair"
   ]
  },
  {
   "cell_type": "code",
   "execution_count": 73,
   "id": "a82ec456",
   "metadata": {},
   "outputs": [
    {
     "data": {
      "text/plain": [
       "<pyecharts.charts.basic_charts.wordcloud.WordCloud at 0x2471e0fb2b0>"
      ]
     },
     "execution_count": 73,
     "metadata": {},
     "output_type": "execute_result"
    }
   ],
   "source": [
    "count_cloud.add(\"\",count1_data_pair,word_size_range=[10,160])"
   ]
  },
  {
   "cell_type": "code",
   "execution_count": 74,
   "id": "b0537657",
   "metadata": {},
   "outputs": [
    {
     "data": {
      "text/html": [
       "<!DOCTYPE html>\n",
       "<html>\n",
       "<head>\n",
       "    <meta charset=\"UTF-8\">\n",
       "</head>\n",
       "<body>\n",
       "        <div id=\"e8c44d57c6a04764acce8d41580c12e5\" class=\"chart-container\" style=\"width:900px; height:500px;\"></div>\n",
       "    <script>\n",
       "        var chart_e8c44d57c6a04764acce8d41580c12e5 = echarts.init(\n",
       "            document.getElementById('e8c44d57c6a04764acce8d41580c12e5'), 'white', {renderer: 'canvas'});\n",
       "        var option_e8c44d57c6a04764acce8d41580c12e5 = {\n",
       "    \"animation\": true,\n",
       "    \"animationThreshold\": 2000,\n",
       "    \"animationDuration\": 1000,\n",
       "    \"animationEasing\": \"cubicOut\",\n",
       "    \"animationDelay\": 0,\n",
       "    \"animationDurationUpdate\": 300,\n",
       "    \"animationEasingUpdate\": \"cubicOut\",\n",
       "    \"animationDelayUpdate\": 0,\n",
       "    \"color\": [\n",
       "        \"#c23531\",\n",
       "        \"#2f4554\",\n",
       "        \"#61a0a8\",\n",
       "        \"#d48265\",\n",
       "        \"#749f83\",\n",
       "        \"#ca8622\",\n",
       "        \"#bda29a\",\n",
       "        \"#6e7074\",\n",
       "        \"#546570\",\n",
       "        \"#c4ccd3\",\n",
       "        \"#f05b72\",\n",
       "        \"#ef5b9c\",\n",
       "        \"#f47920\",\n",
       "        \"#905a3d\",\n",
       "        \"#fab27b\",\n",
       "        \"#2a5caa\",\n",
       "        \"#444693\",\n",
       "        \"#726930\",\n",
       "        \"#b2d235\",\n",
       "        \"#6d8346\",\n",
       "        \"#ac6767\",\n",
       "        \"#1d953f\",\n",
       "        \"#6950a1\",\n",
       "        \"#918597\"\n",
       "    ],\n",
       "    \"series\": [\n",
       "        {\n",
       "            \"type\": \"wordCloud\",\n",
       "            \"shape\": \"circle\",\n",
       "            \"rotationRange\": [\n",
       "                -90,\n",
       "                90\n",
       "            ],\n",
       "            \"rotationStep\": 45,\n",
       "            \"girdSize\": 20,\n",
       "            \"sizeRange\": [\n",
       "                10,\n",
       "                160\n",
       "            ],\n",
       "            \"data\": [\n",
       "                {\n",
       "                    \"name\": \"\\u793e\\u4f1a\\u751f\\u6d3b\",\n",
       "                    \"value\": 22258,\n",
       "                    \"textStyle\": {\n",
       "                        \"normal\": {\n",
       "                            \"color\": \"rgb(141,40,117)\"\n",
       "                        }\n",
       "                    }\n",
       "                },\n",
       "                {\n",
       "                    \"name\": \"\\u6587\\u4f53\\u5a31\\u4e50\",\n",
       "                    \"value\": 10232,\n",
       "                    \"textStyle\": {\n",
       "                        \"normal\": {\n",
       "                            \"color\": \"rgb(30,141,24)\"\n",
       "                        }\n",
       "                    }\n",
       "                },\n",
       "                {\n",
       "                    \"name\": \"\\u533b\\u836f\\u5065\\u5eb7\",\n",
       "                    \"value\": 8123,\n",
       "                    \"textStyle\": {\n",
       "                        \"normal\": {\n",
       "                            \"color\": \"rgb(25,25,100)\"\n",
       "                        }\n",
       "                    }\n",
       "                },\n",
       "                {\n",
       "                    \"name\": \"\\u79d1\\u6280\",\n",
       "                    \"value\": 2506,\n",
       "                    \"textStyle\": {\n",
       "                        \"normal\": {\n",
       "                            \"color\": \"rgb(150,152,104)\"\n",
       "                        }\n",
       "                    }\n",
       "                },\n",
       "                {\n",
       "                    \"name\": \"\\u8d22\\u7ecf\\u5546\\u4e1a\",\n",
       "                    \"value\": 2267,\n",
       "                    \"textStyle\": {\n",
       "                        \"normal\": {\n",
       "                            \"color\": \"rgb(25,93,159)\"\n",
       "                        }\n",
       "                    }\n",
       "                },\n",
       "                {\n",
       "                    \"name\": \"\\u519b\\u4e8b\",\n",
       "                    \"value\": 1978,\n",
       "                    \"textStyle\": {\n",
       "                        \"normal\": {\n",
       "                            \"color\": \"rgb(123,123,52)\"\n",
       "                        }\n",
       "                    }\n",
       "                },\n",
       "                {\n",
       "                    \"name\": \"\\u653f\\u6cbb\",\n",
       "                    \"value\": 1544,\n",
       "                    \"textStyle\": {\n",
       "                        \"normal\": {\n",
       "                            \"color\": \"rgb(50,149,122)\"\n",
       "                        }\n",
       "                    }\n",
       "                },\n",
       "                {\n",
       "                    \"name\": \"\\u6559\\u80b2\\u8003\\u8bd5\",\n",
       "                    \"value\": 1002,\n",
       "                    \"textStyle\": {\n",
       "                        \"normal\": {\n",
       "                            \"color\": \"rgb(152,96,11)\"\n",
       "                        }\n",
       "                    }\n",
       "                }\n",
       "            ],\n",
       "            \"drawOutOfBound\": false,\n",
       "            \"textStyle\": {\n",
       "                \"emphasis\": {}\n",
       "            }\n",
       "        }\n",
       "    ],\n",
       "    \"legend\": [\n",
       "        {\n",
       "            \"data\": [],\n",
       "            \"selected\": {}\n",
       "        }\n",
       "    ],\n",
       "    \"tooltip\": {\n",
       "        \"show\": true,\n",
       "        \"trigger\": \"item\",\n",
       "        \"triggerOn\": \"mousemove|click\",\n",
       "        \"axisPointer\": {\n",
       "            \"type\": \"line\"\n",
       "        },\n",
       "        \"showContent\": true,\n",
       "        \"alwaysShowContent\": false,\n",
       "        \"showDelay\": 0,\n",
       "        \"hideDelay\": 100,\n",
       "        \"textStyle\": {\n",
       "            \"fontSize\": 14\n",
       "        },\n",
       "        \"borderWidth\": 0,\n",
       "        \"padding\": 5\n",
       "    }\n",
       "};\n",
       "        chart_e8c44d57c6a04764acce8d41580c12e5.setOption(option_e8c44d57c6a04764acce8d41580c12e5);\n",
       "    </script>\n",
       "</body>\n",
       "</html>\n"
      ],
      "text/plain": [
       "<pyecharts.render.display.HTML at 0x247120e0630>"
      ]
     },
     "execution_count": 74,
     "metadata": {},
     "output_type": "execute_result"
    }
   ],
   "source": [
    "count_cloud.render_notebook()"
   ]
  },
  {
   "cell_type": "code",
   "execution_count": 77,
   "id": "e30d426b",
   "metadata": {},
   "outputs": [
    {
     "data": {
      "text/plain": [
       "<pyecharts.charts.basic_charts.wordcloud.WordCloud at 0x2471e0fb2b0>"
      ]
     },
     "execution_count": 77,
     "metadata": {},
     "output_type": "execute_result"
    }
   ],
   "source": [
    "count_cloud.add(\"\",text_tongji.most_common())"
   ]
  },
  {
   "cell_type": "code",
   "execution_count": null,
   "id": "c7230daf",
   "metadata": {},
   "outputs": [],
   "source": [
    "count_cloud.render_notebook()"
   ]
  },
  {
   "cell_type": "code",
   "execution_count": null,
   "id": "1dad132c",
   "metadata": {},
   "outputs": [],
   "source": []
  }
 ],
 "metadata": {
  "kernelspec": {
   "display_name": "Python 3",
   "language": "python",
   "name": "python3"
  },
  "language_info": {
   "codemirror_mode": {
    "name": "ipython",
    "version": 3
   },
   "file_extension": ".py",
   "mimetype": "text/x-python",
   "name": "python",
   "nbconvert_exporter": "python",
   "pygments_lexer": "ipython3",
   "version": "3.6.5"
  }
 },
 "nbformat": 4,
 "nbformat_minor": 5
}
