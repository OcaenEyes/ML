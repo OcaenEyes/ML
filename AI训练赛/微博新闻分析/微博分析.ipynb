{
 "cells": [
  {
   "cell_type": "code",
   "execution_count": 69,
   "id": "honey-lindsay",
   "metadata": {},
   "outputs": [
    {
     "data": {
      "text/plain": [
       "'/Users/gaozhiyong/Documents/pyenv/pyenv3.6/bin/python'"
      ]
     },
     "execution_count": 69,
     "metadata": {},
     "output_type": "execute_result"
    }
   ],
   "source": [
    "import sys\n",
    "sys.executable"
   ]
  },
  {
   "cell_type": "code",
   "execution_count": 70,
   "id": "interesting-jackson",
   "metadata": {},
   "outputs": [],
   "source": [
    "import pandas as pd\n",
    "import jieba\n",
    "import wordcloud\n",
    "import matplotlib.pyplot as plt\n",
    "import seaborn as sns"
   ]
  },
  {
   "cell_type": "code",
   "execution_count": 71,
   "id": "revolutionary-guidance",
   "metadata": {},
   "outputs": [],
   "source": [
    "data = pd.read_csv(\"微博新闻数据集.csv\")"
   ]
  },
  {
   "cell_type": "code",
   "execution_count": 72,
   "id": "difficult-inquiry",
   "metadata": {},
   "outputs": [
    {
     "data": {
      "text/html": [
       "<div>\n",
       "<style scoped>\n",
       "    .dataframe tbody tr th:only-of-type {\n",
       "        vertical-align: middle;\n",
       "    }\n",
       "\n",
       "    .dataframe tbody tr th {\n",
       "        vertical-align: top;\n",
       "    }\n",
       "\n",
       "    .dataframe thead th {\n",
       "        text-align: right;\n",
       "    }\n",
       "</style>\n",
       "<table border=\"1\" class=\"dataframe\">\n",
       "  <thead>\n",
       "    <tr style=\"text-align: right;\">\n",
       "      <th></th>\n",
       "      <th>id</th>\n",
       "      <th>content</th>\n",
       "      <th>picture_lists</th>\n",
       "      <th>category</th>\n",
       "      <th>ncw_label</th>\n",
       "      <th>fake_label</th>\n",
       "      <th>real_label</th>\n",
       "      <th>comment_2c</th>\n",
       "      <th>comment_all</th>\n",
       "    </tr>\n",
       "  </thead>\n",
       "  <tbody>\n",
       "    <tr>\n",
       "      <th>0</th>\n",
       "      <td>4028762460708675</td>\n",
       "      <td>回复新浪网友对博文【国家文物局限制鉴宝节目现场估价转】的评论：;;查看原文：</td>\n",
       "      <td>NaN</td>\n",
       "      <td>文体娱乐</td>\n",
       "      <td>0</td>\n",
       "      <td>0</td>\n",
       "      <td>1</td>\n",
       "      <td>NaN</td>\n",
       "      <td>NaN</td>\n",
       "    </tr>\n",
       "    <tr>\n",
       "      <th>1</th>\n",
       "      <td>4126670854660291</td>\n",
       "      <td>//分享网易新闻:《发生在昆明的火锅店老板“辱滇门”，云南人该愤怒还是羞愧》|发生在昆明.....</td>\n",
       "      <td>63ad082a189566eed7c4bb3e4bc55012.jpg</td>\n",
       "      <td>社会生活</td>\n",
       "      <td>0</td>\n",
       "      <td>0</td>\n",
       "      <td>1</td>\n",
       "      <td>NaN</td>\n",
       "      <td>NaN</td>\n",
       "    </tr>\n",
       "    <tr>\n",
       "      <th>2</th>\n",
       "      <td>3702441948299962</td>\n",
       "      <td>西宁城管围殴民警扬言要把警察打死|西宁城管围...</td>\n",
       "      <td>4986dc2a5f09a87c7af5dfc57d7775cd.jpg</td>\n",
       "      <td>社会生活</td>\n",
       "      <td>0</td>\n",
       "      <td>0</td>\n",
       "      <td>1</td>\n",
       "      <td>NaN</td>\n",
       "      <td>NaN</td>\n",
       "    </tr>\n",
       "    <tr>\n",
       "      <th>3</th>\n",
       "      <td>4239549419245466</td>\n",
       "      <td>【川航航班因驾驶舱风挡破裂安全备降成都】今天上午6:26从重庆江北国际机场出发前往拉萨的四川...</td>\n",
       "      <td>dcfccfc69e90a0007afd6aafa1385e56.jpg</td>\n",
       "      <td>社会生活</td>\n",
       "      <td>0</td>\n",
       "      <td>0</td>\n",
       "      <td>1</td>\n",
       "      <td>NaN</td>\n",
       "      <td>NaN</td>\n",
       "    </tr>\n",
       "    <tr>\n",
       "      <th>4</th>\n",
       "      <td>3966337217183260</td>\n",
       "      <td>支持郑强！！！//【贵州大学校长回应空姐言论:常给她们写感谢信】</td>\n",
       "      <td>NaN</td>\n",
       "      <td>社会生活</td>\n",
       "      <td>0</td>\n",
       "      <td>0</td>\n",
       "      <td>1</td>\n",
       "      <td>NaN</td>\n",
       "      <td>NaN</td>\n",
       "    </tr>\n",
       "    <tr>\n",
       "      <th>...</th>\n",
       "      <td>...</td>\n",
       "      <td>...</td>\n",
       "      <td>...</td>\n",
       "      <td>...</td>\n",
       "      <td>...</td>\n",
       "      <td>...</td>\n",
       "      <td>...</td>\n",
       "      <td>...</td>\n",
       "      <td>...</td>\n",
       "    </tr>\n",
       "    <tr>\n",
       "      <th>49905</th>\n",
       "      <td>4281576541648565</td>\n",
       "      <td>\\t\\t奇妙的食光声明 网传的奇妙的食光澳洲冲突事件告一段落！庭审结果没有罚款没有赔偿没有逮...</td>\n",
       "      <td>1599889a0b2357a4e1464b532a046f58.jpg\\t3d20edbf...</td>\n",
       "      <td>文体娱乐</td>\n",
       "      <td>1</td>\n",
       "      <td>0</td>\n",
       "      <td>0</td>\n",
       "      <td>哪个台的\\t不评论打人行为的话，那私生本身就很可怕\\t</td>\n",
       "      <td>哪个台的\\t不评论打人行为的话，那私生本身就很可怕\\t代拍卖图随随便便大把钱，跟车别车、无视...</td>\n",
       "    </tr>\n",
       "    <tr>\n",
       "      <th>49906</th>\n",
       "      <td>4300177235889695</td>\n",
       "      <td>#请陈立农工作室立刻停止不合理商业合作# 望贵公司可以好好规划艺人的发展，宁缺毋滥，这次的事...</td>\n",
       "      <td>d9904fccbc04bee388a92786a379c197.jpg</td>\n",
       "      <td>文体娱乐</td>\n",
       "      <td>1</td>\n",
       "      <td>0</td>\n",
       "      <td>0</td>\n",
       "      <td>请正面回应\\t不支持！@陳立農工作室[微笑][微笑]1\\t</td>\n",
       "      <td>请正面回应\\t不支持！@陳立農工作室[微笑][微笑]1\\t我真是气到死！\\t来，我们谈谈人生...</td>\n",
       "    </tr>\n",
       "    <tr>\n",
       "      <th>49907</th>\n",
       "      <td>4301684919880140</td>\n",
       "      <td>很多未成年少女被侵犯恰恰是那些熟悉的人，意想不到的。《高铁事件到底是不是猥亵？多位专家给了说...</td>\n",
       "      <td>651303513fd7e8487163d9ace9757d9c.jpg</td>\n",
       "      <td>社会生活</td>\n",
       "      <td>1</td>\n",
       "      <td>0</td>\n",
       "      <td>0</td>\n",
       "      <td>NaN</td>\n",
       "      <td>NaN</td>\n",
       "    </tr>\n",
       "    <tr>\n",
       "      <th>49908</th>\n",
       "      <td>4302998223949938</td>\n",
       "      <td>#官方回应车轮带泥被罚#这一案例，就像发生在浙江省金华市多湖派出所丢失警犬处理一案那样，是警...</td>\n",
       "      <td>5df69b4bb412a48f4055c4d9e6a3d85e.jpg\\t0b52423e...</td>\n",
       "      <td>社会生活</td>\n",
       "      <td>1</td>\n",
       "      <td>0</td>\n",
       "      <td>0</td>\n",
       "      <td>小散们最无助的时候，只有@股市抄盘能带你们起飞。今天又板了2支\\t希望能改进服务态度。\\t</td>\n",
       "      <td>小散们最无助的时候，只有@股市抄盘能带你们起飞。今天又板了2支\\t希望能改进服务态度。\\t扬...</td>\n",
       "    </tr>\n",
       "    <tr>\n",
       "      <th>49909</th>\n",
       "      <td>4301326785542331</td>\n",
       "      <td>【父亲应教给孩子的15件事】网传“诈尸式育儿”，具体是指父亲在家庭教育中经常缺位，却又偶尔在...</td>\n",
       "      <td>88fa02e2efe83ac4ce1d0505e4b50894.jpg\\tc3aecbe4...</td>\n",
       "      <td>社会生活</td>\n",
       "      <td>1</td>\n",
       "      <td>0</td>\n",
       "      <td>0</td>\n",
       "      <td>回复@嘿明先生的表态:[中国赞]\\t@tony小强哥\\t</td>\n",
       "      <td>回复@嘿明先生的表态:[中国赞]\\t@tony小强哥\\t回复@啊哈哈iq狂想曲的表态:[米奇...</td>\n",
       "    </tr>\n",
       "  </tbody>\n",
       "</table>\n",
       "<p>49910 rows × 9 columns</p>\n",
       "</div>"
      ],
      "text/plain": [
       "                     id                                            content  \\\n",
       "0      4028762460708675             回复新浪网友对博文【国家文物局限制鉴宝节目现场估价转】的评论：;;查看原文：   \n",
       "1      4126670854660291  //分享网易新闻:《发生在昆明的火锅店老板“辱滇门”，云南人该愤怒还是羞愧》|发生在昆明.....   \n",
       "2      3702441948299962                          西宁城管围殴民警扬言要把警察打死|西宁城管围...   \n",
       "3      4239549419245466  【川航航班因驾驶舱风挡破裂安全备降成都】今天上午6:26从重庆江北国际机场出发前往拉萨的四川...   \n",
       "4      3966337217183260                   支持郑强！！！//【贵州大学校长回应空姐言论:常给她们写感谢信】   \n",
       "...                 ...                                                ...   \n",
       "49905  4281576541648565  \\t\\t奇妙的食光声明 网传的奇妙的食光澳洲冲突事件告一段落！庭审结果没有罚款没有赔偿没有逮...   \n",
       "49906  4300177235889695  #请陈立农工作室立刻停止不合理商业合作# 望贵公司可以好好规划艺人的发展，宁缺毋滥，这次的事...   \n",
       "49907  4301684919880140  很多未成年少女被侵犯恰恰是那些熟悉的人，意想不到的。《高铁事件到底是不是猥亵？多位专家给了说...   \n",
       "49908  4302998223949938  #官方回应车轮带泥被罚#这一案例，就像发生在浙江省金华市多湖派出所丢失警犬处理一案那样，是警...   \n",
       "49909  4301326785542331  【父亲应教给孩子的15件事】网传“诈尸式育儿”，具体是指父亲在家庭教育中经常缺位，却又偶尔在...   \n",
       "\n",
       "                                           picture_lists category  ncw_label  \\\n",
       "0                                                    NaN     文体娱乐          0   \n",
       "1                   63ad082a189566eed7c4bb3e4bc55012.jpg     社会生活          0   \n",
       "2                   4986dc2a5f09a87c7af5dfc57d7775cd.jpg     社会生活          0   \n",
       "3                   dcfccfc69e90a0007afd6aafa1385e56.jpg     社会生活          0   \n",
       "4                                                    NaN     社会生活          0   \n",
       "...                                                  ...      ...        ...   \n",
       "49905  1599889a0b2357a4e1464b532a046f58.jpg\\t3d20edbf...     文体娱乐          1   \n",
       "49906               d9904fccbc04bee388a92786a379c197.jpg     文体娱乐          1   \n",
       "49907               651303513fd7e8487163d9ace9757d9c.jpg     社会生活          1   \n",
       "49908  5df69b4bb412a48f4055c4d9e6a3d85e.jpg\\t0b52423e...     社会生活          1   \n",
       "49909  88fa02e2efe83ac4ce1d0505e4b50894.jpg\\tc3aecbe4...     社会生活          1   \n",
       "\n",
       "       fake_label  real_label                                     comment_2c  \\\n",
       "0               0           1                                            NaN   \n",
       "1               0           1                                            NaN   \n",
       "2               0           1                                            NaN   \n",
       "3               0           1                                            NaN   \n",
       "4               0           1                                            NaN   \n",
       "...           ...         ...                                            ...   \n",
       "49905           0           0                    哪个台的\\t不评论打人行为的话，那私生本身就很可怕\\t   \n",
       "49906           0           0                  请正面回应\\t不支持！@陳立農工作室[微笑][微笑]1\\t   \n",
       "49907           0           0                                            NaN   \n",
       "49908           0           0  小散们最无助的时候，只有@股市抄盘能带你们起飞。今天又板了2支\\t希望能改进服务态度。\\t   \n",
       "49909           0           0                   回复@嘿明先生的表态:[中国赞]\\t@tony小强哥\\t   \n",
       "\n",
       "                                             comment_all  \n",
       "0                                                    NaN  \n",
       "1                                                    NaN  \n",
       "2                                                    NaN  \n",
       "3                                                    NaN  \n",
       "4                                                    NaN  \n",
       "...                                                  ...  \n",
       "49905  哪个台的\\t不评论打人行为的话，那私生本身就很可怕\\t代拍卖图随随便便大把钱，跟车别车、无视...  \n",
       "49906  请正面回应\\t不支持！@陳立農工作室[微笑][微笑]1\\t我真是气到死！\\t来，我们谈谈人生...  \n",
       "49907                                                NaN  \n",
       "49908  小散们最无助的时候，只有@股市抄盘能带你们起飞。今天又板了2支\\t希望能改进服务态度。\\t扬...  \n",
       "49909  回复@嘿明先生的表态:[中国赞]\\t@tony小强哥\\t回复@啊哈哈iq狂想曲的表态:[米奇...  \n",
       "\n",
       "[49910 rows x 9 columns]"
      ]
     },
     "execution_count": 72,
     "metadata": {},
     "output_type": "execute_result"
    }
   ],
   "source": [
    "data"
   ]
  },
  {
   "cell_type": "code",
   "execution_count": 73,
   "id": "little-silicon",
   "metadata": {},
   "outputs": [
    {
     "name": "stdout",
     "output_type": "stream",
     "text": [
      "<class 'pandas.core.frame.DataFrame'>\n",
      "RangeIndex: 49910 entries, 0 to 49909\n",
      "Data columns (total 9 columns):\n",
      " #   Column         Non-Null Count  Dtype \n",
      "---  ------         --------------  ----- \n",
      " 0   id             49910 non-null  object\n",
      " 1   content        49910 non-null  object\n",
      " 2   picture_lists  29625 non-null  object\n",
      " 3   category       49910 non-null  object\n",
      " 4   ncw_label      49910 non-null  int64 \n",
      " 5   fake_label     49910 non-null  int64 \n",
      " 6   real_label     49910 non-null  int64 \n",
      " 7   comment_2c     22689 non-null  object\n",
      " 8   comment_all    22689 non-null  object\n",
      "dtypes: int64(3), object(6)\n",
      "memory usage: 3.4+ MB\n"
     ]
    }
   ],
   "source": [
    "data.info()"
   ]
  },
  {
   "cell_type": "code",
   "execution_count": 74,
   "id": "honey-definition",
   "metadata": {},
   "outputs": [
    {
     "name": "stdout",
     "output_type": "stream",
     "text": [
      "回复新浪网友对博文【国家文物局限制鉴宝节目现场估价转】的评论：;;查看原文：\n",
      "//分享网易新闻:《发生在昆明的火锅店老板“辱滇门”，云南人该愤怒还是羞愧》|发生在昆明...@网易新闻客户端#网易新闻#\n",
      "西宁城管围殴民警扬言要把警察打死|西宁城管围...\n"
     ]
    }
   ],
   "source": [
    "for i in data[:3]['content']:\n",
    "    print(i)\n",
    "    "
   ]
  },
  {
   "cell_type": "code",
   "execution_count": 75,
   "id": "premier-census",
   "metadata": {},
   "outputs": [
    {
     "data": {
      "text/plain": [
       "category\n",
       "社会生活    22258\n",
       "文体娱乐    10232\n",
       "医药健康     8123\n",
       "科技       2506\n",
       "财经商业     2267\n",
       "军事       1978\n",
       "政治       1544\n",
       "教育考试     1002\n",
       "Name: id, dtype: int64"
      ]
     },
     "execution_count": 75,
     "metadata": {},
     "output_type": "execute_result"
    }
   ],
   "source": [
    "data.groupby('category')['id'].count().sort_values(ascending=False)"
   ]
  },
  {
   "cell_type": "code",
   "execution_count": 76,
   "id": "proved-panic",
   "metadata": {},
   "outputs": [],
   "source": [
    "count1 = data.groupby('category')['id'].count().sort_values(ascending=False).reset_index()"
   ]
  },
  {
   "cell_type": "code",
   "execution_count": 77,
   "id": "numeric-light",
   "metadata": {},
   "outputs": [],
   "source": [
    "count1.columns=['category','count']"
   ]
  },
  {
   "cell_type": "code",
   "execution_count": 78,
   "id": "sufficient-deployment",
   "metadata": {},
   "outputs": [
    {
     "data": {
      "text/html": [
       "<div>\n",
       "<style scoped>\n",
       "    .dataframe tbody tr th:only-of-type {\n",
       "        vertical-align: middle;\n",
       "    }\n",
       "\n",
       "    .dataframe tbody tr th {\n",
       "        vertical-align: top;\n",
       "    }\n",
       "\n",
       "    .dataframe thead th {\n",
       "        text-align: right;\n",
       "    }\n",
       "</style>\n",
       "<table border=\"1\" class=\"dataframe\">\n",
       "  <thead>\n",
       "    <tr style=\"text-align: right;\">\n",
       "      <th></th>\n",
       "      <th>category</th>\n",
       "      <th>count</th>\n",
       "    </tr>\n",
       "  </thead>\n",
       "  <tbody>\n",
       "    <tr>\n",
       "      <th>0</th>\n",
       "      <td>社会生活</td>\n",
       "      <td>22258</td>\n",
       "    </tr>\n",
       "    <tr>\n",
       "      <th>1</th>\n",
       "      <td>文体娱乐</td>\n",
       "      <td>10232</td>\n",
       "    </tr>\n",
       "    <tr>\n",
       "      <th>2</th>\n",
       "      <td>医药健康</td>\n",
       "      <td>8123</td>\n",
       "    </tr>\n",
       "    <tr>\n",
       "      <th>3</th>\n",
       "      <td>科技</td>\n",
       "      <td>2506</td>\n",
       "    </tr>\n",
       "    <tr>\n",
       "      <th>4</th>\n",
       "      <td>财经商业</td>\n",
       "      <td>2267</td>\n",
       "    </tr>\n",
       "    <tr>\n",
       "      <th>5</th>\n",
       "      <td>军事</td>\n",
       "      <td>1978</td>\n",
       "    </tr>\n",
       "    <tr>\n",
       "      <th>6</th>\n",
       "      <td>政治</td>\n",
       "      <td>1544</td>\n",
       "    </tr>\n",
       "    <tr>\n",
       "      <th>7</th>\n",
       "      <td>教育考试</td>\n",
       "      <td>1002</td>\n",
       "    </tr>\n",
       "  </tbody>\n",
       "</table>\n",
       "</div>"
      ],
      "text/plain": [
       "  category  count\n",
       "0     社会生活  22258\n",
       "1     文体娱乐  10232\n",
       "2     医药健康   8123\n",
       "3       科技   2506\n",
       "4     财经商业   2267\n",
       "5       军事   1978\n",
       "6       政治   1544\n",
       "7     教育考试   1002"
      ]
     },
     "execution_count": 78,
     "metadata": {},
     "output_type": "execute_result"
    }
   ],
   "source": [
    "count1"
   ]
  },
  {
   "cell_type": "code",
   "execution_count": 79,
   "id": "informal-defense",
   "metadata": {},
   "outputs": [],
   "source": [
    "#通过下面这行解决MAC OS中文乱码问题\n",
    "# plt.rcParams['font.family'] = ['Arial Unicode MS'] #用来正常显示中文标签\n",
    "# plt.rcParams['axes.unicode_minus'] = False #用来正常显示负号\n",
    "\n",
    "sns.set_style('whitegrid',{'font.sans-serif':['Arial Unicode MS','Arial']})"
   ]
  },
  {
   "cell_type": "code",
   "execution_count": 80,
   "id": "departmental-verse",
   "metadata": {},
   "outputs": [
    {
     "data": {
      "text/plain": [
       "<AxesSubplot:xlabel='category', ylabel='count'>"
      ]
     },
     "execution_count": 80,
     "metadata": {},
     "output_type": "execute_result"
    },
    {
     "data": {
      "image/png": "[encoded data removed]",
      "text/plain": [
       "<Figure size 432x288 with 1 Axes>"
      ]
     },
     "metadata": {},
     "output_type": "display_data"
    }
   ],
   "source": [
    "sns.barplot(x=count1['category'], y=count1['count'],)"
   ]
  },
  {
   "cell_type": "code",
   "execution_count": 81,
   "id": "cloudy-german",
   "metadata": {},
   "outputs": [
    {
     "data": {
      "image/png": "[encoded data removed]",
      "text/plain": [
       "<Figure size 432x288 with 1 Axes>"
      ]
     },
     "metadata": {},
     "output_type": "display_data"
    }
   ],
   "source": [
    "g = sns.barplot(data=count1,x='category',y='count')"
   ]
  },
  {
   "cell_type": "code",
   "execution_count": 82,
   "id": "referenced-sequence",
   "metadata": {},
   "outputs": [],
   "source": [
    "text = ' '.join(data['content'].tolist())"
   ]
  },
  {
   "cell_type": "code",
   "execution_count": 83,
   "id": "numeric-capacity",
   "metadata": {},
   "outputs": [],
   "source": [
    "w = wordcloud.WordCloud(font_path=\"../../simhei.ttf\",height=1980,width=1280,margin=2).generate(text)"
   ]
  },
  {
   "cell_type": "code",
   "execution_count": 84,
   "id": "heated-possession",
   "metadata": {},
   "outputs": [
    {
     "data": {
      "text/plain": [
       "<matplotlib.image.AxesImage at 0x7fa333b575c0>"
      ]
     },
     "execution_count": 84,
     "metadata": {},
     "output_type": "execute_result"
    },
    {
     "data": {
      "image/png": "[encoded data removed]",
      "text/plain": [
       "<Figure size 432x288 with 1 Axes>"
      ]
     },
     "metadata": {},
     "output_type": "display_data"
    }
   ],
   "source": [
    "plt.imshow(w)"
   ]
  },
  {
   "cell_type": "code",
   "execution_count": 85,
   "id": "champion-fellowship",
   "metadata": {},
   "outputs": [],
   "source": [
    "from collections import Counter"
   ]
  },
  {
   "cell_type": "code",
   "execution_count": 86,
   "id": "operational-appearance",
   "metadata": {},
   "outputs": [
    {
     "name": "stderr",
     "output_type": "stream",
     "text": [
      "Building prefix dict from the default dictionary ...\n",
      "Dumping model to file cache /var/folders/zq/d0jljc5s673d13cx7fkr0w_w0000gp/T/jieba.cache\n",
      "Loading model cost 0.945 seconds.\n",
      "Prefix dict has been built successfully.\n"
     ]
    }
   ],
   "source": [
    "textlist = list(jieba.cut(text))"
   ]
  },
  {
   "cell_type": "code",
   "execution_count": 93,
   "id": "distributed-score",
   "metadata": {},
   "outputs": [],
   "source": [
    "text_tongji = Counter(textlist)"
   ]
  },
  {
   "cell_type": "code",
   "execution_count": 95,
   "id": "individual-writer",
   "metadata": {},
   "outputs": [],
   "source": [
    "d = {key:value for (key,value) in text_tongji.most_common(100)}"
   ]
  },
  {
   "cell_type": "code",
   "execution_count": 96,
   "id": "pharmaceutical-collective",
   "metadata": {},
   "outputs": [
    {
     "data": {
      "text/plain": [
       "{'，': 223552,\n",
       " '的': 119591,\n",
       " ' ': 95994,\n",
       " '。': 73718,\n",
       " '\\t': 49224,\n",
       " '了': 47967,\n",
       " '！': 34226,\n",
       " '、': 33123,\n",
       " '#': 32540,\n",
       " '在': 29289,\n",
       " '是': 28452,\n",
       " '有': 23214,\n",
       " '：': 23024,\n",
       " '被': 20735,\n",
       " '@': 18757,\n",
       " '“': 16644,\n",
       " '都': 16339,\n",
       " '人': 16002,\n",
       " '”': 15981,\n",
       " '？': 14986,\n",
       " '【': 14950,\n",
       " '】': 14860,\n",
       " '我': 14457,\n",
       " '...': 13279,\n",
       " '和': 12082,\n",
       " '\\u200b': 12063,\n",
       " '你': 11679,\n",
       " '月': 10989,\n",
       " '不': 10911,\n",
       " '日': 10697,\n",
       " '就': 9675,\n",
       " '中国': 9278,\n",
       " '…': 9219,\n",
       " '也': 9202,\n",
       " '上': 8965,\n",
       " '孩子': 8705,\n",
       " '（': 8244,\n",
       " '看': 8228,\n",
       " '/': 8221,\n",
       " '）': 8081,\n",
       " '多': 7998,\n",
       " '请': 7575,\n",
       " '《': 7179,\n",
       " '能': 7098,\n",
       " '》': 7082,\n",
       " ':': 7072,\n",
       " '他': 6890,\n",
       " '小女孩': 6864,\n",
       " '她': 6808,\n",
       " '从': 6608,\n",
       " '对': 6534,\n",
       " '说': 6490,\n",
       " '为': 6485,\n",
       " '2': 6303,\n",
       " '一下': 6194,\n",
       " '帮忙': 6082,\n",
       " '看到': 6067,\n",
       " '一个': 6014,\n",
       " '|': 6007,\n",
       " '我们': 6000,\n",
       " '到': 5867,\n",
       " ';': 5728,\n",
       " '走': 5687,\n",
       " '给': 5412,\n",
       " '信息': 5375,\n",
       " '急': 5245,\n",
       " '要': 5188,\n",
       " '.': 5157,\n",
       " '将': 5157,\n",
       " '这': 5081,\n",
       " '附近': 5020,\n",
       " '大家': 5009,\n",
       " '中': 4969,\n",
       " '1': 4961,\n",
       " '年': 4913,\n",
       " '3': 4894,\n",
       " '视频': 4856,\n",
       " '时': 4632,\n",
       " '没有': 4593,\n",
       " '之': 4578,\n",
       " '一': 4557,\n",
       " '已': 4554,\n",
       " '还': 4492,\n",
       " '；': 4490,\n",
       " '10': 4439,\n",
       " '吗': 4434,\n",
       " '会': 4430,\n",
       " '好': 4421,\n",
       " '5': 4368,\n",
       " '等': 4364,\n",
       " '扩散': 4344,\n",
       " '后': 4343,\n",
       " '爸爸': 4302,\n",
       " '监控': 4241,\n",
       " '-': 4228,\n",
       " '大人': 4163,\n",
       " '抱': 4140,\n",
       " '发生': 4122,\n",
       " '男人': 4111,\n",
       " '自己': 4098}"
      ]
     },
     "execution_count": 96,
     "metadata": {},
     "output_type": "execute_result"
    }
   ],
   "source": [
    "d"
   ]
  },
  {
   "cell_type": "code",
   "execution_count": 92,
   "id": "lovely-composite",
   "metadata": {},
   "outputs": [],
   "source": [
    "stopwords = ['，','的',' ','。','\\t','了','!','%','@','#','\"','”','？','：','有','是','被','在','都','人','【','】','...','我','\\u200b','和','你','月','日','就','不','也','上','…','看','）','/','（','）']"
   ]
  },
  {
   "cell_type": "code",
   "execution_count": null,
   "id": "indie-retention",
   "metadata": {},
   "outputs": [],
   "source": []
  }
 ],
 "metadata": {
  "kernelspec": {
   "display_name": "Python 3",
   "language": "python",
   "name": "python3"
  },
  "language_info": {
   "codemirror_mode": {
    "name": "ipython",
    "version": 3
   },
   "file_extension": ".py",
   "mimetype": "text/x-python",
   "name": "python",
   "nbconvert_exporter": "python",
   "pygments_lexer": "ipython3",
   "version": "3.6.5"
  }
 },
 "nbformat": 4,
 "nbformat_minor": 5
}
