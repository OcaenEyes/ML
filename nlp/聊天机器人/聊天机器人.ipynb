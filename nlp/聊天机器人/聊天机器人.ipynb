{
 "cells": [
  {
   "cell_type": "code",
   "execution_count": 1,
   "id": "bf165f41-09bb-4787-8dbf-5b50e6ab38bb",
   "metadata": {},
   "outputs": [],
   "source": [
    "import os\n",
    "from configparser import SafeConfigParser"
   ]
  },
  {
   "cell_type": "code",
   "execution_count": 2,
   "id": "5b92047e-9feb-4d84-926b-b3d20a280570",
   "metadata": {},
   "outputs": [
    {
     "name": "stderr",
     "output_type": "stream",
     "text": [
      "/Users/gaozhiyong/Documents/pyenv/py3.6_tf2.6/lib/python3.6/site-packages/ipykernel_launcher.py:1: DeprecationWarning: The SafeConfigParser class has been renamed to ConfigParser in Python 3.2. This alias will be removed in future versions. Use ConfigParser directly instead.\n",
      "  \"\"\"Entry point for launching an IPython kernel.\n"
     ]
    },
    {
     "data": {
      "text/plain": [
       "['./tf2.6_prj/seq2seq.ini']"
      ]
     },
     "execution_count": 2,
     "metadata": {},
     "output_type": "execute_result"
    }
   ],
   "source": [
    "parser = SafeConfigParser()\n",
    "parser.read(\"./tf2.6_prj/seq2seq.ini\")"
   ]
  },
  {
   "cell_type": "code",
   "execution_count": 6,
   "id": "d11a019c-15ec-4f45-9d34-c25caf9d6237",
   "metadata": {},
   "outputs": [],
   "source": [
    "_conf_ints = [ (key, int(value)) for key,value in parser.items('ints')]\n",
    "_conf_floats = [ (key, float(value)) for key,value in parser.items('floats') ]\n",
    "_conf_strings = [ (key, str(value)) for key,value in parser.items('strings') ]"
   ]
  },
  {
   "cell_type": "code",
   "execution_count": 7,
   "id": "1707aa6a-30cf-4360-924d-3de5c5e013ae",
   "metadata": {},
   "outputs": [
    {
     "data": {
      "text/plain": [
       "[('vocab_inp_size', 20000),\n",
       " ('vocab_tar_size', 20000),\n",
       " ('embedding_dim', 128),\n",
       " ('train_epoch', 10),\n",
       " ('layer_size', 512),\n",
       " ('batch_size', 64),\n",
       " ('max_length', 20),\n",
       " ('number_work', 2)]"
      ]
     },
     "execution_count": 7,
     "metadata": {},
     "output_type": "execute_result"
    }
   ],
   "source": [
    "_conf_ints"
   ]
  },
  {
   "cell_type": "code",
   "execution_count": 9,
   "id": "65468e5b-6b79-42c7-8b3c-e3a1d9b33dd9",
   "metadata": {},
   "outputs": [
    {
     "data": {
      "text/plain": [
       "{'vocab_inp_size': 20000,\n",
       " 'vocab_tar_size': 20000,\n",
       " 'embedding_dim': 128,\n",
       " 'train_epoch': 10,\n",
       " 'layer_size': 512,\n",
       " 'batch_size': 64,\n",
       " 'max_length': 20,\n",
       " 'number_work': 2,\n",
       " 'min_loss': 0.2,\n",
       " 'mode': 'train',\n",
       " 'train_data': 'datasets',\n",
       " 'seq_data': 'datasets/seq.data',\n",
       " 'vocab_inp_path': 'datasets/inp.vocab',\n",
       " 'vocab_tar_path': 'datasets/tar.vocab',\n",
       " 'resource_data': 'datasets/xiaohuangji50w_nofenci.conv',\n",
       " 'split_train_data': 'datasets/seq_data_',\n",
       " 'e': 'E',\n",
       " 'm': 'M',\n",
       " 'model_data': 'model_data',\n",
       " 'log_dir': 'log_dir'}"
      ]
     },
     "execution_count": 9,
     "metadata": {},
     "output_type": "execute_result"
    }
   ],
   "source": [
    "dict(_conf_ints+_conf_floats+_conf_strings)"
   ]
  },
  {
   "cell_type": "code",
   "execution_count": null,
   "id": "441e65b4-2035-4994-a669-75644a175b87",
   "metadata": {},
   "outputs": [],
   "source": []
  }
 ],
 "metadata": {
  "kernelspec": {
   "display_name": "py3.6_tf2.6",
   "language": "python",
   "name": "py3.6_tf2.6"
  },
  "language_info": {
   "codemirror_mode": {
    "name": "ipython",
    "version": 3
   },
   "file_extension": ".py",
   "mimetype": "text/x-python",
   "name": "python",
   "nbconvert_exporter": "python",
   "pygments_lexer": "ipython3",
   "version": "3.6.5"
  }
 },
 "nbformat": 4,
 "nbformat_minor": 5
}
