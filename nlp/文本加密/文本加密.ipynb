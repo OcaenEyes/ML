{
 "cells": [
  {
   "cell_type": "code",
   "execution_count": 1,
   "id": "ad0f04f6-8e8c-40f8-ba71-0517e1989e04",
   "metadata": {},
   "outputs": [],
   "source": [
    "import Crypto\n",
    "from Crypto.Cipher import AES"
   ]
  },
  {
   "cell_type": "code",
   "execution_count": 2,
   "id": "79bba8b1-94a8-4ed5-9f18-53ae57a8e4ce",
   "metadata": {},
   "outputs": [],
   "source": [
    "import sys"
   ]
  },
  {
   "cell_type": "code",
   "execution_count": 3,
   "id": "0057dd0b-cd50-460a-8b99-4398e80ea914",
   "metadata": {},
   "outputs": [],
   "source": [
    "def embed(sentence, wm, password):\n",
    "    # 对水印做AES加密\n",
    "    wm = wm.encode('utf-8')\n",
    "    cryptor = AES.new(key='{:0<16}'.format(password).encode('utf-8'),\n",
    "                      mode=AES.MODE_ECB)  # key 长度必须是16,24,32 长度的 byte 格式\n",
    "    ciphertext_tmp = cryptor.encrypt(wm + b' ' * (16 - len(wm) % 16))  # 明文的长度必须是16的整数倍\n",
    "    ciphertext_hex = ciphertext_tmp.hex()  # 转为16进制\n",
    "\n",
    "    bin_text = bin(int(ciphertext_hex, base=16))[2:]\n",
    "\n",
    "    # 打入水印\n",
    "    len_bin_text = len(bin_text)\n",
    "    len_sentence = len(sentence)\n",
    "    assert len_sentence > len_bin_text, \"文本长度太短了,至少{}\".format(len_bin_text)\n",
    "\n",
    "    sentence_embed = \"\"\n",
    "    for idx in range(len_sentence):\n",
    "        sentence_embed += sentence[idx]\n",
    "        if idx < len_bin_text:\n",
    "            if bin_text[idx] == \"1\":\n",
    "                sentence_embed += chr(127)\n",
    "\n",
    "    # print(\"打入水印后的结果：\")\n",
    "    # print(\"水印长度{}\".format(len(bin_text)))\n",
    "    # print(sentence_embed)\n",
    "    return sentence_embed"
   ]
  },
  {
   "cell_type": "code",
   "execution_count": 5,
   "id": "835cf776-6330-4d69-aea1-25c9a7da2290",
   "metadata": {},
   "outputs": [],
   "source": [
    "wm = \"绝密：两点老地方见！\"\n",
    "password = '20190808'\n",
    "sentence = \"这句话中有盲水印，你能提取出来吗？\" * 16"
   ]
  },
  {
   "cell_type": "code",
   "execution_count": 6,
   "id": "ba3656d1-4c34-4448-8a79-268a8f612f98",
   "metadata": {},
   "outputs": [],
   "source": [
    "# %%\n",
    "# 打入盲水印\n",
    "sentence_embed = embed(sentence, wm, password)"
   ]
  },
  {
   "cell_type": "code",
   "execution_count": 7,
   "id": "bb9ba893-bf2e-48ea-b20f-bae0b63fbd3e",
   "metadata": {},
   "outputs": [
    {
     "data": {
      "text/plain": [
       "'这\\x7f句话\\x7f中\\x7f有\\x7f盲\\x7f水\\x7f印\\x7f，你能提取\\x7f出来\\x7f吗\\x7f？这句话\\x7f中有盲水\\x7f印，\\x7f你能提\\x7f取出\\x7f来吗？这\\x7f句话中\\x7f有盲\\x7f水印，你\\x7f能\\x7f提取\\x7f出\\x7f来\\x7f吗？这句话中有盲水\\x7f印，\\x7f你能\\x7f提取\\x7f出\\x7f来吗？\\x7f这\\x7f句话\\x7f中有\\x7f盲水印，\\x7f你\\x7f能提取出来\\x7f吗？\\x7f这句话\\x7f中\\x7f有\\x7f盲水\\x7f印\\x7f，\\x7f你能提取\\x7f出来吗？\\x7f这\\x7f句\\x7f话\\x7f中有\\x7f盲水印\\x7f，\\x7f你能提取出来吗？这句话中有盲\\x7f水印，\\x7f你\\x7f能\\x7f提\\x7f取出\\x7f来吗？\\x7f这句\\x7f话中有盲水\\x7f印，你能\\x7f提\\x7f取出\\x7f来吗\\x7f？这\\x7f句话\\x7f中\\x7f有盲水印，你\\x7f能\\x7f提取\\x7f出来\\x7f吗\\x7f？这句话\\x7f中\\x7f有盲\\x7f水印，\\x7f你\\x7f能\\x7f提取\\x7f出来\\x7f吗？这\\x7f句话\\x7f中有\\x7f盲\\x7f水印\\x7f，\\x7f你\\x7f能\\x7f提取出来\\x7f吗？这\\x7f句\\x7f话\\x7f中有盲\\x7f水\\x7f印，你能提取\\x7f出来\\x7f吗？这\\x7f句话中\\x7f有\\x7f盲水印\\x7f，你能\\x7f提取\\x7f出\\x7f来\\x7f吗\\x7f？这句\\x7f话中\\x7f有\\x7f盲\\x7f水印\\x7f，你\\x7f能提\\x7f取出来\\x7f吗\\x7f？这句话中有盲水印，你能提取出来吗？'"
      ]
     },
     "execution_count": 7,
     "metadata": {},
     "output_type": "execute_result"
    }
   ],
   "source": [
    "sentence_embed"
   ]
  },
  {
   "cell_type": "code",
   "execution_count": 4,
   "id": "ca5aa83b-599c-4701-b10c-1aef67537cb3",
   "metadata": {},
   "outputs": [],
   "source": [
    "# %%提取水印\n",
    "\n",
    "def extract(sentence_embed, password):\n",
    "    bin_wm_extract = \"\"\n",
    "    previous_is_char = False\n",
    "    for i in sentence_embed:\n",
    "        if previous_is_char:\n",
    "            if ord(i) == 127:\n",
    "                bin_wm_extract += \"1\"\n",
    "                previous_is_char = False\n",
    "            else:\n",
    "                bin_wm_extract += \"0\"\n",
    "                previous_is_char = True\n",
    "        else:\n",
    "            previous_is_char = True\n",
    "\n",
    "    #  去掉末尾的0\n",
    "\n",
    "    last_zero = len(bin_wm_extract) - bin_wm_extract[::-1].find(\"1\")\n",
    "\n",
    "    last_zero = ((last_zero - 1) // 128 + 1) * 128\n",
    "    bin_wm_extract = bin_wm_extract[:last_zero]\n",
    "\n",
    "    # 解密\n",
    "\n",
    "    hex_wm_extract = hex(int(bin_wm_extract, base=2))\n",
    "\n",
    "    return AES.new(key='{:0<16}'.format(password).encode('utf-8'), mode=AES.MODE_ECB) \\\n",
    "        .decrypt(bytes.fromhex(hex_wm_extract[2:])).decode('utf-8')  # key 长度必须是16,24,32 长度的 byte 格式"
   ]
  },
  {
   "cell_type": "code",
   "execution_count": 8,
   "id": "13524cfc-520f-4e38-b3d9-6133be9f6459",
   "metadata": {},
   "outputs": [],
   "source": [
    "# %% 解出盲水印\n",
    "wm_extract = extract(sentence_embed, password)"
   ]
  },
  {
   "cell_type": "code",
   "execution_count": 9,
   "id": "d1d37fc3-605e-433c-88b9-da6cba7c86b6",
   "metadata": {},
   "outputs": [
    {
     "data": {
      "text/plain": [
       "'绝密：两点老地方见！  '"
      ]
     },
     "execution_count": 9,
     "metadata": {},
     "output_type": "execute_result"
    }
   ],
   "source": [
    "wm_extract"
   ]
  },
  {
   "cell_type": "code",
   "execution_count": null,
   "id": "ae7a9261-6fa3-4132-8e33-94d4e2d5d4b3",
   "metadata": {},
   "outputs": [],
   "source": []
  }
 ],
 "metadata": {
  "kernelspec": {
   "display_name": "py3.6.5_tf2",
   "language": "python",
   "name": "py3.6.5_tf2"
  },
  "language_info": {
   "codemirror_mode": {
    "name": "ipython",
    "version": 3
   },
   "file_extension": ".py",
   "mimetype": "text/x-python",
   "name": "python",
   "nbconvert_exporter": "python",
   "pygments_lexer": "ipython3",
   "version": "3.6.5"
  }
 },
 "nbformat": 4,
 "nbformat_minor": 5
}
