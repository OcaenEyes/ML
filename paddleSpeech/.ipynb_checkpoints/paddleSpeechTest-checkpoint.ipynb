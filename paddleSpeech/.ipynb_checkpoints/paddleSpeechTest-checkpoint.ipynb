{
 "cells": [
  {
   "cell_type": "markdown",
   "id": "c44cf538-ff12-4faf-b338-0408ce148c50",
   "metadata": {},
   "source": [
    "## ASR【Automatic Speech Recognition】"
   ]
  },
  {
   "cell_type": "code",
   "execution_count": 1,
   "id": "9dbdb540-fcf6-4e68-80ad-3b39ebaa2594",
   "metadata": {},
   "outputs": [
    {
     "name": "stderr",
     "output_type": "stream",
     "text": [
      "C:\\Users\\Administrator\\Envs\\py3.8.6_paddle\\lib\\site-packages\\librosa\\core\\constantq.py:1059: DeprecationWarning: `np.complex` is a deprecated alias for the builtin `complex`. To silence this warning, use `complex` by itself. Doing this will not modify any behavior and is safe. If you specifically wanted the numpy scalar type, use `np.complex128` here.\n",
      "Deprecated in NumPy 1.20; for more details and guidance: https://numpy.org/devdocs/release/1.20.0-notes.html#deprecations\n",
      "  dtype=np.complex,\n",
      "C:\\Users\\Administrator\\Envs\\py3.8.6_paddle\\lib\\site-packages\\paddleaudio\\_extension.py:141: UserWarning: paddleaudio C++ extension is not available. sox_io, sox_effect, kaldi raw feature is not supported!!!\n",
      "  warnings.warn(\n"
     ]
    }
   ],
   "source": [
    "from paddlespeech.cli.asr.infer import ASRExecutor"
   ]
  },
  {
   "cell_type": "code",
   "execution_count": 2,
   "id": "9ba75491-4d6b-4dfb-b46c-c0f3615b6205",
   "metadata": {},
   "outputs": [],
   "source": [
    "asr = ASRExecutor()"
   ]
  },
  {
   "cell_type": "code",
   "execution_count": 3,
   "id": "802f30ae-3e53-47cc-a21d-4ee7b87e673a",
   "metadata": {},
   "outputs": [
    {
     "name": "stdout",
     "output_type": "stream",
     "text": [
      "\u001b[32m2023-04-16 15:04:01.733\u001b[0m | \u001b[1mINFO    \u001b[0m | \u001b[36mpaddlespeech.s2t.modules.ctc\u001b[0m:\u001b[36m<module>\u001b[0m:\u001b[36m45\u001b[0m - \u001b[1mpaddlespeech_ctcdecoders not installed!\u001b[0m\n",
      "\u001b[32m2023-04-16 15:04:05.988\u001b[0m | \u001b[1mINFO    \u001b[0m | \u001b[36mpaddlespeech.s2t.modules.embedding\u001b[0m:\u001b[36m__init__\u001b[0m:\u001b[36m150\u001b[0m - \u001b[1mmax len: 5000\u001b[0m\n"
     ]
    },
    {
     "name": "stderr",
     "output_type": "stream",
     "text": [
      "C:\\Users\\Administrator\\Envs\\py3.8.6_paddle\\lib\\site-packages\\paddle\\fluid\\dygraph\\math_op_patch.py:275: UserWarning: The dtype of left and right variables are not the same, left dtype is paddle.int64, but right dtype is paddle.bool, the right dtype will convert to paddle.int64\n",
      "  warnings.warn(\n"
     ]
    }
   ],
   "source": [
    "result = asr(audio_file=\"zh.wav\")"
   ]
  },
  {
   "cell_type": "code",
   "execution_count": 4,
   "id": "cd8aed0e-36ec-448e-a417-e032f189560e",
   "metadata": {},
   "outputs": [
    {
     "name": "stdout",
     "output_type": "stream",
     "text": [
      "我认为跑步最重要的就是给我带来了身体健康\n"
     ]
    }
   ],
   "source": [
    "print(result)"
   ]
  },
  {
   "cell_type": "markdown",
   "id": "b97322d8-6a4e-42ae-9b80-509a64d3c4ea",
   "metadata": {},
   "source": [
    "## TTS【Text-to-Speech】"
   ]
  },
  {
   "cell_type": "code",
   "execution_count": 6,
   "id": "5006126a-637b-4331-b53a-a091c651cad3",
   "metadata": {},
   "outputs": [],
   "source": [
    "from paddlespeech.cli.tts.infer import TTSExecutor"
   ]
  },
  {
   "cell_type": "code",
   "execution_count": 7,
   "id": "871dc6aa-4977-4666-9ba2-1be550571b55",
   "metadata": {},
   "outputs": [],
   "source": [
    "tts = TTSExecutor()"
   ]
  },
  {
   "cell_type": "code",
   "execution_count": 8,
   "id": "15647d48-43a5-4588-8d83-9c5bc52ba742",
   "metadata": {},
   "outputs": [
    {
     "name": "stderr",
     "output_type": "stream",
     "text": [
      "100%|███████████████████████████████████████████████████████████████████████| 477172/477172 [00:45<00:00, 10450.13it/s]\n",
      "100%|████████████████████████████████████████████████████████████████████████| 893777/893777 [02:03<00:00, 7251.31it/s]\n",
      "100%|████████████████████████████████████████████████████████████████████████| 575056/575056 [01:03<00:00, 9082.36it/s]\n",
      "\u001b[32m[2023-04-16 15:12:56,537] [    INFO]\u001b[0m - Downloading https://bj.bcebos.com/paddle-hapi/models/bert/bert-base-chinese-vocab.txt and saved to C:\\Users\\Administrator\\.paddlenlp\\models\\bert-base-chinese\u001b[0m\n",
      "\u001b[32m[2023-04-16 15:12:56,699] [    INFO]\u001b[0m - Downloading bert-base-chinese-vocab.txt from https://bj.bcebos.com/paddle-hapi/models/bert/bert-base-chinese-vocab.txt\u001b[0m\n",
      "100%|███████████████████████████████████████████████████████████████████████████████| 107k/107k [00:00<00:00, 1.21MB/s]\n",
      "\u001b[32m[2023-04-16 15:12:56,954] [    INFO]\u001b[0m - tokenizer config file saved in C:\\Users\\Administrator\\.paddlenlp\\models\\bert-base-chinese\\tokenizer_config.json\u001b[0m\n",
      "\u001b[32m[2023-04-16 15:12:56,955] [    INFO]\u001b[0m - Special tokens file saved in C:\\Users\\Administrator\\.paddlenlp\\models\\bert-base-chinese\\special_tokens_map.json\u001b[0m\n",
      "Building prefix dict from the default dictionary ...\n",
      "[2023-04-16 15:13:01] [DEBUG] [__init__.py:113] Building prefix dict from the default dictionary ...\n",
      "Dumping model to file cache C:\\Users\\Administrator\\AppData\\Local\\Temp\\jieba.cache\n",
      "[2023-04-16 15:13:01] [DEBUG] [__init__.py:146] Dumping model to file cache C:\\Users\\Administrator\\AppData\\Local\\Temp\\jieba.cache\n",
      "Loading model cost 0.518 seconds.\n",
      "[2023-04-16 15:13:01] [DEBUG] [__init__.py:164] Loading model cost 0.518 seconds.\n",
      "Prefix dict has been built successfully.\n",
      "[2023-04-16 15:13:01] [DEBUG] [__init__.py:166] Prefix dict has been built successfully.\n"
     ]
    },
    {
     "data": {
      "text/plain": [
       "'E:\\\\GitHub\\\\ML\\\\paddleSpeech\\\\tts_output.wav'"
      ]
     },
     "execution_count": 8,
     "metadata": {},
     "output_type": "execute_result"
    }
   ],
   "source": [
    "tts(text=\"今天天气十分不错。\", output=\"tts_output.wav\")"
   ]
  },
  {
   "cell_type": "markdown",
   "id": "824cafdc-3f2d-45ae-b5f3-4beae6207ecd",
   "metadata": {},
   "source": [
    "## Audio Classification"
   ]
  },
  {
   "cell_type": "code",
   "execution_count": 9,
   "id": "313e31e3-7e39-45ea-94e9-91655f748bf9",
   "metadata": {},
   "outputs": [],
   "source": [
    "from paddlespeech.cli.cls.infer import CLSExecutor"
   ]
  },
  {
   "cell_type": "code",
   "execution_count": 10,
   "id": "7dd34cef-9639-4871-ba23-33f9103a65a7",
   "metadata": {},
   "outputs": [],
   "source": [
    "cls = CLSExecutor()"
   ]
  },
  {
   "cell_type": "code",
   "execution_count": 11,
   "id": "5a7f4ce0-cb0a-486f-ade7-359a0892173e",
   "metadata": {},
   "outputs": [
    {
     "name": "stderr",
     "output_type": "stream",
     "text": [
      "100%|████████████████████████████████████████████████████████████████████████| 357907/357907 [01:46<00:00, 3354.83it/s]\n"
     ]
    }
   ],
   "source": [
    "res = cls(audio_file= \"zh.wav\")"
   ]
  },
  {
   "cell_type": "code",
   "execution_count": 12,
   "id": "289dafcf-86be-4523-a803-9b191f60fa70",
   "metadata": {},
   "outputs": [
    {
     "data": {
      "text/plain": [
       "'Speech 0.9034520983695984 '"
      ]
     },
     "execution_count": 12,
     "metadata": {},
     "output_type": "execute_result"
    }
   ],
   "source": [
    "res"
   ]
  },
  {
   "cell_type": "markdown",
   "id": "45e120c6-8b92-4a34-abb8-8461cb67493f",
   "metadata": {},
   "source": [
    "## Voiceprint Extraction\n",
    "声纹提取工具\n",
    "Industrial-grade voiceprint extraction tool"
   ]
  },
  {
   "cell_type": "code",
   "execution_count": 13,
   "id": "177c6a3e-833e-405c-a794-a40a7384fe22",
   "metadata": {},
   "outputs": [],
   "source": [
    "from paddlespeech.cli.vector import VectorExecutor"
   ]
  },
  {
   "cell_type": "code",
   "execution_count": 14,
   "id": "018e64e7-682d-4187-8d8b-892a0374385e",
   "metadata": {},
   "outputs": [],
   "source": [
    "vec = VectorExecutor()"
   ]
  },
  {
   "cell_type": "code",
   "execution_count": 15,
   "id": "3764e2d5-76c3-4d89-91cd-38c8abbd9643",
   "metadata": {},
   "outputs": [
    {
     "name": "stderr",
     "output_type": "stream",
     "text": [
      "100%|████████████████████████████████████████████████████████████████████████| 259820/259820 [00:44<00:00, 5876.43it/s]\n"
     ]
    }
   ],
   "source": [
    "res = vec(audio_file =\"zh.wav\")"
   ]
  },
  {
   "cell_type": "code",
   "execution_count": 16,
   "id": "8352a413-115a-40fb-a571-b5a15d8c495a",
   "metadata": {},
   "outputs": [
    {
     "data": {
      "text/plain": [
       "array([ -0.19084585,   9.474315  , -14.122308  ,  -2.0916476 ,\n",
       "         0.04846274,   4.9295607 ,   1.4780114 ,   0.37336916,\n",
       "        10.69589   ,   3.2697098 ,  -4.4819736 ,  -0.66184264,\n",
       "        -9.17038   , -11.156908  ,  -1.2358204 ,  -3.3581545 ,\n",
       "        -8.040266  ,  -8.109025  ,   5.271253  ,   9.093362  ,\n",
       "         4.0801597 ,   9.174546  ,  -2.4747627 ,   4.5700564 ,\n",
       "        -6.161542  ,  -4.7502007 ,   2.483756  ,  15.827971  ,\n",
       "         5.474064  ,   3.2250988 ,   0.10094796,  11.682456  ,\n",
       "        -0.47918275,   3.5725586 ,   1.4974099 ,   4.1995335 ,\n",
       "         9.543808  ,  -6.726518  ,   7.4890733 ,  -4.70665   ,\n",
       "         0.9260852 ,   2.6370606 , -14.898758  ,   3.67802   ,\n",
       "        -7.692487  ,  -1.9698808 ,   9.436696  ,  12.204912  ,\n",
       "         3.4851022 ,   2.6493626 ,  -4.109839  ,   8.05146   ,\n",
       "         2.883818  ,  -6.7565203 ,  -1.7955858 ,   5.8305163 ,\n",
       "        -8.327318  ,  -7.664748  ,  12.049362  ,  -6.977664  ,\n",
       "         1.4514294 ,   6.774202  ,  -4.7842865 ,  10.431401  ,\n",
       "         7.897734  ,  -7.3680463 ,  -6.344916  , -11.598473  ,\n",
       "        10.8075    ,  -5.179435  ,  -2.6945927 ,  10.874269  ,\n",
       "        -7.609842  ,  11.810839  ,   5.2705455 ,   5.223659  ,\n",
       "         2.3783252 ,   3.3985424 ,  -0.61357737,  -6.0067644 ,\n",
       "        -7.729019  ,   3.2568636 ,   3.5521393 ,   1.5729486 ,\n",
       "        -8.427412  ,  -5.4198046 ,  -5.720412  ,   9.601739  ,\n",
       "        -7.1151953 , -10.819535  ,  -2.0417924 ,  -8.249929  ,\n",
       "        -2.3642075 ,   5.2479997 ,   7.642653  ,   3.8729956 ,\n",
       "        -1.0397556 ,  -2.1543033 ,  -2.7226987 ,   5.8286166 ,\n",
       "        -2.7757447 ,   6.2585444 ,  -0.24752814, -19.75188   ,\n",
       "         3.389728  ,  -2.195054  , -11.729793  ,   5.008815  ,\n",
       "        -3.3035948 ,   3.6805923 ,   0.22116277,  -8.734695  ,\n",
       "       -12.249258  ,  -6.785984  , -11.262358  ,   3.8227613 ,\n",
       "         4.457088  ,   0.43270454,  -5.9793816 ,  -0.43537927,\n",
       "       -12.417444  ,  -7.380418  ,   6.7620535 ,  -0.09674317,\n",
       "         6.7588267 ,   0.47245562,  -5.5566735 ,   1.654617  ,\n",
       "        -5.65156   ,   8.078556  ,   3.1228163 ,  17.694727  ,\n",
       "        -0.91460776,  -9.803121  ,   2.3636806 ,  -4.606934  ,\n",
       "         0.26023895,   5.625498  ,  -9.485847  ,  -3.590914  ,\n",
       "        -6.7513885 ,   2.7892315 ,   4.8451614 ,  -8.851282  ,\n",
       "         0.96431726,   7.9920254 ,  -0.0944493 ,   1.8815565 ,\n",
       "        -6.5553527 ,  -2.603561  ,   2.8817039 ,  -5.3074765 ,\n",
       "         8.416313  ,   7.129406  ,  -2.4942415 ,   9.977754  ,\n",
       "        -3.4511373 ,   7.2009683 ,  -0.18145667,  -0.28602523,\n",
       "        10.311867  ,  -6.427516  ,  -4.791567  ,  -0.19892752,\n",
       "       -12.877747  ,  -4.5326657 ,  -0.08484191, -10.895341  ,\n",
       "         2.0810158 ,  -5.8358383 ,  14.49109   ,  -2.7938025 ,\n",
       "        -2.0666773 ,  -7.3709645 ,   8.56496   ,  18.266623  ,\n",
       "         6.875855  ,   9.0297575 , -11.058085  ,   1.0859418 ,\n",
       "        -4.4105525 ,   2.5650604 ,   0.92995304,  10.917896  ,\n",
       "        13.8568    ,   2.3342607 ,   8.546542  ,  11.740018  ,\n",
       "        -5.884223  ,   0.59818906,  10.536263  ,   2.5047321 ],\n",
       "      dtype=float32)"
      ]
     },
     "execution_count": 16,
     "metadata": {},
     "output_type": "execute_result"
    }
   ],
   "source": [
    "res"
   ]
  },
  {
   "cell_type": "code",
   "execution_count": 17,
   "id": "76d92656-953f-4dba-8fed-bc6e3b33caaa",
   "metadata": {},
   "outputs": [
    {
     "data": {
      "text/plain": [
       "(192,)"
      ]
     },
     "execution_count": 17,
     "metadata": {},
     "output_type": "execute_result"
    }
   ],
   "source": [
    "res.shape"
   ]
  },
  {
   "cell_type": "markdown",
   "id": "61aced69-b905-4e99-ad1a-75860a8f78a0",
   "metadata": {},
   "source": [
    "## Punctuation Restoration\n",
    "Quick recovery of text punctuation, works with ASR models\n",
    "标点符号恢复;快速恢复文本标点符号，工作与ASR模型"
   ]
  },
  {
   "cell_type": "code",
   "execution_count": 18,
   "id": "aa7be7ed-8211-41c9-b608-3d4e5427087f",
   "metadata": {},
   "outputs": [],
   "source": [
    "from paddlespeech.cli.text.infer import TextExecutor"
   ]
  },
  {
   "cell_type": "code",
   "execution_count": 19,
   "id": "c71cbf65-130e-412f-935b-28525927e3d1",
   "metadata": {},
   "outputs": [],
   "source": [
    "text_punc = TextExecutor()"
   ]
  },
  {
   "cell_type": "code",
   "execution_count": 20,
   "id": "6d37919d-b494-4010-a8cc-b95e91f99316",
   "metadata": {},
   "outputs": [
    {
     "name": "stderr",
     "output_type": "stream",
     "text": [
      "100%|████████████████████████████████████████████████████████████████████████| 427595/427595 [01:33<00:00, 4564.85it/s]\n",
      "\u001b[32m[2023-04-16 15:47:13,683] [    INFO]\u001b[0m - loading configuration file C:\\Users\\Administrator\\.paddlespeech\\models\\ernie_linear_p7_wudao-punc-zh\\1.0\\ernie_linear_p7_wudao-punc-zh.tar\\ckpt\\model_config.json\u001b[0m\n",
      "\u001b[32m[2023-04-16 15:47:13,715] [    INFO]\u001b[0m - Model config ErnieConfig {\n",
      "  \"architectures\": [\n",
      "    \"ErnieForTokenClassification\"\n",
      "  ],\n",
      "  \"attention_probs_dropout_prob\": 0.1,\n",
      "  \"enable_recompute\": false,\n",
      "  \"fuse\": false,\n",
      "  \"hidden_act\": \"relu\",\n",
      "  \"hidden_dropout_prob\": 0.1,\n",
      "  \"hidden_size\": 768,\n",
      "  \"id2label\": {\n",
      "    \"0\": \"LABEL_0\",\n",
      "    \"1\": \"LABEL_1\",\n",
      "    \"2\": \"LABEL_2\",\n",
      "    \"3\": \"LABEL_3\",\n",
      "    \"4\": \"LABEL_4\",\n",
      "    \"5\": \"LABEL_5\",\n",
      "    \"6\": \"LABEL_6\",\n",
      "    \"7\": \"LABEL_7\"\n",
      "  },\n",
      "  \"initializer_range\": 0.02,\n",
      "  \"intermediate_size\": 3072,\n",
      "  \"label2id\": {\n",
      "    \"LABEL_0\": 0,\n",
      "    \"LABEL_1\": 1,\n",
      "    \"LABEL_2\": 2,\n",
      "    \"LABEL_3\": 3,\n",
      "    \"LABEL_4\": 4,\n",
      "    \"LABEL_5\": 5,\n",
      "    \"LABEL_6\": 6,\n",
      "    \"LABEL_7\": 7\n",
      "  },\n",
      "  \"layer_norm_eps\": 1e-12,\n",
      "  \"max_position_embeddings\": 513,\n",
      "  \"model_type\": \"ernie\",\n",
      "  \"num_attention_heads\": 12,\n",
      "  \"num_hidden_layers\": 12,\n",
      "  \"pad_token_id\": 0,\n",
      "  \"paddlenlp_version\": null,\n",
      "  \"pool_act\": \"tanh\",\n",
      "  \"task_id\": 0,\n",
      "  \"task_type_vocab_size\": 3,\n",
      "  \"type_vocab_size\": 2,\n",
      "  \"use_task_id\": true,\n",
      "  \"vocab_size\": 18000\n",
      "}\n",
      "\u001b[0m\n",
      "\u001b[32m[2023-04-16 15:47:13,721] [    INFO]\u001b[0m - Configuration saved in C:\\Users\\Administrator\\.paddlespeech\\models\\ernie_linear_p7_wudao-punc-zh\\1.0\\ernie_linear_p7_wudao-punc-zh.tar\\ckpt\\config.json\u001b[0m\n",
      "C:\\Users\\Administrator\\Envs\\py3.8.6_paddle\\lib\\site-packages\\paddle\\fluid\\dygraph\\layers.py:1652: UserWarning: Skip loading for ernie.embeddings.task_type_embeddings.weight. ernie.embeddings.task_type_embeddings.weight is not found in the provided dict.\n",
      "  warnings.warn((\"Skip loading for {}. \".format(key) + str(err)))\n",
      "\u001b[32m[2023-04-16 15:47:17,684] [    INFO]\u001b[0m - All model checkpoint weights were used when initializing ErnieForTokenClassification.\n",
      "\u001b[0m\n",
      "\u001b[33m[2023-04-16 15:47:17,686] [ WARNING]\u001b[0m - Some weights of ErnieForTokenClassification were not initialized from the model checkpoint at C:\\Users\\Administrator\\.paddlespeech\\models\\ernie_linear_p7_wudao-punc-zh\\1.0\\ernie_linear_p7_wudao-punc-zh.tar\\ckpt and are newly initialized: ['ernie.embeddings.task_type_embeddings.weight']\n",
      "You should probably TRAIN this model on a down-stream task to be able to use it for predictions and inference.\u001b[0m\n",
      "\u001b[32m[2023-04-16 15:47:17,706] [    INFO]\u001b[0m - Downloading https://bj.bcebos.com/paddlenlp/models/transformers/ernie/vocab.txt and saved to C:\\Users\\Administrator\\.paddlenlp\\models\\ernie-1.0\u001b[0m\n",
      "\u001b[32m[2023-04-16 15:47:18,208] [    INFO]\u001b[0m - Downloading vocab.txt from https://bj.bcebos.com/paddlenlp/models/transformers/ernie/vocab.txt\u001b[0m\n",
      "100%|██████████████████████████████████████████████████████████████████████████████| 89.5k/89.5k [00:00<00:00, 136kB/s]\n",
      "\u001b[32m[2023-04-16 15:47:19,296] [    INFO]\u001b[0m - tokenizer config file saved in C:\\Users\\Administrator\\.paddlenlp\\models\\ernie-1.0\\tokenizer_config.json\u001b[0m\n",
      "\u001b[32m[2023-04-16 15:47:19,299] [    INFO]\u001b[0m - Special tokens file saved in C:\\Users\\Administrator\\.paddlenlp\\models\\ernie-1.0\\special_tokens_map.json\u001b[0m\n"
     ]
    }
   ],
   "source": [
    "res = text_punc(text=\"今天的天气真不错啊你下午有空吗我想和你一起加班\")"
   ]
  },
  {
   "cell_type": "code",
   "execution_count": 21,
   "id": "51fdca51-dcfa-4142-ad11-4b9bf211e727",
   "metadata": {},
   "outputs": [
    {
     "data": {
      "text/plain": [
       "'今天的天气真不错啊！你下午有空吗？我想和你一起加班。'"
      ]
     },
     "execution_count": 21,
     "metadata": {},
     "output_type": "execute_result"
    }
   ],
   "source": [
    "res"
   ]
  },
  {
   "cell_type": "markdown",
   "id": "5eb08590-2a95-4497-8e28-25ad5a6b965a",
   "metadata": {},
   "source": [
    "## Speech Translation\n",
    "End-to-end English to Chinese Speech Translation Tool"
   ]
  },
  {
   "cell_type": "code",
   "execution_count": 22,
   "id": "643c52da-eade-4a21-bd84-84906369636a",
   "metadata": {},
   "outputs": [],
   "source": [
    "from paddlespeech.cli.st.infer import STExecutor"
   ]
  },
  {
   "cell_type": "code",
   "execution_count": 23,
   "id": "252d65ab-d770-424d-a7f5-6d9036cc7113",
   "metadata": {},
   "outputs": [],
   "source": [
    "st = STExecutor()"
   ]
  },
  {
   "cell_type": "code",
   "execution_count": 25,
   "id": "a0aed69c-174e-4350-95f4-8076c0016ceb",
   "metadata": {},
   "outputs": [
    {
     "ename": "FileNotFoundError",
     "evalue": "[WinError 2] 系统找不到指定的文件。",
     "output_type": "error",
     "traceback": [
      "\u001b[1;31m---------------------------------------------------------------------------\u001b[0m",
      "\u001b[1;31mFileNotFoundError\u001b[0m                         Traceback (most recent call last)",
      "\u001b[1;32m~\\AppData\\Local\\Temp/ipykernel_19092/817964377.py\u001b[0m in \u001b[0;36m<module>\u001b[1;34m\u001b[0m\n\u001b[1;32m----> 1\u001b[1;33m \u001b[0mresult\u001b[0m \u001b[1;33m=\u001b[0m \u001b[0mst\u001b[0m\u001b[1;33m(\u001b[0m\u001b[0maudio_file\u001b[0m\u001b[1;33m=\u001b[0m\u001b[1;34m\"en.wav\"\u001b[0m\u001b[1;33m)\u001b[0m\u001b[1;33m\u001b[0m\u001b[1;33m\u001b[0m\u001b[0m\n\u001b[0m",
      "\u001b[1;32m~\\Envs\\py3.8.6_paddle\\lib\\site-packages\\paddlespeech\\cli\\utils.py\u001b[0m in \u001b[0;36m_warpper\u001b[1;34m(self, *args, **kwargs)\u001b[0m\n\u001b[0;32m    326\u001b[0m         \u001b[1;32mexcept\u001b[0m \u001b[0mException\u001b[0m\u001b[1;33m:\u001b[0m\u001b[1;33m\u001b[0m\u001b[1;33m\u001b[0m\u001b[0m\n\u001b[0;32m    327\u001b[0m             \u001b[1;32mpass\u001b[0m\u001b[1;33m\u001b[0m\u001b[1;33m\u001b[0m\u001b[0m\n\u001b[1;32m--> 328\u001b[1;33m         \u001b[1;32mreturn\u001b[0m \u001b[0mexecutor_func\u001b[0m\u001b[1;33m(\u001b[0m\u001b[0mself\u001b[0m\u001b[1;33m,\u001b[0m \u001b[1;33m*\u001b[0m\u001b[0margs\u001b[0m\u001b[1;33m,\u001b[0m \u001b[1;33m**\u001b[0m\u001b[0mkwargs\u001b[0m\u001b[1;33m)\u001b[0m\u001b[1;33m\u001b[0m\u001b[1;33m\u001b[0m\u001b[0m\n\u001b[0m\u001b[0;32m    329\u001b[0m \u001b[1;33m\u001b[0m\u001b[0m\n\u001b[0;32m    330\u001b[0m     \u001b[1;32mreturn\u001b[0m \u001b[0m_warpper\u001b[0m\u001b[1;33m\u001b[0m\u001b[1;33m\u001b[0m\u001b[0m\n",
      "\u001b[1;32m~\\Envs\\py3.8.6_paddle\\lib\\site-packages\\paddlespeech\\cli\\st\\infer.py\u001b[0m in \u001b[0;36m__call__\u001b[1;34m(self, audio_file, model, src_lang, tgt_lang, sample_rate, config, ckpt_path, device)\u001b[0m\n\u001b[0;32m    344\u001b[0m         \u001b[0mpaddle\u001b[0m\u001b[1;33m.\u001b[0m\u001b[0mset_device\u001b[0m\u001b[1;33m(\u001b[0m\u001b[0mdevice\u001b[0m\u001b[1;33m)\u001b[0m\u001b[1;33m\u001b[0m\u001b[1;33m\u001b[0m\u001b[0m\n\u001b[0;32m    345\u001b[0m         \u001b[0mself\u001b[0m\u001b[1;33m.\u001b[0m\u001b[0m_init_from_path\u001b[0m\u001b[1;33m(\u001b[0m\u001b[0mmodel\u001b[0m\u001b[1;33m,\u001b[0m \u001b[0msrc_lang\u001b[0m\u001b[1;33m,\u001b[0m \u001b[0mtgt_lang\u001b[0m\u001b[1;33m,\u001b[0m \u001b[0mconfig\u001b[0m\u001b[1;33m,\u001b[0m \u001b[0mckpt_path\u001b[0m\u001b[1;33m)\u001b[0m\u001b[1;33m\u001b[0m\u001b[1;33m\u001b[0m\u001b[0m\n\u001b[1;32m--> 346\u001b[1;33m         \u001b[0mself\u001b[0m\u001b[1;33m.\u001b[0m\u001b[0mpreprocess\u001b[0m\u001b[1;33m(\u001b[0m\u001b[0maudio_file\u001b[0m\u001b[1;33m,\u001b[0m \u001b[0mmodel\u001b[0m\u001b[1;33m)\u001b[0m\u001b[1;33m\u001b[0m\u001b[1;33m\u001b[0m\u001b[0m\n\u001b[0m\u001b[0;32m    347\u001b[0m         \u001b[0mself\u001b[0m\u001b[1;33m.\u001b[0m\u001b[0minfer\u001b[0m\u001b[1;33m(\u001b[0m\u001b[0mmodel\u001b[0m\u001b[1;33m)\u001b[0m\u001b[1;33m\u001b[0m\u001b[1;33m\u001b[0m\u001b[0m\n\u001b[0;32m    348\u001b[0m         \u001b[0mres\u001b[0m \u001b[1;33m=\u001b[0m \u001b[0mself\u001b[0m\u001b[1;33m.\u001b[0m\u001b[0mpostprocess\u001b[0m\u001b[1;33m(\u001b[0m\u001b[0mmodel\u001b[0m\u001b[1;33m)\u001b[0m\u001b[1;33m\u001b[0m\u001b[1;33m\u001b[0m\u001b[0m\n",
      "\u001b[1;32m~\\Envs\\py3.8.6_paddle\\lib\\site-packages\\paddlespeech\\cli\\st\\infer.py\u001b[0m in \u001b[0;36mpreprocess\u001b[1;34m(self, wav_file, model_type)\u001b[0m\n\u001b[0;32m    204\u001b[0m                 \u001b[1;34m\"--sample-frequency=16000\"\u001b[0m\u001b[1;33m,\u001b[0m \u001b[1;34m\"scp:-\"\u001b[0m\u001b[1;33m,\u001b[0m \u001b[1;34m\"ark:-\"\u001b[0m\u001b[1;33m\u001b[0m\u001b[1;33m\u001b[0m\u001b[0m\n\u001b[0;32m    205\u001b[0m             ]\n\u001b[1;32m--> 206\u001b[1;33m             fbank_extract_process = subprocess.Popen(\n\u001b[0m\u001b[0;32m    207\u001b[0m                 \u001b[0mfbank_extract_command\u001b[0m\u001b[1;33m,\u001b[0m\u001b[1;33m\u001b[0m\u001b[1;33m\u001b[0m\u001b[0m\n\u001b[0;32m    208\u001b[0m                 \u001b[0mstdin\u001b[0m\u001b[1;33m=\u001b[0m\u001b[0msubprocess\u001b[0m\u001b[1;33m.\u001b[0m\u001b[0mPIPE\u001b[0m\u001b[1;33m,\u001b[0m\u001b[1;33m\u001b[0m\u001b[1;33m\u001b[0m\u001b[0m\n",
      "\u001b[1;32mD:\\Programs\\Python\\Python38\\lib\\subprocess.py\u001b[0m in \u001b[0;36m__init__\u001b[1;34m(self, args, bufsize, executable, stdin, stdout, stderr, preexec_fn, close_fds, shell, cwd, env, universal_newlines, startupinfo, creationflags, restore_signals, start_new_session, pass_fds, encoding, errors, text)\u001b[0m\n\u001b[0;32m    852\u001b[0m                             encoding=encoding, errors=errors)\n\u001b[0;32m    853\u001b[0m \u001b[1;33m\u001b[0m\u001b[0m\n\u001b[1;32m--> 854\u001b[1;33m             self._execute_child(args, executable, preexec_fn, close_fds,\n\u001b[0m\u001b[0;32m    855\u001b[0m                                 \u001b[0mpass_fds\u001b[0m\u001b[1;33m,\u001b[0m \u001b[0mcwd\u001b[0m\u001b[1;33m,\u001b[0m \u001b[0menv\u001b[0m\u001b[1;33m,\u001b[0m\u001b[1;33m\u001b[0m\u001b[1;33m\u001b[0m\u001b[0m\n\u001b[0;32m    856\u001b[0m                                 \u001b[0mstartupinfo\u001b[0m\u001b[1;33m,\u001b[0m \u001b[0mcreationflags\u001b[0m\u001b[1;33m,\u001b[0m \u001b[0mshell\u001b[0m\u001b[1;33m,\u001b[0m\u001b[1;33m\u001b[0m\u001b[1;33m\u001b[0m\u001b[0m\n",
      "\u001b[1;32mD:\\Programs\\Python\\Python38\\lib\\subprocess.py\u001b[0m in \u001b[0;36m_execute_child\u001b[1;34m(self, args, executable, preexec_fn, close_fds, pass_fds, cwd, env, startupinfo, creationflags, shell, p2cread, p2cwrite, c2pread, c2pwrite, errread, errwrite, unused_restore_signals, unused_start_new_session)\u001b[0m\n\u001b[0;32m   1305\u001b[0m             \u001b[1;31m# Start the process\u001b[0m\u001b[1;33m\u001b[0m\u001b[1;33m\u001b[0m\u001b[1;33m\u001b[0m\u001b[0m\n\u001b[0;32m   1306\u001b[0m             \u001b[1;32mtry\u001b[0m\u001b[1;33m:\u001b[0m\u001b[1;33m\u001b[0m\u001b[1;33m\u001b[0m\u001b[0m\n\u001b[1;32m-> 1307\u001b[1;33m                 hp, ht, pid, tid = _winapi.CreateProcess(executable, args,\n\u001b[0m\u001b[0;32m   1308\u001b[0m                                          \u001b[1;31m# no special security\u001b[0m\u001b[1;33m\u001b[0m\u001b[1;33m\u001b[0m\u001b[1;33m\u001b[0m\u001b[0m\n\u001b[0;32m   1309\u001b[0m                                          \u001b[1;32mNone\u001b[0m\u001b[1;33m,\u001b[0m \u001b[1;32mNone\u001b[0m\u001b[1;33m,\u001b[0m\u001b[1;33m\u001b[0m\u001b[1;33m\u001b[0m\u001b[0m\n",
      "\u001b[1;31mFileNotFoundError\u001b[0m: [WinError 2] 系统找不到指定的文件。"
     ]
    }
   ],
   "source": [
    "result = st(audio_file=\"en.wav\")"
   ]
  },
  {
   "cell_type": "code",
   "execution_count": null,
   "id": "40def5c8-7d56-44e1-a7f6-8edd7524c1ae",
   "metadata": {},
   "outputs": [],
   "source": []
  }
 ],
 "metadata": {
  "kernelspec": {
   "display_name": "py3.8.6_paddle",
   "language": "python",
   "name": "py3.8.6_paddle"
  },
  "language_info": {
   "codemirror_mode": {
    "name": "ipython",
    "version": 3
   },
   "file_extension": ".py",
   "mimetype": "text/x-python",
   "name": "python",
   "nbconvert_exporter": "python",
   "pygments_lexer": "ipython3",
   "version": "3.8.6"
  }
 },
 "nbformat": 4,
 "nbformat_minor": 5
}
