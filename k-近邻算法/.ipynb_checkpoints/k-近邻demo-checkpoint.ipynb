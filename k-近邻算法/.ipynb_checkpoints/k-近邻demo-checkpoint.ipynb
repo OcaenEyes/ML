{
 "cells": [
  {
   "cell_type": "code",
   "execution_count": 2,
   "metadata": {},
   "outputs": [],
   "source": [
    "import numpy as np\n",
    "import operator"
   ]
  },
  {
   "cell_type": "code",
   "execution_count": 8,
   "metadata": {},
   "outputs": [],
   "source": [
    "def createDataset():\n",
    "    group = np.array([[1.0,1.1],[1.0,1.0],[0,0],[0,0.1]])\n",
    "    labels = ['A','A','B','B']\n",
    "    return group,labels"
   ]
  },
  {
   "cell_type": "code",
   "execution_count": 9,
   "metadata": {},
   "outputs": [],
   "source": [
    "group,labels = createDataset()"
   ]
  },
  {
   "cell_type": "code",
   "execution_count": 10,
   "metadata": {},
   "outputs": [
    {
     "data": {
      "text/plain": [
       "array([[1. , 1.1],\n",
       "       [1. , 1. ],\n",
       "       [0. , 0. ],\n",
       "       [0. , 0.1]])"
      ]
     },
     "execution_count": 10,
     "metadata": {},
     "output_type": "execute_result"
    }
   ],
   "source": [
    "group"
   ]
  },
  {
   "cell_type": "code",
   "execution_count": 11,
   "metadata": {},
   "outputs": [
    {
     "data": {
      "text/plain": [
       "['A', 'A', 'B', 'B']"
      ]
     },
     "execution_count": 11,
     "metadata": {},
     "output_type": "execute_result"
    }
   ],
   "source": [
    "labels"
   ]
  },
  {
   "cell_type": "code",
   "execution_count": 28,
   "metadata": {},
   "outputs": [],
   "source": [
    "# 从文本解析数据\n",
    "def classify0(inX, dataSet, labels, k):\n",
    "    # shape[0]：表示矩阵的行数\n",
    "    # shape[1]：表示矩阵的列数\n",
    "    dataSetSize = dataSet.shape[0]\n",
    "    print(dataSetSize)\n",
    "    # 距离计算\n",
    "    # np.tile(a,(2,1))第一个参数为Y轴扩大倍数，第二个为X轴扩大倍数。\n",
    "    # np.tile（a,(2)）函数的作用就是将函数将函数沿着X轴扩大两倍。如果扩大倍数只有一个，默认为X轴\n",
    "    diffMat = np.tile(inX, (dataSetSize,1))-dataSet\n",
    "    print(diffMat)\n",
    "    sqDiffMat = diffMat ** 2\n",
    "    print(sqDiffMat)\n",
    "    sqDistances = sqDiffMat.sum(axis=1)\n",
    "    print(sqDistances)\n",
    "    distances = sqDistances ** 0.5\n",
    "    # argsort函数返回的是数组值从小到大的索引值\n",
    "    # \n",
    "    sortedDistIndicies = distances.argsort()\n",
    "    print(sortedDistIndicies)\n",
    "    # 选择距离最小的k个点\n",
    "    classCount={}\n",
    "    for i in range(k):\n",
    "        voteIlabel = labels[sortedDistIndicies[i]]\n",
    "        print(\"voteIlabel\",voteIlabel)\n",
    "        classCount[voteIlabel]= classCount.get(voteIlabel,0) +1\n",
    "    # 排序\n",
    "    sortedClassCount = sorted(classCount.items(),key=operator.itemgetter(1), reverse=True)\n",
    "    print(\"sortedClassCount\",sortedClassCount)\n",
    "    return sortedClassCount[0][0]"
   ]
  },
  {
   "cell_type": "code",
   "execution_count": 29,
   "metadata": {},
   "outputs": [
    {
     "name": "stdout",
     "output_type": "stream",
     "text": [
      "4\n",
      "[[-1.   6.9]\n",
      " [-1.   7. ]\n",
      " [ 0.   8. ]\n",
      " [ 0.   7.9]]\n",
      "[[ 1.   47.61]\n",
      " [ 1.   49.  ]\n",
      " [ 0.   64.  ]\n",
      " [ 0.   62.41]]\n",
      "[48.61 50.   64.   62.41]\n",
      "[0 1 3 2]\n",
      "voteIlabel A\n",
      "voteIlabel A\n",
      "voteIlabel B\n",
      "sortedClassCount [('A', 2), ('B', 1)]\n"
     ]
    },
    {
     "data": {
      "text/plain": [
       "'A'"
      ]
     },
     "execution_count": 29,
     "metadata": {},
     "output_type": "execute_result"
    }
   ],
   "source": [
    "classify0([0,8], group, labels,3)"
   ]
  },
  {
   "cell_type": "code",
   "execution_count": null,
   "metadata": {},
   "outputs": [],
   "source": []
  }
 ],
 "metadata": {
  "kernelspec": {
   "display_name": "Python 3",
   "language": "python",
   "name": "python3"
  },
  "language_info": {
   "codemirror_mode": {
    "name": "ipython",
    "version": 3
   },
   "file_extension": ".py",
   "mimetype": "text/x-python",
   "name": "python",
   "nbconvert_exporter": "python",
   "pygments_lexer": "ipython3",
   "version": "3.8.3"
  }
 },
 "nbformat": 4,
 "nbformat_minor": 4
}
