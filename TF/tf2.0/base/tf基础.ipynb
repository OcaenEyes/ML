{
 "cells": [
  {
   "cell_type": "code",
   "execution_count": 1,
   "id": "45de122d-0e3e-44ea-8e01-a70347f9186d",
   "metadata": {},
   "outputs": [],
   "source": [
    "import tensorflow as tf"
   ]
  },
  {
   "cell_type": "code",
   "execution_count": 2,
   "id": "77b65641-5dc0-4918-9730-1bb65319826e",
   "metadata": {},
   "outputs": [],
   "source": [
    "import numpy as np\n",
    "import pandas as pd"
   ]
  },
  {
   "cell_type": "code",
   "execution_count": 3,
   "id": "be49a5c2-f75d-48d0-93f0-dc8a1f0211e9",
   "metadata": {},
   "outputs": [
    {
     "data": {
      "text/plain": [
       "'2.6.2'"
      ]
     },
     "execution_count": 3,
     "metadata": {},
     "output_type": "execute_result"
    }
   ],
   "source": [
    "tf.__version__"
   ]
  },
  {
   "cell_type": "code",
   "execution_count": 6,
   "id": "a8a90cd3-2dfd-4038-aa76-16ad40bdc62a",
   "metadata": {},
   "outputs": [
    {
     "name": "stdout",
     "output_type": "stream",
     "text": [
      "WARNING:tensorflow:From <ipython-input-6-17bb7203622b>:1: is_gpu_available (from tensorflow.python.framework.test_util) is deprecated and will be removed in a future version.\n",
      "Instructions for updating:\n",
      "Use `tf.config.list_physical_devices('GPU')` instead.\n"
     ]
    },
    {
     "data": {
      "text/plain": [
       "True"
      ]
     },
     "execution_count": 6,
     "metadata": {},
     "output_type": "execute_result"
    }
   ],
   "source": [
    "tf.test.is_gpu_available()"
   ]
  },
  {
   "cell_type": "code",
   "execution_count": 7,
   "id": "822593d4-c741-43cd-bfe9-c4a5aef45a78",
   "metadata": {},
   "outputs": [
    {
     "data": {
      "text/plain": [
       "[PhysicalDevice(name='/physical_device:GPU:0', device_type='GPU')]"
      ]
     },
     "execution_count": 7,
     "metadata": {},
     "output_type": "execute_result"
    }
   ],
   "source": [
    "tf.config.list_physical_devices('GPU')"
   ]
  },
  {
   "cell_type": "code",
   "execution_count": 8,
   "id": "2cfc01f3-e02e-4966-a12c-1cbda981f6d6",
   "metadata": {},
   "outputs": [],
   "source": [
    "x=[[2.]]"
   ]
  },
  {
   "cell_type": "code",
   "execution_count": 9,
   "id": "0c499fe5-2c0e-4ce4-9018-958ce5fe974d",
   "metadata": {},
   "outputs": [],
   "source": [
    "w = tf.matmul(x,x)"
   ]
  },
  {
   "cell_type": "code",
   "execution_count": 10,
   "id": "2202c2dc-447b-40bb-adb8-255d1c1e3fd8",
   "metadata": {},
   "outputs": [
    {
     "data": {
      "text/plain": [
       "<tf.Tensor: shape=(1, 1), dtype=float32, numpy=array([[4.]], dtype=float32)>"
      ]
     },
     "execution_count": 10,
     "metadata": {},
     "output_type": "execute_result"
    }
   ],
   "source": [
    "w"
   ]
  },
  {
   "cell_type": "code",
   "execution_count": 12,
   "id": "fb92e871-d454-402a-a866-b003adb3a9d4",
   "metadata": {},
   "outputs": [],
   "source": [
    "x = tf.constant([[1,9],[2,3]])"
   ]
  },
  {
   "cell_type": "code",
   "execution_count": 13,
   "id": "bee65875-a3d5-418a-8ea0-c43b215052fd",
   "metadata": {},
   "outputs": [
    {
     "data": {
      "text/plain": [
       "<tf.Tensor: shape=(2, 2), dtype=int32, numpy=\n",
       "array([[1, 9],\n",
       "       [2, 3]])>"
      ]
     },
     "execution_count": 13,
     "metadata": {},
     "output_type": "execute_result"
    }
   ],
   "source": [
    "x"
   ]
  },
  {
   "cell_type": "code",
   "execution_count": 14,
   "id": "f0947747-c7ac-485b-9401-8f88cf23c390",
   "metadata": {},
   "outputs": [
    {
     "data": {
      "text/plain": [
       "<tf.Tensor: shape=(2, 2), dtype=int32, numpy=\n",
       "array([[ 2, 10],\n",
       "       [ 3,  4]])>"
      ]
     },
     "execution_count": 14,
     "metadata": {},
     "output_type": "execute_result"
    }
   ],
   "source": [
    "tf.add(x,1)"
   ]
  },
  {
   "cell_type": "markdown",
   "id": "77a5d2fc-7809-457f-a85b-e5fea7d03ea1",
   "metadata": {},
   "source": [
    "#### Tensor是什么\n",
    "- 当作是进行GPU加速计算的矩阵"
   ]
  },
  {
   "cell_type": "code",
   "execution_count": 16,
   "id": "96120f1f-e39b-4317-8bd5-9c5cd03bec4e",
   "metadata": {},
   "outputs": [
    {
     "data": {
      "text/plain": [
       "array([[1, 9],\n",
       "       [2, 3]])"
      ]
     },
     "execution_count": 16,
     "metadata": {},
     "output_type": "execute_result"
    }
   ],
   "source": [
    "x.numpy()"
   ]
  },
  {
   "cell_type": "code",
   "execution_count": 17,
   "id": "e9e29fe3-d0c2-42ed-995b-137a6cf5ee90",
   "metadata": {},
   "outputs": [],
   "source": [
    "x = tf.cast(x,tf.float32)"
   ]
  },
  {
   "cell_type": "code",
   "execution_count": 18,
   "id": "f8ee3e33-45ec-47b3-a02a-6f496b718599",
   "metadata": {},
   "outputs": [
    {
     "data": {
      "text/plain": [
       "<tf.Tensor: shape=(2, 2), dtype=float32, numpy=\n",
       "array([[1., 9.],\n",
       "       [2., 3.]], dtype=float32)>"
      ]
     },
     "execution_count": 18,
     "metadata": {},
     "output_type": "execute_result"
    }
   ],
   "source": [
    "x"
   ]
  },
  {
   "cell_type": "code",
   "execution_count": 20,
   "id": "44b9b5b2-20bb-4959-a577-ef4e82a37a89",
   "metadata": {},
   "outputs": [],
   "source": [
    "x1 = np.ones([2,2])"
   ]
  },
  {
   "cell_type": "code",
   "execution_count": 21,
   "id": "65f38caf-9782-4638-b23f-4f593432432d",
   "metadata": {},
   "outputs": [
    {
     "data": {
      "text/plain": [
       "array([[1., 1.],\n",
       "       [1., 1.]])"
      ]
     },
     "execution_count": 21,
     "metadata": {},
     "output_type": "execute_result"
    }
   ],
   "source": [
    "x1"
   ]
  },
  {
   "cell_type": "code",
   "execution_count": 22,
   "id": "88144eba-32eb-49d9-b65f-da58db34c7c2",
   "metadata": {},
   "outputs": [],
   "source": [
    "x2 = tf.multiply(x1,2)"
   ]
  },
  {
   "cell_type": "code",
   "execution_count": 23,
   "id": "c72ec394-a425-423b-b143-8cfa61085a03",
   "metadata": {},
   "outputs": [
    {
     "data": {
      "text/plain": [
       "<tf.Tensor: shape=(2, 2), dtype=float64, numpy=\n",
       "array([[2., 2.],\n",
       "       [2., 2.]])>"
      ]
     },
     "execution_count": 23,
     "metadata": {},
     "output_type": "execute_result"
    }
   ],
   "source": [
    "x2"
   ]
  },
  {
   "cell_type": "code",
   "execution_count": null,
   "id": "ecdcdafa-f158-4124-8a96-49a87afcb61f",
   "metadata": {},
   "outputs": [],
   "source": []
  }
 ],
 "metadata": {
  "kernelspec": {
   "display_name": "py3.6.5_tf2",
   "language": "python",
   "name": "py3.6.5_tf2"
  },
  "language_info": {
   "codemirror_mode": {
    "name": "ipython",
    "version": 3
   },
   "file_extension": ".py",
   "mimetype": "text/x-python",
   "name": "python",
   "nbconvert_exporter": "python",
   "pygments_lexer": "ipython3",
   "version": "3.6.5"
  }
 },
 "nbformat": 4,
 "nbformat_minor": 5
}
