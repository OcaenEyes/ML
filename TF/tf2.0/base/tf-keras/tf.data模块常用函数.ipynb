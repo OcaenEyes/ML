{
 "cells": [
  {
   "cell_type": "code",
   "execution_count": 1,
   "id": "a8e9e56e-fdb7-4d8a-a539-7223413bbceb",
   "metadata": {},
   "outputs": [
    {
     "name": "stderr",
     "output_type": "stream",
     "text": [
      "d:\\programs\\python\\python36\\lib\\importlib\\_bootstrap.py:219: RuntimeWarning: numpy.ufunc size changed, may indicate binary incompatibility. Expected 192 from C header, got 216 from PyObject\n",
      "  return f(*args, **kwds)\n"
     ]
    }
   ],
   "source": [
    "import numpy as np\n",
    "import pandas as pd\n",
    "import tensorflow as tf\n",
    "import seaborn as sns\n",
    "import matplotlib.pyplot as plt\n",
    "from matplotlib.font_manager import FontManager,FontProperties"
   ]
  },
  {
   "cell_type": "code",
   "execution_count": 2,
   "id": "bc85f9af-77f8-4f5c-ada5-a73149cfda3f",
   "metadata": {},
   "outputs": [],
   "source": [
    "myfont = FontProperties(fname=\"../../../../simhei.ttf\")"
   ]
  },
  {
   "cell_type": "code",
   "execution_count": 3,
   "id": "86d87671-d078-44f3-9131-73bd8c92fe5d",
   "metadata": {},
   "outputs": [
    {
     "data": {
      "text/plain": [
       "array([0, 1, 2, 3, 4, 5, 6, 7, 8, 9])"
      ]
     },
     "execution_count": 3,
     "metadata": {},
     "output_type": "execute_result"
    }
   ],
   "source": [
    "np.arange(10)"
   ]
  },
  {
   "cell_type": "code",
   "execution_count": 4,
   "id": "df099471-e641-4976-9f3b-e579085b574a",
   "metadata": {},
   "outputs": [],
   "source": [
    "input_data = np.arange(10)"
   ]
  },
  {
   "cell_type": "code",
   "execution_count": 5,
   "id": "72ffe6f7-d08d-475e-9972-763b9dbdc95e",
   "metadata": {},
   "outputs": [],
   "source": [
    "dataset = tf.data.Dataset.from_tensor_slices(input_data)"
   ]
  },
  {
   "cell_type": "code",
   "execution_count": 7,
   "id": "64283cf1-23b2-4a4d-a860-5ca1763b83b1",
   "metadata": {},
   "outputs": [
    {
     "name": "stdout",
     "output_type": "stream",
     "text": [
      "tf.Tensor(0, shape=(), dtype=int32)\n",
      "tf.Tensor(1, shape=(), dtype=int32)\n",
      "tf.Tensor(2, shape=(), dtype=int32)\n",
      "tf.Tensor(3, shape=(), dtype=int32)\n",
      "tf.Tensor(4, shape=(), dtype=int32)\n",
      "tf.Tensor(5, shape=(), dtype=int32)\n",
      "tf.Tensor(6, shape=(), dtype=int32)\n",
      "tf.Tensor(7, shape=(), dtype=int32)\n",
      "tf.Tensor(8, shape=(), dtype=int32)\n",
      "tf.Tensor(9, shape=(), dtype=int32)\n"
     ]
    }
   ],
   "source": [
    "for i in dataset:\n",
    "    print(i)"
   ]
  },
  {
   "cell_type": "markdown",
   "id": "a8b7e1e0-6057-485c-8862-6b92cd7cc08c",
   "metadata": {},
   "source": [
    "#### repeat操作"
   ]
  },
  {
   "cell_type": "code",
   "execution_count": 8,
   "id": "bf70ccfd-cf24-4501-a51a-7ba0b6a07315",
   "metadata": {},
   "outputs": [
    {
     "name": "stdout",
     "output_type": "stream",
     "text": [
      "tf.Tensor(0, shape=(), dtype=int32)\n",
      "tf.Tensor(1, shape=(), dtype=int32)\n",
      "tf.Tensor(2, shape=(), dtype=int32)\n",
      "tf.Tensor(3, shape=(), dtype=int32)\n",
      "tf.Tensor(4, shape=(), dtype=int32)\n",
      "tf.Tensor(5, shape=(), dtype=int32)\n",
      "tf.Tensor(6, shape=(), dtype=int32)\n",
      "tf.Tensor(7, shape=(), dtype=int32)\n",
      "tf.Tensor(8, shape=(), dtype=int32)\n",
      "tf.Tensor(9, shape=(), dtype=int32)\n",
      "tf.Tensor(0, shape=(), dtype=int32)\n",
      "tf.Tensor(1, shape=(), dtype=int32)\n",
      "tf.Tensor(2, shape=(), dtype=int32)\n",
      "tf.Tensor(3, shape=(), dtype=int32)\n",
      "tf.Tensor(4, shape=(), dtype=int32)\n",
      "tf.Tensor(5, shape=(), dtype=int32)\n",
      "tf.Tensor(6, shape=(), dtype=int32)\n",
      "tf.Tensor(7, shape=(), dtype=int32)\n",
      "tf.Tensor(8, shape=(), dtype=int32)\n",
      "tf.Tensor(9, shape=(), dtype=int32)\n"
     ]
    }
   ],
   "source": [
    "dataset = tf.data.Dataset.from_tensor_slices(input_data)\n",
    "datasets = dataset.repeat(2)\n",
    "for i in datasets:\n",
    "    print(i)"
   ]
  },
  {
   "cell_type": "markdown",
   "id": "2bbe75a4-6749-453e-8476-d0093eac5125",
   "metadata": {},
   "source": [
    "#### batch操作"
   ]
  },
  {
   "cell_type": "code",
   "execution_count": 9,
   "id": "1a753a4c-ac70-4a56-9881-f6995848d59d",
   "metadata": {},
   "outputs": [
    {
     "name": "stdout",
     "output_type": "stream",
     "text": [
      "tf.Tensor([0 1 2 3], shape=(4,), dtype=int32)\n",
      "tf.Tensor([4 5 6 7], shape=(4,), dtype=int32)\n",
      "tf.Tensor([8 9 0 1], shape=(4,), dtype=int32)\n",
      "tf.Tensor([2 3 4 5], shape=(4,), dtype=int32)\n",
      "tf.Tensor([6 7 8 9], shape=(4,), dtype=int32)\n"
     ]
    }
   ],
   "source": [
    "dataset = tf.data.Dataset.from_tensor_slices(input_data)\n",
    "datasets = dataset.repeat(2).batch(4)\n",
    "for i in datasets:\n",
    "    print(i)"
   ]
  },
  {
   "cell_type": "markdown",
   "id": "ba915bec-6233-4c2b-941a-1f39068292ff",
   "metadata": {},
   "source": [
    "#### shuffle操作"
   ]
  },
  {
   "cell_type": "code",
   "execution_count": 10,
   "id": "cb003f31-8591-43ef-8475-3ceb287f6b96",
   "metadata": {},
   "outputs": [
    {
     "name": "stdout",
     "output_type": "stream",
     "text": [
      "tf.Tensor([5 4 7 0], shape=(4,), dtype=int32)\n",
      "tf.Tensor([6 1 3 1], shape=(4,), dtype=int32)\n",
      "tf.Tensor([2 8 9 2], shape=(4,), dtype=int32)\n",
      "tf.Tensor([8 3 5 6], shape=(4,), dtype=int32)\n",
      "tf.Tensor([0 7 4 9], shape=(4,), dtype=int32)\n"
     ]
    }
   ],
   "source": [
    "dataset = tf.data.Dataset.from_tensor_slices(input_data)\n",
    "datasets = dataset.repeat(2).shuffle(buffer_size=10).batch(4)\n",
    "for i in datasets:\n",
    "    print(i)"
   ]
  },
  {
   "cell_type": "code",
   "execution_count": 11,
   "id": "a5270788-bc90-483e-8364-649948253cde",
   "metadata": {},
   "outputs": [],
   "source": [
    "mnist_data = tf.keras.datasets.mnist"
   ]
  },
  {
   "cell_type": "code",
   "execution_count": 12,
   "id": "9007ffb0-5e3a-4777-98e5-228d247d495d",
   "metadata": {},
   "outputs": [],
   "source": [
    "(x_train,y_train),(x_test,y_test)=mnist_data.load_data()"
   ]
  },
  {
   "cell_type": "code",
   "execution_count": 13,
   "id": "e12d601e-01c3-413b-9604-4ea28a344eca",
   "metadata": {},
   "outputs": [],
   "source": [
    "# 图像增强\n",
    "image_agment = tf.keras.preprocessing.image.ImageDataGenerator(\n",
    "   rescale=1.,#缩小图像范围至0-1，由于以及提前缩小，此处不用设置\n",
    "    rotation_range=45,#随机旋转45度\n",
    "    width_shift_range=0.15,#宽度偏移\n",
    "    height_shift_range=0.15,#高度偏移\n",
    "    horizontal_flip=False,#是否水平翻转\n",
    "    zoom_range=0.5,#图像随机缩放50%\n",
    ")"
   ]
  },
  {
   "cell_type": "code",
   "execution_count": 14,
   "id": "6be188a8-dbff-4c46-89e7-31880cfad75f",
   "metadata": {},
   "outputs": [],
   "source": [
    "x_train = x_train.reshape(x_train.shape[0],x_train.shape[1],x_train.shape[2],1)"
   ]
  },
  {
   "cell_type": "code",
   "execution_count": 15,
   "id": "9cecc09a-7bb3-47be-a1c2-66a8cc7a0364",
   "metadata": {},
   "outputs": [],
   "source": [
    "x_test = x_test.reshape(x_test.shape[0],x_test.shape[1],x_test.shape[2],1)"
   ]
  },
  {
   "cell_type": "code",
   "execution_count": 34,
   "id": "2759dd2d-3231-4297-89cc-6804eb23a81d",
   "metadata": {},
   "outputs": [],
   "source": [
    "xtrain = image_agment.flow(x_train,shuffle=False)"
   ]
  },
  {
   "cell_type": "code",
   "execution_count": 36,
   "id": "d2c7566c-d6a4-4d5a-96c9-cbf7c7972dec",
   "metadata": {
    "collapsed": true,
    "jupyter": {
     "outputs_hidden": true
    },
    "tags": []
   },
   "outputs": [
    {
     "data": {
      "text/plain": [
       "array([[[[0.],\n",
       "         [0.],\n",
       "         [0.],\n",
       "         ...,\n",
       "         [0.],\n",
       "         [0.],\n",
       "         [0.]],\n",
       "\n",
       "        [[0.],\n",
       "         [0.],\n",
       "         [0.],\n",
       "         ...,\n",
       "         [0.],\n",
       "         [0.],\n",
       "         [0.]],\n",
       "\n",
       "        [[0.],\n",
       "         [0.],\n",
       "         [0.],\n",
       "         ...,\n",
       "         [0.],\n",
       "         [0.],\n",
       "         [0.]],\n",
       "\n",
       "        ...,\n",
       "\n",
       "        [[0.],\n",
       "         [0.],\n",
       "         [0.],\n",
       "         ...,\n",
       "         [0.],\n",
       "         [0.],\n",
       "         [0.]],\n",
       "\n",
       "        [[0.],\n",
       "         [0.],\n",
       "         [0.],\n",
       "         ...,\n",
       "         [0.],\n",
       "         [0.],\n",
       "         [0.]],\n",
       "\n",
       "        [[0.],\n",
       "         [0.],\n",
       "         [0.],\n",
       "         ...,\n",
       "         [0.],\n",
       "         [0.],\n",
       "         [0.]]],\n",
       "\n",
       "\n",
       "       [[[0.],\n",
       "         [0.],\n",
       "         [0.],\n",
       "         ...,\n",
       "         [0.],\n",
       "         [0.],\n",
       "         [0.]],\n",
       "\n",
       "        [[0.],\n",
       "         [0.],\n",
       "         [0.],\n",
       "         ...,\n",
       "         [0.],\n",
       "         [0.],\n",
       "         [0.]],\n",
       "\n",
       "        [[0.],\n",
       "         [0.],\n",
       "         [0.],\n",
       "         ...,\n",
       "         [0.],\n",
       "         [0.],\n",
       "         [0.]],\n",
       "\n",
       "        ...,\n",
       "\n",
       "        [[0.],\n",
       "         [0.],\n",
       "         [0.],\n",
       "         ...,\n",
       "         [0.],\n",
       "         [0.],\n",
       "         [0.]],\n",
       "\n",
       "        [[0.],\n",
       "         [0.],\n",
       "         [0.],\n",
       "         ...,\n",
       "         [0.],\n",
       "         [0.],\n",
       "         [0.]],\n",
       "\n",
       "        [[0.],\n",
       "         [0.],\n",
       "         [0.],\n",
       "         ...,\n",
       "         [0.],\n",
       "         [0.],\n",
       "         [0.]]],\n",
       "\n",
       "\n",
       "       [[[0.],\n",
       "         [0.],\n",
       "         [0.],\n",
       "         ...,\n",
       "         [0.],\n",
       "         [0.],\n",
       "         [0.]],\n",
       "\n",
       "        [[0.],\n",
       "         [0.],\n",
       "         [0.],\n",
       "         ...,\n",
       "         [0.],\n",
       "         [0.],\n",
       "         [0.]],\n",
       "\n",
       "        [[0.],\n",
       "         [0.],\n",
       "         [0.],\n",
       "         ...,\n",
       "         [0.],\n",
       "         [0.],\n",
       "         [0.]],\n",
       "\n",
       "        ...,\n",
       "\n",
       "        [[0.],\n",
       "         [0.],\n",
       "         [0.],\n",
       "         ...,\n",
       "         [0.],\n",
       "         [0.],\n",
       "         [0.]],\n",
       "\n",
       "        [[0.],\n",
       "         [0.],\n",
       "         [0.],\n",
       "         ...,\n",
       "         [0.],\n",
       "         [0.],\n",
       "         [0.]],\n",
       "\n",
       "        [[0.],\n",
       "         [0.],\n",
       "         [0.],\n",
       "         ...,\n",
       "         [0.],\n",
       "         [0.],\n",
       "         [0.]]],\n",
       "\n",
       "\n",
       "       ...,\n",
       "\n",
       "\n",
       "       [[[0.],\n",
       "         [0.],\n",
       "         [0.],\n",
       "         ...,\n",
       "         [0.],\n",
       "         [0.],\n",
       "         [0.]],\n",
       "\n",
       "        [[0.],\n",
       "         [0.],\n",
       "         [0.],\n",
       "         ...,\n",
       "         [0.],\n",
       "         [0.],\n",
       "         [0.]],\n",
       "\n",
       "        [[0.],\n",
       "         [0.],\n",
       "         [0.],\n",
       "         ...,\n",
       "         [0.],\n",
       "         [0.],\n",
       "         [0.]],\n",
       "\n",
       "        ...,\n",
       "\n",
       "        [[0.],\n",
       "         [0.],\n",
       "         [0.],\n",
       "         ...,\n",
       "         [0.],\n",
       "         [0.],\n",
       "         [0.]],\n",
       "\n",
       "        [[0.],\n",
       "         [0.],\n",
       "         [0.],\n",
       "         ...,\n",
       "         [0.],\n",
       "         [0.],\n",
       "         [0.]],\n",
       "\n",
       "        [[0.],\n",
       "         [0.],\n",
       "         [0.],\n",
       "         ...,\n",
       "         [0.],\n",
       "         [0.],\n",
       "         [0.]]],\n",
       "\n",
       "\n",
       "       [[[0.],\n",
       "         [0.],\n",
       "         [0.],\n",
       "         ...,\n",
       "         [0.],\n",
       "         [0.],\n",
       "         [0.]],\n",
       "\n",
       "        [[0.],\n",
       "         [0.],\n",
       "         [0.],\n",
       "         ...,\n",
       "         [0.],\n",
       "         [0.],\n",
       "         [0.]],\n",
       "\n",
       "        [[0.],\n",
       "         [0.],\n",
       "         [0.],\n",
       "         ...,\n",
       "         [0.],\n",
       "         [0.],\n",
       "         [0.]],\n",
       "\n",
       "        ...,\n",
       "\n",
       "        [[0.],\n",
       "         [0.],\n",
       "         [0.],\n",
       "         ...,\n",
       "         [0.],\n",
       "         [0.],\n",
       "         [0.]],\n",
       "\n",
       "        [[0.],\n",
       "         [0.],\n",
       "         [0.],\n",
       "         ...,\n",
       "         [0.],\n",
       "         [0.],\n",
       "         [0.]],\n",
       "\n",
       "        [[0.],\n",
       "         [0.],\n",
       "         [0.],\n",
       "         ...,\n",
       "         [0.],\n",
       "         [0.],\n",
       "         [0.]]],\n",
       "\n",
       "\n",
       "       [[[0.],\n",
       "         [0.],\n",
       "         [0.],\n",
       "         ...,\n",
       "         [0.],\n",
       "         [0.],\n",
       "         [0.]],\n",
       "\n",
       "        [[0.],\n",
       "         [0.],\n",
       "         [0.],\n",
       "         ...,\n",
       "         [0.],\n",
       "         [0.],\n",
       "         [0.]],\n",
       "\n",
       "        [[0.],\n",
       "         [0.],\n",
       "         [0.],\n",
       "         ...,\n",
       "         [0.],\n",
       "         [0.],\n",
       "         [0.]],\n",
       "\n",
       "        ...,\n",
       "\n",
       "        [[0.],\n",
       "         [0.],\n",
       "         [0.],\n",
       "         ...,\n",
       "         [0.],\n",
       "         [0.],\n",
       "         [0.]],\n",
       "\n",
       "        [[0.],\n",
       "         [0.],\n",
       "         [0.],\n",
       "         ...,\n",
       "         [0.],\n",
       "         [0.],\n",
       "         [0.]],\n",
       "\n",
       "        [[0.],\n",
       "         [0.],\n",
       "         [0.],\n",
       "         ...,\n",
       "         [0.],\n",
       "         [0.],\n",
       "         [0.]]]], dtype=float32)"
      ]
     },
     "execution_count": 36,
     "metadata": {},
     "output_type": "execute_result"
    }
   ],
   "source": [
    "xtrain[0]"
   ]
  },
  {
   "cell_type": "markdown",
   "id": "6b8ef165-afc5-4e69-9189-cca520c75482",
   "metadata": {},
   "source": [
    "#### 重新训练"
   ]
  },
  {
   "cell_type": "code",
   "execution_count": 38,
   "id": "e866bfc4-4ab7-428a-9930-c081159e1970",
   "metadata": {},
   "outputs": [],
   "source": [
    "train = tf.data.Dataset.from_tensor_slices((x_train,y_train))"
   ]
  },
  {
   "cell_type": "code",
   "execution_count": 39,
   "id": "14e450c1-182e-4241-8c2b-627b02f0e02e",
   "metadata": {},
   "outputs": [],
   "source": [
    "train = train.batch(32)"
   ]
  },
  {
   "cell_type": "code",
   "execution_count": 40,
   "id": "bf88bd3a-17f8-4a04-9a4c-f869e11f49e0",
   "metadata": {},
   "outputs": [
    {
     "data": {
      "text/plain": [
       "1875"
      ]
     },
     "execution_count": 40,
     "metadata": {},
     "output_type": "execute_result"
    }
   ],
   "source": [
    "len(train)"
   ]
  },
  {
   "cell_type": "code",
   "execution_count": 41,
   "id": "36d3bae6-b7c7-4eec-90c0-06ae29932d0f",
   "metadata": {},
   "outputs": [],
   "source": [
    "train = train.repeat()"
   ]
  },
  {
   "cell_type": "code",
   "execution_count": 42,
   "id": "32b9a14e-d46d-47a1-924a-dedb2d6a74e1",
   "metadata": {},
   "outputs": [],
   "source": [
    "test = tf.data.Dataset.from_tensor_slices((x_test,y_test))\n",
    "test = test.batch(32)\n",
    "test = test.repeat()"
   ]
  },
  {
   "cell_type": "code",
   "execution_count": 43,
   "id": "9d6991c8-7795-4a8b-b758-9c74fd6782a9",
   "metadata": {},
   "outputs": [],
   "source": [
    "model = tf.keras.Sequential()\n",
    "model.add(tf.keras.layers.Flatten())\n",
    "model.add(tf.keras.layers.Dense(128,activation=\"relu\"))\n",
    "model.add(tf.keras.layers.Dense(10,activation=\"softmax\"))"
   ]
  },
  {
   "cell_type": "code",
   "execution_count": 44,
   "id": "8f75c78d-6e83-40fc-888e-45338bce2076",
   "metadata": {},
   "outputs": [],
   "source": [
    "model.compile(\n",
    "    optimizer=\"adam\",\n",
    "    loss=tf.keras.losses.SparseCategoricalCrossentropy(from_logits=False),\n",
    "    metrics=[\"sparse_categorical_accuracy\"]\n",
    ")"
   ]
  },
  {
   "cell_type": "code",
   "execution_count": 45,
   "id": "54e66fdd-40e1-4978-bf06-e75f6f003875",
   "metadata": {},
   "outputs": [
    {
     "name": "stdout",
     "output_type": "stream",
     "text": [
      "Epoch 1/5\n",
      "100/100 [==============================] - 2s 5ms/step - loss: 16.9333 - sparse_categorical_accuracy: 0.7134 - val_loss: 7.3935 - val_sparse_categorical_accuracy: 0.7975\n",
      "Epoch 2/5\n",
      "100/100 [==============================] - 0s 3ms/step - loss: 4.6895 - sparse_categorical_accuracy: 0.8534 - val_loss: 5.3870 - val_sparse_categorical_accuracy: 0.8100\n",
      "Epoch 3/5\n",
      "100/100 [==============================] - 0s 2ms/step - loss: 3.6935 - sparse_categorical_accuracy: 0.8413 - val_loss: 3.1950 - val_sparse_categorical_accuracy: 0.8409\n",
      "Epoch 4/5\n",
      "100/100 [==============================] - 0s 2ms/step - loss: 2.5273 - sparse_categorical_accuracy: 0.8506 - val_loss: 2.4609 - val_sparse_categorical_accuracy: 0.8031\n",
      "Epoch 5/5\n",
      "100/100 [==============================] - 0s 2ms/step - loss: 1.8004 - sparse_categorical_accuracy: 0.8084 - val_loss: 1.6518 - val_sparse_categorical_accuracy: 0.7875\n"
     ]
    },
    {
     "data": {
      "text/plain": [
       "<keras.callbacks.History at 0x185bdb3fc18>"
      ]
     },
     "execution_count": 45,
     "metadata": {},
     "output_type": "execute_result"
    }
   ],
   "source": [
    "model.fit(train,batch_size=32,epochs=5,steps_per_epoch=100,validation_data=test,validation_steps=100)"
   ]
  },
  {
   "cell_type": "markdown",
   "id": "ed796f30-2892-498c-9f68-e442b5b004cc",
   "metadata": {},
   "source": [
    "#### 模型评估操作 测试集"
   ]
  },
  {
   "cell_type": "code",
   "execution_count": 46,
   "id": "fe10dbf3-a63a-4e17-a7af-8040706b45a5",
   "metadata": {},
   "outputs": [
    {
     "name": "stdout",
     "output_type": "stream",
     "text": [
      "313/313 [==============================] - 0s 1ms/step - loss: 1.2622 - sparse_categorical_accuracy: 0.8169\n"
     ]
    },
    {
     "data": {
      "text/plain": [
       "[1.262196660041809, 0.8169000148773193]"
      ]
     },
     "execution_count": 46,
     "metadata": {},
     "output_type": "execute_result"
    }
   ],
   "source": [
    "model.evaluate(x_test,y_test)"
   ]
  },
  {
   "cell_type": "markdown",
   "id": "a22eda9a-1612-4aea-b59c-c33786e3f943",
   "metadata": {},
   "source": [
    "#### 模型预测操作"
   ]
  },
  {
   "cell_type": "markdown",
   "id": "be48b29e-8a3e-4a56-a746-4dfe1fdff23f",
   "metadata": {},
   "source": [
    "- 预测集 需要跟模型训练时做相同的预处理"
   ]
  },
  {
   "cell_type": "code",
   "execution_count": 48,
   "id": "79058776-3a37-4b78-941b-22432ba7e421",
   "metadata": {},
   "outputs": [],
   "source": [
    "y_predict = model.predict(x_test)"
   ]
  },
  {
   "cell_type": "code",
   "execution_count": 49,
   "id": "b6315365-db05-4395-95a3-7756f7131d21",
   "metadata": {},
   "outputs": [
    {
     "data": {
      "text/plain": [
       "array([3.1565984e-21, 5.0900014e-36, 3.2373986e-08, 1.8554489e-21,\n",
       "       1.1750678e-33, 4.3218588e-27, 9.9433682e-37, 1.0000000e+00,\n",
       "       4.6360943e-27, 2.7564721e-20], dtype=float32)"
      ]
     },
     "execution_count": 49,
     "metadata": {},
     "output_type": "execute_result"
    }
   ],
   "source": [
    "y_predict[0]"
   ]
  },
  {
   "cell_type": "code",
   "execution_count": 50,
   "id": "9b9b1830-fd1f-414b-8f6d-1c47341a222c",
   "metadata": {},
   "outputs": [
    {
     "data": {
      "text/plain": [
       "7"
      ]
     },
     "execution_count": 50,
     "metadata": {},
     "output_type": "execute_result"
    }
   ],
   "source": [
    "np.argmax(y_predict[0])"
   ]
  },
  {
   "cell_type": "markdown",
   "id": "7ae32595-24e3-4335-ace1-ca2390b1880c",
   "metadata": {},
   "source": [
    "### 模型保存"
   ]
  },
  {
   "cell_type": "code",
   "execution_count": 51,
   "id": "71f6e860-8f6e-43d4-8886-97d1a1bf4587",
   "metadata": {},
   "outputs": [],
   "source": [
    "model.save(\"./outputs/model1.h5\")"
   ]
  },
  {
   "cell_type": "markdown",
   "id": "94d4201e-e9d5-4fa1-8d15-0862e2995247",
   "metadata": {},
   "source": [
    "#### 模型架构"
   ]
  },
  {
   "cell_type": "code",
   "execution_count": 61,
   "id": "1d0e1846-44cb-4028-8f5b-7d87730a8107",
   "metadata": {},
   "outputs": [],
   "source": [
    "config = model.to_json()\n",
    "with open(\"./outputs/model1_config.json\",\"w\",encoding=\"utf-8\") as f:\n",
    "    f.write(config)"
   ]
  },
  {
   "cell_type": "code",
   "execution_count": 66,
   "id": "b4d1f5c4-5d05-4380-bd75-9e6e7e71c350",
   "metadata": {},
   "outputs": [
    {
     "data": {
      "text/plain": [
       "'{\"class_name\": \"Sequential\", \"config\": {\"name\": \"sequential_1\", \"layers\": [{\"class_name\": \"InputLayer\", \"config\": {\"batch_input_shape\": [null, 28, 28, 1], \"dtype\": \"uint8\", \"sparse\": false, \"ragged\": false, \"name\": \"flatten_1_input\"}}, {\"class_name\": \"Flatten\", \"config\": {\"name\": \"flatten_1\", \"trainable\": true, \"dtype\": \"float32\", \"data_format\": \"channels_last\"}}, {\"class_name\": \"Dense\", \"config\": {\"name\": \"dense_2\", \"trainable\": true, \"dtype\": \"float32\", \"units\": 128, \"activation\": \"relu\", \"use_bias\": true, \"kernel_initializer\": {\"class_name\": \"GlorotUniform\", \"config\": {\"seed\": null}}, \"bias_initializer\": {\"class_name\": \"Zeros\", \"config\": {}}, \"kernel_regularizer\": null, \"bias_regularizer\": null, \"activity_regularizer\": null, \"kernel_constraint\": null, \"bias_constraint\": null}}, {\"class_name\": \"Dense\", \"config\": {\"name\": \"dense_3\", \"trainable\": true, \"dtype\": \"float32\", \"units\": 10, \"activation\": \"softmax\", \"use_bias\": true, \"kernel_initializer\": {\"class_name\": \"GlorotUniform\", \"config\": {\"seed\": null}}, \"bias_initializer\": {\"class_name\": \"Zeros\", \"config\": {}}, \"kernel_regularizer\": null, \"bias_regularizer\": null, \"activity_regularizer\": null, \"kernel_constraint\": null, \"bias_constraint\": null}}]}, \"keras_version\": \"2.6.0\", \"backend\": \"tensorflow\"}'"
      ]
     },
     "execution_count": 66,
     "metadata": {},
     "output_type": "execute_result"
    }
   ],
   "source": [
    "config"
   ]
  },
  {
   "cell_type": "markdown",
   "id": "642d8b17-9e9c-4a8f-9113-efcc566bc4fe",
   "metadata": {},
   "source": [
    "#### 模型权重"
   ]
  },
  {
   "cell_type": "code",
   "execution_count": 69,
   "id": "9656174b-4510-4c5b-9e58-b77ee2bfd1fe",
   "metadata": {},
   "outputs": [
    {
     "data": {
      "text/plain": [
       "[array([[-0.03887847, -0.04785755,  0.00826397, ..., -0.06699025,\n",
       "         -0.06169426,  0.05585185],\n",
       "        [ 0.03437613, -0.04294377, -0.05634258, ...,  0.02180799,\n",
       "         -0.07723744,  0.04838107],\n",
       "        [-0.00628614, -0.05771206, -0.01941097, ...,  0.04084338,\n",
       "         -0.02357871,  0.00796856],\n",
       "        ...,\n",
       "        [-0.00834407,  0.07897121,  0.05914596, ..., -0.00854181,\n",
       "          0.07034848,  0.00285833],\n",
       "        [-0.01494537, -0.04980363, -0.03354841, ...,  0.05736362,\n",
       "          0.03136121,  0.067843  ],\n",
       "        [ 0.00668885, -0.04700526,  0.01184195, ...,  0.05784716,\n",
       "          0.04646384,  0.0800625 ]], dtype=float32),\n",
       " array([-1.05407955e-02, -2.95451633e-03, -2.17679422e-02, -1.07034352e-02,\n",
       "        -6.37356238e-03, -4.84992610e-03, -1.13031464e-02, -2.39529721e-02,\n",
       "        -2.10510790e-02, -1.49888927e-02, -1.45187303e-02, -4.11660876e-03,\n",
       "        -1.07879005e-02, -1.94903705e-02, -9.18579381e-03, -1.08714039e-02,\n",
       "        -1.44710895e-02, -2.14090124e-02, -1.47973252e-02, -1.11225257e-02,\n",
       "        -6.59980299e-03, -1.21111041e-02, -2.26407722e-02, -1.52978459e-02,\n",
       "        -2.14596950e-02,  1.24764983e-02, -4.88210376e-03, -1.06572341e-02,\n",
       "        -1.92930903e-02, -6.88300515e-03, -1.79541428e-02, -2.05487125e-02,\n",
       "         9.02414043e-03, -3.07062436e-02, -1.22339036e-02, -7.88422674e-03,\n",
       "        -1.18235396e-02, -2.72807898e-03, -8.52523372e-03, -8.90726689e-03,\n",
       "        -1.48521001e-02, -1.82118807e-02,  2.90456414e-03, -1.13674095e-02,\n",
       "        -1.16486214e-02, -2.47362219e-02, -2.32320409e-02, -1.68369189e-02,\n",
       "        -1.04601346e-02, -1.51677784e-02, -9.23886616e-03, -2.07745489e-02,\n",
       "        -1.37949008e-02, -1.80812497e-02, -2.03477573e-02, -1.15705552e-02,\n",
       "         6.88347354e-05, -1.63253453e-02,  7.28425919e-04, -7.98761286e-03,\n",
       "        -1.60904657e-02, -1.93246230e-02, -1.55279627e-02, -2.14420110e-02,\n",
       "        -2.32670866e-02, -2.55568959e-02, -4.83553065e-03, -2.15092693e-02,\n",
       "        -5.98488888e-03, -8.23752768e-03, -1.08427973e-02, -1.62467416e-02,\n",
       "        -1.53058823e-02, -1.60380267e-02, -1.34072462e-02, -1.79544128e-02,\n",
       "        -1.26789929e-02, -1.73942894e-02, -1.18081244e-02, -2.04629451e-02,\n",
       "        -2.19123643e-02, -1.02485819e-02,  1.01889931e-02, -1.63004510e-02,\n",
       "        -2.62813102e-02, -1.02626728e-02, -1.00226412e-02, -1.66644845e-02,\n",
       "        -1.41546549e-02, -1.90107245e-02, -2.03146152e-02, -1.22624906e-02,\n",
       "        -1.66909099e-02, -5.92382252e-03, -6.32389123e-03, -1.99337881e-02,\n",
       "        -2.64145769e-02, -1.76408570e-02, -1.38169397e-02, -2.38548517e-02,\n",
       "        -1.82023384e-02, -1.60146765e-02, -1.32826632e-02,  4.73984843e-03,\n",
       "        -1.69232395e-02, -9.75716859e-03, -6.93117734e-03, -1.91733353e-02,\n",
       "        -1.40970759e-02, -1.53091876e-02, -1.16382679e-02, -1.64396223e-02,\n",
       "        -1.89431962e-02, -1.66073386e-02, -1.71971694e-02, -1.50947785e-02,\n",
       "        -1.48531999e-02, -1.70757361e-02, -1.82156395e-02, -1.68665592e-02,\n",
       "        -7.69424113e-03, -8.16459395e-03, -9.77320317e-03, -2.20770799e-02,\n",
       "        -9.88629460e-03,  7.95828470e-04, -1.14332233e-02, -2.23279260e-02],\n",
       "       dtype=float32),\n",
       " array([[-0.07235248, -0.05543039,  0.03387963, ...,  0.11365236,\n",
       "          0.16668215,  0.05934505],\n",
       "        [-0.03049709,  0.1587736 , -0.05483282, ...,  0.08412272,\n",
       "         -0.12900881, -0.10865998],\n",
       "        [-0.13477415, -0.1601124 , -0.0943212 , ..., -0.09480543,\n",
       "          0.02672433,  0.04190844],\n",
       "        ...,\n",
       "        [ 0.04160799, -0.01440339, -0.1517713 , ...,  0.11755113,\n",
       "         -0.00762789,  0.02529934],\n",
       "        [-0.01634327,  0.14203852,  0.19087191, ..., -0.06865431,\n",
       "          0.13256598, -0.04634125],\n",
       "        [-0.08434688, -0.19571202, -0.1507669 , ..., -0.01377435,\n",
       "          0.08372924,  0.01047983]], dtype=float32),\n",
       " array([-0.02198959, -0.02020764, -0.01142439, -0.01146154, -0.00703791,\n",
       "         0.00940589, -0.00930175, -0.00893076,  0.04191395,  0.01517587],\n",
       "       dtype=float32)]"
      ]
     },
     "execution_count": 69,
     "metadata": {},
     "output_type": "execute_result"
    }
   ],
   "source": [
    "weights = model.get_weights()\n",
    "weights"
   ]
  },
  {
   "cell_type": "code",
   "execution_count": 70,
   "id": "158c0aae-4940-4a53-b4ae-ce81a1476f64",
   "metadata": {},
   "outputs": [],
   "source": [
    "model.save_weights(\"./outputs/model_weights.h5\")"
   ]
  },
  {
   "cell_type": "markdown",
   "id": "f81ac83d-b00c-45cb-bb53-25b04434b1bd",
   "metadata": {},
   "source": [
    "### 模型读取"
   ]
  },
  {
   "cell_type": "code",
   "execution_count": 62,
   "id": "f14a62b0-350d-473f-85aa-f3dbc5bfbdeb",
   "metadata": {},
   "outputs": [
    {
     "data": {
      "text/plain": [
       "<keras.engine.sequential.Sequential at 0x185e65de240>"
      ]
     },
     "execution_count": 62,
     "metadata": {},
     "output_type": "execute_result"
    }
   ],
   "source": [
    "tf.keras.models.load_model(\"./outputs/model1.h5\")"
   ]
  },
  {
   "cell_type": "markdown",
   "id": "bb9085e7-12b4-4618-a2a9-0725e6d28603",
   "metadata": {},
   "source": [
    "#### 读取模型架构"
   ]
  },
  {
   "cell_type": "code",
   "execution_count": 65,
   "id": "49a0806a-44ad-4dd1-aa3a-783d6aeb11b3",
   "metadata": {},
   "outputs": [
    {
     "name": "stdout",
     "output_type": "stream",
     "text": [
      "Model: \"sequential_1\"\n",
      "_________________________________________________________________\n",
      "Layer (type)                 Output Shape              Param #   \n",
      "=================================================================\n",
      "flatten_1 (Flatten)          (None, 784)               0         \n",
      "_________________________________________________________________\n",
      "dense_2 (Dense)              (None, 128)               100480    \n",
      "_________________________________________________________________\n",
      "dense_3 (Dense)              (None, 10)                1290      \n",
      "=================================================================\n",
      "Total params: 101,770\n",
      "Trainable params: 101,770\n",
      "Non-trainable params: 0\n",
      "_________________________________________________________________\n"
     ]
    }
   ],
   "source": [
    "tmp = tf.keras.models.model_from_json(config)\n",
    "tmp.summary()"
   ]
  },
  {
   "cell_type": "code",
   "execution_count": 67,
   "id": "0d94f5df-5b4c-4898-b568-1923a6f54721",
   "metadata": {},
   "outputs": [],
   "source": [
    "with open(\"./outputs/model1_config.json\",\"r\",encoding=\"utf-8\") as f:\n",
    "    json_confg =f.read()"
   ]
  },
  {
   "cell_type": "code",
   "execution_count": 68,
   "id": "81c584f4-c17f-40a1-b5df-f5086d3ecf7e",
   "metadata": {},
   "outputs": [
    {
     "name": "stdout",
     "output_type": "stream",
     "text": [
      "Model: \"sequential_1\"\n",
      "_________________________________________________________________\n",
      "Layer (type)                 Output Shape              Param #   \n",
      "=================================================================\n",
      "flatten_1 (Flatten)          (None, 784)               0         \n",
      "_________________________________________________________________\n",
      "dense_2 (Dense)              (None, 128)               100480    \n",
      "_________________________________________________________________\n",
      "dense_3 (Dense)              (None, 10)                1290      \n",
      "=================================================================\n",
      "Total params: 101,770\n",
      "Trainable params: 101,770\n",
      "Non-trainable params: 0\n",
      "_________________________________________________________________\n"
     ]
    }
   ],
   "source": [
    "tmp = tf.keras.models.model_from_json(json_confg)\n",
    "tmp.summary()"
   ]
  },
  {
   "cell_type": "markdown",
   "id": "f6f007d3-2ff8-4567-b2ec-e95cbc589baa",
   "metadata": {},
   "source": [
    "#### 读取模型权重"
   ]
  },
  {
   "cell_type": "code",
   "execution_count": 72,
   "id": "f04fd7c6-b8e3-417d-af16-3c29ed09ce96",
   "metadata": {},
   "outputs": [],
   "source": [
    "model.load_weights(\"./outputs/model_weights.h5\")"
   ]
  }
 ],
 "metadata": {
  "kernelspec": {
   "display_name": "py3.6.5_tf2",
   "language": "python",
   "name": "py3.6.5_tf2"
  },
  "language_info": {
   "codemirror_mode": {
    "name": "ipython",
    "version": 3
   },
   "file_extension": ".py",
   "mimetype": "text/x-python",
   "name": "python",
   "nbconvert_exporter": "python",
   "pygments_lexer": "ipython3",
   "version": "3.6.5"
  }
 },
 "nbformat": 4,
 "nbformat_minor": 5
}
