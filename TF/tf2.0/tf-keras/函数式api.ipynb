{
 "cells": [
  {
   "cell_type": "code",
   "execution_count": 11,
   "id": "147c7892-b472-45e0-962c-88802e60c835",
   "metadata": {},
   "outputs": [],
   "source": [
    "%config Completer.use_jedi=False"
   ]
  },
  {
   "cell_type": "code",
   "execution_count": 1,
   "id": "82e768f8-2e9b-4614-a450-75bf76027e69",
   "metadata": {},
   "outputs": [],
   "source": [
    "import tensorflow as tf\n",
    "from tensorflow import keras\n",
    "import plotly.graph_objects as pltgo"
   ]
  },
  {
   "cell_type": "code",
   "execution_count": 2,
   "id": "bffeec23-951c-4b56-a735-c231b4506be1",
   "metadata": {},
   "outputs": [
    {
     "name": "stderr",
     "output_type": "stream",
     "text": [
      "E:\\Python\\Python36\\lib\\importlib\\_bootstrap.py:219: RuntimeWarning:\n",
      "\n",
      "numpy.ufunc size changed, may indicate binary incompatibility. Expected 192 from C header, got 216 from PyObject\n",
      "\n"
     ]
    }
   ],
   "source": [
    "import pandas as pd\n",
    "import numpy as np"
   ]
  },
  {
   "cell_type": "code",
   "execution_count": 3,
   "id": "7d391361-5efd-48ff-a644-0e67e9d94bd9",
   "metadata": {},
   "outputs": [
    {
     "name": "stdout",
     "output_type": "stream",
     "text": [
      "train features shape: (60000, 28, 28)\n",
      "train labels shape: (60000,)\n",
      "test features shape: (10000, 28, 28)\n",
      "test labels shape: (10000,)\n"
     ]
    }
   ],
   "source": [
    "train_data =pd.read_csv(\"./datasets/fashion-mnist_train.csv\")\n",
    "test_data =pd.read_csv(\"./datasets/fashion-mnist_test.csv\")\n",
    "\n",
    "train_features = []\n",
    "train_labels = []\n",
    "for i in range(train_data.shape[0]):\n",
    "    train_features.append(np.array(train_data.loc[i][1:]).reshape(28,28))\n",
    "    train_labels.append(train_data.loc[i][0])\n",
    "\n",
    "train_features = np.array(train_features)\n",
    "\n",
    "# np.array(train_labels).reshape(1,-1)\n",
    "\n",
    "train_labels = np.array(train_labels)\n",
    "\n",
    "print(\"train features shape:\" ,train_features.shape)\n",
    "print(\"train labels shape:\" ,train_labels.shape)\n",
    "\n",
    "test_features = []\n",
    "test_labels =[]\n",
    "for i in range(test_data.shape[0]):\n",
    "    test_features.append(np.array(test_data.loc[i][1:]).reshape(28,28))\n",
    "    test_labels.append(test_data.loc[i][0])\n",
    "\n",
    "test_features= np.array(test_features)\n",
    "\n",
    "test_labels = np.array(test_labels)\n",
    "\n",
    "print(\"test features shape:\" ,test_features.shape)\n",
    "print(\"test labels shape:\" ,test_labels.shape)"
   ]
  },
  {
   "cell_type": "code",
   "execution_count": 7,
   "id": "74cd56ef-d3b0-4904-b858-7478a8472be9",
   "metadata": {},
   "outputs": [],
   "source": [
    "train_features = train_features/255"
   ]
  },
  {
   "cell_type": "code",
   "execution_count": 8,
   "id": "407438cc-545d-4c14-b3d5-8fd23152f972",
   "metadata": {},
   "outputs": [],
   "source": [
    "test_features = test_features/255"
   ]
  },
  {
   "cell_type": "code",
   "execution_count": 9,
   "id": "27b5e322-3458-446f-aba5-af38da3236af",
   "metadata": {},
   "outputs": [],
   "source": [
    "input = keras.Input(shape=(28,28))"
   ]
  },
  {
   "cell_type": "code",
   "execution_count": 10,
   "id": "0f398376-267c-4f3b-8728-251ad875913d",
   "metadata": {},
   "outputs": [],
   "source": [
    "x = keras.layers.Flatten()(input)"
   ]
  },
  {
   "cell_type": "code",
   "execution_count": 12,
   "id": "c9371239-1214-4a9c-80e5-5f39e8dab6af",
   "metadata": {},
   "outputs": [],
   "source": [
    "x= keras.layers.Dense(32,activation='relu')(x)"
   ]
  },
  {
   "cell_type": "code",
   "execution_count": 13,
   "id": "b3bf3098-785f-4b0e-9615-fc09c80470cd",
   "metadata": {},
   "outputs": [],
   "source": [
    "x= keras.layers.Dropout(0.5)(x)"
   ]
  },
  {
   "cell_type": "code",
   "execution_count": 14,
   "id": "19dae846-f903-417f-aa67-0a4018bc513b",
   "metadata": {},
   "outputs": [],
   "source": [
    "x= keras.layers.Dense(64,activation='relu')(x)"
   ]
  },
  {
   "cell_type": "code",
   "execution_count": 16,
   "id": "f55e1059-8577-4b1c-9cbe-f48f9561f129",
   "metadata": {},
   "outputs": [],
   "source": [
    "output = keras.layers.Dense(10,activation='softmax')(x)"
   ]
  },
  {
   "cell_type": "code",
   "execution_count": 18,
   "id": "6de0af1a-7488-4a00-9022-337761576491",
   "metadata": {},
   "outputs": [],
   "source": [
    "model = keras.Model(inputs=input,outputs=output)"
   ]
  },
  {
   "cell_type": "code",
   "execution_count": 20,
   "id": "4da80544-0e0d-4fd7-afc4-e61b382a889c",
   "metadata": {},
   "outputs": [
    {
     "name": "stdout",
     "output_type": "stream",
     "text": [
      "Model: \"model\"\n",
      "_________________________________________________________________\n",
      "Layer (type)                 Output Shape              Param #   \n",
      "=================================================================\n",
      "input_1 (InputLayer)         [(None, 28, 28)]          0         \n",
      "_________________________________________________________________\n",
      "flatten (Flatten)            (None, 784)               0         \n",
      "_________________________________________________________________\n",
      "dense (Dense)                (None, 32)                25120     \n",
      "_________________________________________________________________\n",
      "dropout (Dropout)            (None, 32)                0         \n",
      "_________________________________________________________________\n",
      "dense_1 (Dense)              (None, 64)                2112      \n",
      "_________________________________________________________________\n",
      "dense_3 (Dense)              (None, 10)                650       \n",
      "=================================================================\n",
      "Total params: 27,882\n",
      "Trainable params: 27,882\n",
      "Non-trainable params: 0\n",
      "_________________________________________________________________\n"
     ]
    }
   ],
   "source": [
    "model.summary()"
   ]
  },
  {
   "cell_type": "code",
   "execution_count": 21,
   "id": "878ce6bc-8ccb-4120-9aff-ee26223ff964",
   "metadata": {},
   "outputs": [],
   "source": [
    "# label为顺序编码时 采用sparse_categorical_crossentropy\n",
    "model.compile(optimizer='adam',\n",
    "             loss='sparse_categorical_crossentropy',\n",
    "             metrics=['acc']\n",
    "             )"
   ]
  },
  {
   "cell_type": "code",
   "execution_count": 22,
   "id": "4acc3096-7e76-4310-9311-e01cc5c6337c",
   "metadata": {},
   "outputs": [
    {
     "name": "stdout",
     "output_type": "stream",
     "text": [
      "Epoch 1/10\n",
      "1875/1875 [==============================] - 7s 3ms/step - loss: 0.8510 - acc: 0.6799 - val_loss: 0.5246 - val_acc: 0.8044\n",
      "Epoch 2/10\n",
      "1875/1875 [==============================] - 6s 3ms/step - loss: 0.6419 - acc: 0.7644 - val_loss: 0.4693 - val_acc: 0.8356\n",
      "Epoch 3/10\n",
      "1875/1875 [==============================] - 6s 3ms/step - loss: 0.6022 - acc: 0.7793 - val_loss: 0.5089 - val_acc: 0.8131\n",
      "Epoch 4/10\n",
      "1875/1875 [==============================] - 6s 3ms/step - loss: 0.5794 - acc: 0.7858 - val_loss: 0.4728 - val_acc: 0.8207\n",
      "Epoch 5/10\n",
      "1875/1875 [==============================] - 6s 3ms/step - loss: 0.5601 - acc: 0.7932 - val_loss: 0.5022 - val_acc: 0.8081\n",
      "Epoch 6/10\n",
      "1875/1875 [==============================] - 6s 3ms/step - loss: 0.5513 - acc: 0.7972 - val_loss: 0.4785 - val_acc: 0.8168\n",
      "Epoch 7/10\n",
      "1875/1875 [==============================] - 6s 3ms/step - loss: 0.5327 - acc: 0.8046 - val_loss: 0.4942 - val_acc: 0.8111\n",
      "Epoch 8/10\n",
      "1875/1875 [==============================] - 6s 3ms/step - loss: 0.5293 - acc: 0.8042 - val_loss: 0.4850 - val_acc: 0.8124\n",
      "Epoch 9/10\n",
      "1875/1875 [==============================] - 6s 3ms/step - loss: 0.5200 - acc: 0.8075 - val_loss: 0.5167 - val_acc: 0.7966TA: 3s - loss: 0. - ETA: 2s - loss: 0.5205 - acc: 0.8 - ETA: 2s - loss: 0.5190 - - E\n",
      "Epoch 10/10\n",
      "1875/1875 [==============================] - 6s 3ms/step - loss: 0.5179 - acc: 0.8089 - val_loss: 0.5049 - val_acc: 0.8039\n"
     ]
    }
   ],
   "source": [
    "history = model.fit(train_features,train_labels,epochs=10,\n",
    "                   validation_data=(test_features,test_labels))"
   ]
  }
 ],
 "metadata": {
  "kernelspec": {
   "display_name": "Python 3",
   "language": "python",
   "name": "python3"
  },
  "language_info": {
   "codemirror_mode": {
    "name": "ipython",
    "version": 3
   },
   "file_extension": ".py",
   "mimetype": "text/x-python",
   "name": "python",
   "nbconvert_exporter": "python",
   "pygments_lexer": "ipython3",
   "version": "3.6.5"
  }
 },
 "nbformat": 4,
 "nbformat_minor": 5
}
