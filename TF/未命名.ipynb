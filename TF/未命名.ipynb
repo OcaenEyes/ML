{
 "cells": [
  {
   "cell_type": "code",
   "execution_count": 2,
   "id": "particular-retail",
   "metadata": {},
   "outputs": [
    {
     "name": "stdout",
     "output_type": "stream",
     "text": [
      "/Users/gaozhiyong/Documents/pyenv/pyenv3.6/bin/python\n"
     ]
    }
   ],
   "source": [
    "import sys\n",
    "print(sys.executable)"
   ]
  },
  {
   "cell_type": "code",
   "execution_count": 8,
   "id": "considerable-emphasis",
   "metadata": {},
   "outputs": [
    {
     "name": "stdout",
     "output_type": "stream",
     "text": [
      "Looking in indexes: https://pypi.tuna.tsinghua.edu.cn/simple\n",
      "Collecting tensorflow==1.11.0\n",
      "  Downloading https://pypi.tuna.tsinghua.edu.cn/packages/70/78/cd74769027b6249e45807637c1aa3ef212b9492349cca4b87e5de1a10548/tensorflow-1.11.0-cp36-cp36m-macosx_10_11_x86_64.whl (59.3 MB)\n",
      "\u001b[K     |████████████████████████████████| 59.3 MB 2.2 MB/s eta 0:00:011   |██▊                             | 5.1 MB 151 kB/s eta 0:05:58\n",
      "\u001b[?25hCollecting termcolor>=1.1.0\n",
      "  Downloading https://pypi.tuna.tsinghua.edu.cn/packages/8a/48/a76be51647d0eb9f10e2a4511bf3ffb8cc1e6b14e9e4fab46173aa79f981/termcolor-1.1.0.tar.gz (3.9 kB)\n",
      "Requirement already satisfied: numpy>=1.13.3 in /Users/gaozhiyong/Documents/pyenv/pyenv3.6/lib/python3.6/site-packages (from tensorflow==1.11.0) (1.19.5)\n",
      "Requirement already satisfied: six>=1.10.0 in /Users/gaozhiyong/Documents/pyenv/pyenv3.6/lib/python3.6/site-packages (from tensorflow==1.11.0) (1.15.0)\n",
      "Collecting tensorboard<1.12.0,>=1.11.0\n",
      "  Downloading https://pypi.tuna.tsinghua.edu.cn/packages/9b/2f/4d788919b1feef04624d63ed6ea45a49d1d1c834199ec50716edb5d310f4/tensorboard-1.11.0-py3-none-any.whl (3.0 MB)\n",
      "\u001b[K     |████████████████████████████████| 3.0 MB 51.2 MB/s eta 0:00:01\n",
      "\u001b[?25hCollecting grpcio>=1.8.6\n",
      "  Downloading https://pypi.tuna.tsinghua.edu.cn/packages/81/9a/b2ab28e936a6fc53f088ba798721ee37adc19870ac426bdfc02c2ffd7cf7/grpcio-1.35.0-cp36-cp36m-macosx_10_10_x86_64.whl (3.8 MB)\n",
      "\u001b[K     |████████████████████████████████| 3.8 MB 417 kB/s eta 0:00:01\n",
      "\u001b[?25hCollecting absl-py>=0.1.6\n",
      "  Downloading https://pypi.tuna.tsinghua.edu.cn/packages/bc/58/0aa6fb779dc69cfc811df3398fcbeaeefbf18561b6e36b185df0782781cc/absl_py-0.11.0-py3-none-any.whl (127 kB)\n",
      "\u001b[K     |████████████████████████████████| 127 kB 3.5 MB/s eta 0:00:01\n",
      "\u001b[?25hCollecting astor>=0.6.0\n",
      "  Downloading https://pypi.tuna.tsinghua.edu.cn/packages/c3/88/97eef84f48fa04fbd6750e62dcceafba6c63c81b7ac1420856c8dcc0a3f9/astor-0.8.1-py2.py3-none-any.whl (27 kB)\n",
      "Collecting setuptools<=39.1.0\n",
      "  Downloading https://pypi.tuna.tsinghua.edu.cn/packages/8c/10/79282747f9169f21c053c562a0baa21815a8c7879be97abd930dbcf862e8/setuptools-39.1.0-py2.py3-none-any.whl (566 kB)\n",
      "\u001b[K     |████████████████████████████████| 566 kB 3.5 MB/s eta 0:00:01\n",
      "\u001b[?25hCollecting keras-preprocessing>=1.0.3\n",
      "  Downloading https://pypi.tuna.tsinghua.edu.cn/packages/79/4c/7c3275a01e12ef9368a892926ab932b33bb13d55794881e3573482b378a7/Keras_Preprocessing-1.1.2-py2.py3-none-any.whl (42 kB)\n",
      "\u001b[K     |████████████████████████████████| 42 kB 1.4 MB/s  eta 0:00:01\n",
      "\u001b[?25hRequirement already satisfied: protobuf>=3.6.0 in /Users/gaozhiyong/Documents/pyenv/pyenv3.6/lib/python3.6/site-packages (from tensorflow==1.11.0) (3.15.1)\n",
      "Collecting gast>=0.2.0\n",
      "  Downloading https://pypi.tuna.tsinghua.edu.cn/packages/b6/48/583c032b79ae5b3daa02225a675aeb673e58d2cb698e78510feceb11958c/gast-0.4.0-py3-none-any.whl (9.8 kB)\n",
      "Requirement already satisfied: wheel>=0.26 in /Users/gaozhiyong/Documents/pyenv/pyenv3.6/lib/python3.6/site-packages (from tensorflow==1.11.0) (0.35.1)\n",
      "Collecting keras-applications>=1.0.5\n",
      "  Downloading https://pypi.tuna.tsinghua.edu.cn/packages/71/e3/19762fdfc62877ae9102edf6342d71b28fbfd9dea3d2f96a882ce099b03f/Keras_Applications-1.0.8-py3-none-any.whl (50 kB)\n",
      "\u001b[K     |████████████████████████████████| 50 kB 3.5 MB/s eta 0:00:011\n",
      "\u001b[?25hRequirement already satisfied: markdown>=2.6.8 in /Users/gaozhiyong/Documents/pyenv/pyenv3.6/lib/python3.6/site-packages (from tensorboard<1.12.0,>=1.11.0->tensorflow==1.11.0) (3.3.3)\n",
      "Requirement already satisfied: werkzeug>=0.11.10 in /Users/gaozhiyong/Documents/pyenv/pyenv3.6/lib/python3.6/site-packages (from tensorboard<1.12.0,>=1.11.0->tensorflow==1.11.0) (1.0.1)\n",
      "Collecting h5py\n",
      "  Downloading https://pypi.tuna.tsinghua.edu.cn/packages/34/8b/24796b39111b4a235051003986b1c6d43e8b9699ec5936b642231c101c40/h5py-3.1.0-cp36-cp36m-macosx_10_9_x86_64.whl (2.9 MB)\n",
      "\u001b[K     |████████████████████████████████| 2.9 MB 3.3 MB/s eta 0:00:01\n",
      "\u001b[?25hRequirement already satisfied: importlib-metadata; python_version < \"3.8\" in /Users/gaozhiyong/Documents/pyenv/pyenv3.6/lib/python3.6/site-packages (from markdown>=2.6.8->tensorboard<1.12.0,>=1.11.0->tensorflow==1.11.0) (3.4.0)\n",
      "Collecting cached-property; python_version < \"3.8\"\n",
      "  Downloading https://pypi.tuna.tsinghua.edu.cn/packages/48/19/f2090f7dad41e225c7f2326e4cfe6fff49e57dedb5b53636c9551f86b069/cached_property-1.5.2-py2.py3-none-any.whl (7.6 kB)\n",
      "Requirement already satisfied: typing-extensions>=3.6.4; python_version < \"3.8\" in /Users/gaozhiyong/Documents/pyenv/pyenv3.6/lib/python3.6/site-packages (from importlib-metadata; python_version < \"3.8\"->markdown>=2.6.8->tensorboard<1.12.0,>=1.11.0->tensorflow==1.11.0) (3.7.4.3)\n",
      "Requirement already satisfied: zipp>=0.5 in /Users/gaozhiyong/Documents/pyenv/pyenv3.6/lib/python3.6/site-packages (from importlib-metadata; python_version < \"3.8\"->markdown>=2.6.8->tensorboard<1.12.0,>=1.11.0->tensorflow==1.11.0) (3.4.0)\n",
      "Building wheels for collected packages: termcolor\n",
      "  Building wheel for termcolor (setup.py) ... \u001b[?25ldone\n",
      "\u001b[?25h  Created wheel for termcolor: filename=termcolor-1.1.0-py3-none-any.whl size=4830 sha256=92505654b5ff5cab6e1869dde10945cf63f952d19efdc77e63f5053f1d1f1a31\n",
      "  Stored in directory: /Users/gaozhiyong/Library/Caches/pip/wheels/72/93/79/e1a52c99d70255c3f70f7d5684e12f58bf4b886b5da1a3463b\n",
      "Successfully built termcolor\n",
      "Installing collected packages: termcolor, grpcio, tensorboard, absl-py, astor, setuptools, keras-preprocessing, gast, cached-property, h5py, keras-applications, tensorflow\n",
      "  Attempting uninstall: setuptools\n",
      "    Found existing installation: setuptools 50.3.2\n",
      "    Uninstalling setuptools-50.3.2:\n",
      "      Successfully uninstalled setuptools-50.3.2\n",
      "  Attempting uninstall: tensorflow\n",
      "    Found existing installation: tensorflow 1.4.0\n",
      "    Uninstalling tensorflow-1.4.0:\n",
      "      Successfully uninstalled tensorflow-1.4.0\n",
      "Successfully installed absl-py-0.11.0 astor-0.8.1 cached-property-1.5.2 gast-0.4.0 grpcio-1.35.0 h5py-3.1.0 keras-applications-1.0.8 keras-preprocessing-1.1.2 setuptools-39.1.0 tensorboard-1.11.0 tensorflow-1.11.0 termcolor-1.1.0\n",
      "\u001b[33mWARNING: You are using pip version 20.2.4; however, version 21.0.1 is available.\n",
      "You should consider upgrading via the '/Users/gaozhiyong/Documents/pyenv/pyenv3.6/bin/python -m pip install --upgrade pip' command.\u001b[0m\n"
     ]
    }
   ],
   "source": [
    "!pip install tensorflow==1.11.0 -i https://pypi.tuna.tsinghua.edu.cn/simple"
   ]
  },
  {
   "cell_type": "code",
   "execution_count": 7,
   "id": "federal-agreement",
   "metadata": {},
   "outputs": [
    {
     "name": "stdout",
     "output_type": "stream",
     "text": [
      "Looking in indexes: https://pypi.tuna.tsinghua.edu.cn/simple\n",
      "Collecting sklearn\n",
      "  Using cached https://pypi.tuna.tsinghua.edu.cn/packages/1e/7a/dbb3be0ce9bd5c8b7e3d87328e79063f8b263b2b1bfa4774cb1147bfcd3f/sklearn-0.0.tar.gz (1.1 kB)\n",
      "Collecting scikit-learn\n",
      "  Using cached https://pypi.tuna.tsinghua.edu.cn/packages/c9/35/b2a1eaf3ba1eca2d834a5ca94d23ee98b21ff6228b5e32a07703e73c58ca/scikit_learn-0.24.1-cp36-cp36m-macosx_10_13_x86_64.whl (7.2 MB)\n",
      "Requirement already satisfied: numpy>=1.13.3 in /Users/gaozhiyong/Documents/pyenv/pyenv3.6/lib/python3.6/site-packages (from scikit-learn->sklearn) (1.19.5)\n",
      "Collecting threadpoolctl>=2.0.0\n",
      "  Downloading https://pypi.tuna.tsinghua.edu.cn/packages/f7/12/ec3f2e203afa394a149911729357aa48affc59c20e2c1c8297a60f33f133/threadpoolctl-2.1.0-py3-none-any.whl (12 kB)\n",
      "Collecting joblib>=0.11\n",
      "  Using cached https://pypi.tuna.tsinghua.edu.cn/packages/55/85/70c6602b078bd9e6f3da4f467047e906525c355a4dacd4f71b97a35d9897/joblib-1.0.1-py3-none-any.whl (303 kB)\n",
      "Collecting scipy>=0.19.1\n",
      "  Downloading https://pypi.tuna.tsinghua.edu.cn/packages/47/c7/348acee81b0cf8eec66b4a71c8cca188f405061cb76cc3f9f72249568a22/scipy-1.5.4-cp36-cp36m-macosx_10_9_x86_64.whl (28.8 MB)\n",
      "\u001b[K     |████████████████████████████████| 28.8 MB 117 kB/s eta 0:00:01\n",
      "\u001b[?25hBuilding wheels for collected packages: sklearn\n",
      "  Building wheel for sklearn (setup.py) ... \u001b[?25ldone\n",
      "\u001b[?25h  Created wheel for sklearn: filename=sklearn-0.0-py2.py3-none-any.whl size=1316 sha256=9637f9fb492ca0dc0336d852ef3b50f4c5a2bea6faab1587b02511aac8e161c8\n",
      "  Stored in directory: /Users/gaozhiyong/Library/Caches/pip/wheels/1f/e0/8d/744e7e074d3d78f60c949a50b3c8ce3922e29cf92c8d78660d\n",
      "Successfully built sklearn\n",
      "Installing collected packages: threadpoolctl, joblib, scipy, scikit-learn, sklearn\n",
      "Successfully installed joblib-1.0.1 scikit-learn-0.24.1 scipy-1.5.4 sklearn-0.0 threadpoolctl-2.1.0\n",
      "\u001b[33mWARNING: You are using pip version 20.2.4; however, version 21.0.1 is available.\n",
      "You should consider upgrading via the '/Users/gaozhiyong/Documents/pyenv/pyenv3.6/bin/python -m pip install --upgrade pip' command.\u001b[0m\n"
     ]
    }
   ],
   "source": [
    "!pip install sklearn -i https://pypi.tuna.tsinghua.edu.cn/simple"
   ]
  },
  {
   "cell_type": "code",
   "execution_count": 9,
   "id": "objective-thumb",
   "metadata": {},
   "outputs": [
    {
     "name": "stdout",
     "output_type": "stream",
     "text": [
      "Package                Version\n",
      "---------------------- ---------\n",
      "absl-py                0.11.0\n",
      "anyio                  2.1.0\n",
      "appnope                0.1.2\n",
      "argon2-cffi            20.1.0\n",
      "astor                  0.8.1\n",
      "async-generator        1.10\n",
      "attrs                  20.3.0\n",
      "Babel                  2.9.0\n",
      "backcall               0.2.0\n",
      "bleach                 1.5.0\n",
      "cached-property        1.5.2\n",
      "certifi                2020.12.5\n",
      "cffi                   1.14.5\n",
      "chardet                4.0.0\n",
      "contextvars            2.4\n",
      "dataclasses            0.8\n",
      "decorator              4.4.2\n",
      "defusedxml             0.6.0\n",
      "entrypoints            0.3\n",
      "enum34                 1.1.10\n",
      "gast                   0.4.0\n",
      "grpcio                 1.35.0\n",
      "h5py                   3.1.0\n",
      "html5lib               0.9999999\n",
      "idna                   2.10\n",
      "immutables             0.15\n",
      "importlib-metadata     3.4.0\n",
      "ipykernel              5.5.0\n",
      "ipython                7.16.1\n",
      "ipython-genutils       0.2.0\n",
      "jedi                   0.18.0\n",
      "Jinja2                 2.11.3\n",
      "joblib                 1.0.1\n",
      "json5                  0.9.5\n",
      "jsonschema             3.2.0\n",
      "jupyter-client         6.1.11\n",
      "jupyter-core           4.7.1\n",
      "jupyter-server         1.4.0\n",
      "jupyterlab             3.0.8\n",
      "jupyterlab-pygments    0.1.2\n",
      "jupyterlab-server      2.3.0\n",
      "Keras-Applications     1.0.8\n",
      "Keras-Preprocessing    1.1.2\n",
      "Markdown               3.3.3\n",
      "MarkupSafe             1.1.1\n",
      "mistune                0.8.4\n",
      "nbclassic              0.2.6\n",
      "nbclient               0.5.2\n",
      "nbconvert              6.0.7\n",
      "nbformat               5.1.2\n",
      "nest-asyncio           1.5.1\n",
      "notebook               6.2.0\n",
      "numpy                  1.19.5\n",
      "packaging              20.9\n",
      "pandocfilters          1.4.3\n",
      "parso                  0.8.1\n",
      "pexpect                4.8.0\n",
      "pickleshare            0.7.5\n",
      "pip                    20.2.4\n",
      "prometheus-client      0.9.0\n",
      "prompt-toolkit         3.0.16\n",
      "protobuf               3.15.1\n",
      "ptyprocess             0.7.0\n",
      "pycparser              2.20\n",
      "Pygments               2.8.0\n",
      "pyparsing              2.4.7\n",
      "pyrsistent             0.17.3\n",
      "python-dateutil        2.8.1\n",
      "pytz                   2021.1\n",
      "pyzmq                  22.0.3\n",
      "requests               2.25.1\n",
      "scikit-learn           0.24.1\n",
      "scipy                  1.5.4\n",
      "Send2Trash             1.5.0\n",
      "setuptools             39.1.0\n",
      "six                    1.15.0\n",
      "sklearn                0.0\n",
      "sniffio                1.2.0\n",
      "tensorboard            1.11.0\n",
      "tensorflow             1.11.0\n",
      "tensorflow-tensorboard 0.4.0\n",
      "termcolor              1.1.0\n",
      "terminado              0.9.2\n",
      "testpath               0.4.4\n",
      "threadpoolctl          2.1.0\n",
      "tornado                6.1\n",
      "traitlets              4.3.3\n",
      "typing-extensions      3.7.4.3\n",
      "urllib3                1.26.3\n",
      "wcwidth                0.2.5\n",
      "webencodings           0.5.1\n",
      "Werkzeug               1.0.1\n",
      "wheel                  0.35.1\n",
      "zipp                   3.4.0\n",
      "\u001b[33mWARNING: You are using pip version 20.2.4; however, version 21.0.1 is available.\n",
      "You should consider upgrading via the '/Users/gaozhiyong/Documents/pyenv/pyenv3.6/bin/python -m pip install --upgrade pip' command.\u001b[0m\n"
     ]
    }
   ],
   "source": [
    "!pip list"
   ]
  },
  {
   "cell_type": "code",
   "execution_count": 11,
   "id": "resistant-seattle",
   "metadata": {},
   "outputs": [
    {
     "name": "stdout",
     "output_type": "stream",
     "text": [
      "Looking in indexes: https://pypi.tuna.tsinghua.edu.cn/simple\n",
      "Collecting bert-base==0.0.7\n",
      "  Downloading https://pypi.tuna.tsinghua.edu.cn/packages/46/44/782ef0a1d033cdfc8783172c3e8f5290038f5f54e4fa7b68d36a61e9c044/bert_base-0.0.7-py3-none-any.whl (110 kB)\n",
      "\u001b[K     |████████████████████████████████| 110 kB 1.6 MB/s eta 0:00:01\n",
      "\u001b[?25hCollecting GPUtil>=1.3.0\n",
      "  Downloading https://pypi.tuna.tsinghua.edu.cn/packages/ed/0e/5c61eedde9f6c87713e89d794f01e378cfd9565847d4576fa627d758c554/GPUtil-1.4.0.tar.gz (5.5 kB)\n",
      "Requirement already satisfied: pyzmq>=16.0.0 in /Users/gaozhiyong/Documents/pyenv/pyenv3.6/lib/python3.6/site-packages (from bert-base==0.0.7) (22.0.3)\n",
      "Requirement already satisfied: six in /Users/gaozhiyong/Documents/pyenv/pyenv3.6/lib/python3.6/site-packages (from bert-base==0.0.7) (1.15.0)\n",
      "Requirement already satisfied: termcolor>=1.1 in /Users/gaozhiyong/Documents/pyenv/pyenv3.6/lib/python3.6/site-packages (from bert-base==0.0.7) (1.1.0)\n",
      "Requirement already satisfied: numpy in /Users/gaozhiyong/Documents/pyenv/pyenv3.6/lib/python3.6/site-packages (from bert-base==0.0.7) (1.19.5)\n",
      "Building wheels for collected packages: GPUtil\n",
      "  Building wheel for GPUtil (setup.py) ... \u001b[?25ldone\n",
      "\u001b[?25h  Created wheel for GPUtil: filename=GPUtil-1.4.0-py3-none-any.whl size=7409 sha256=76ec92d1805e9792773239d4c6b9c2712a81b2213e3a94dd1565eb692b969bf7\n",
      "  Stored in directory: /Users/gaozhiyong/Library/Caches/pip/wheels/8f/52/b2/26e74b345b1d5dab4a1aa5b8baa9d924c4b36268d5965aa4f0\n",
      "Successfully built GPUtil\n",
      "Installing collected packages: GPUtil, bert-base\n",
      "Successfully installed GPUtil-1.4.0 bert-base-0.0.7\n",
      "\u001b[33mWARNING: You are using pip version 20.2.4; however, version 21.0.1 is available.\n",
      "You should consider upgrading via the '/Users/gaozhiyong/Documents/pyenv/pyenv3.6/bin/python -m pip install --upgrade pip' command.\u001b[0m\n"
     ]
    }
   ],
   "source": [
    "!pip install bert-base==0.0.7 -i https://pypi.tuna.tsinghua.edu.cn/simple"
   ]
  },
  {
   "cell_type": "code",
   "execution_count": 12,
   "id": "enabling-clock",
   "metadata": {},
   "outputs": [
    {
     "name": "stdout",
     "output_type": "stream",
     "text": [
      "Looking in indexes: https://pypi.tuna.tsinghua.edu.cn/simple\n",
      "Collecting flask\n",
      "  Downloading https://pypi.tuna.tsinghua.edu.cn/packages/f2/28/2a03252dfb9ebf377f40fba6a7841b47083260bf8bd8e737b0c6952df83f/Flask-1.1.2-py2.py3-none-any.whl (94 kB)\n",
      "\u001b[K     |████████████████████████████████| 94 kB 908 kB/s eta 0:00:011\n",
      "\u001b[?25hRequirement already satisfied: Jinja2>=2.10.1 in /Users/gaozhiyong/Documents/pyenv/pyenv3.6/lib/python3.6/site-packages (from flask) (2.11.3)\n",
      "Collecting itsdangerous>=0.24\n",
      "  Downloading https://pypi.tuna.tsinghua.edu.cn/packages/76/ae/44b03b253d6fade317f32c24d100b3b35c2239807046a4c953c7b89fa49e/itsdangerous-1.1.0-py2.py3-none-any.whl (16 kB)\n",
      "Requirement already satisfied: Werkzeug>=0.15 in /Users/gaozhiyong/Documents/pyenv/pyenv3.6/lib/python3.6/site-packages (from flask) (1.0.1)\n",
      "Collecting click>=5.1\n",
      "  Downloading https://pypi.tuna.tsinghua.edu.cn/packages/d2/3d/fa76db83bf75c4f8d338c2fd15c8d33fdd7ad23a9b5e57eb6c5de26b430e/click-7.1.2-py2.py3-none-any.whl (82 kB)\n",
      "\u001b[K     |████████████████████████████████| 82 kB 182 kB/s eta 0:00:011\n",
      "\u001b[?25hRequirement already satisfied: MarkupSafe>=0.23 in /Users/gaozhiyong/Documents/pyenv/pyenv3.6/lib/python3.6/site-packages (from Jinja2>=2.10.1->flask) (1.1.1)\n",
      "Installing collected packages: itsdangerous, click, flask\n",
      "Successfully installed click-7.1.2 flask-1.1.2 itsdangerous-1.1.0\n",
      "\u001b[33mWARNING: You are using pip version 20.2.4; however, version 21.0.1 is available.\n",
      "You should consider upgrading via the '/Users/gaozhiyong/Documents/pyenv/pyenv3.6/bin/python -m pip install --upgrade pip' command.\u001b[0m\n"
     ]
    }
   ],
   "source": [
    "!pip install flask -i https://pypi.tuna.tsinghua.edu.cn/simple"
   ]
  },
  {
   "cell_type": "code",
   "execution_count": 13,
   "id": "vocational-blame",
   "metadata": {},
   "outputs": [
    {
     "name": "stdout",
     "output_type": "stream",
     "text": [
      "Looking in indexes: https://pypi.tuna.tsinghua.edu.cn/simple\n",
      "Collecting flask_compress\n",
      "  Downloading https://pypi.tuna.tsinghua.edu.cn/packages/da/4d/20eccc60b10f8765f15f42db35e1a0d010bc9a7562760410f7d9cef87d77/Flask-Compress-1.9.0.tar.gz (10 kB)\n",
      "Requirement already satisfied: flask in /Users/gaozhiyong/Documents/pyenv/pyenv3.6/lib/python3.6/site-packages (from flask_compress) (1.1.2)\n",
      "Collecting brotli\n",
      "  Downloading https://pypi.tuna.tsinghua.edu.cn/packages/71/7f/1cb18fc0778924a8c23e532ffae0411d104401131be6fd93e2e5ab803b89/Brotli-1.0.9-cp36-cp36m-macosx_10_9_x86_64.whl (421 kB)\n",
      "\u001b[K     |████████████████████████████████| 421 kB 611 kB/s eta 0:00:01\n",
      "\u001b[?25hRequirement already satisfied: itsdangerous>=0.24 in /Users/gaozhiyong/Documents/pyenv/pyenv3.6/lib/python3.6/site-packages (from flask->flask_compress) (1.1.0)\n",
      "Requirement already satisfied: Jinja2>=2.10.1 in /Users/gaozhiyong/Documents/pyenv/pyenv3.6/lib/python3.6/site-packages (from flask->flask_compress) (2.11.3)\n",
      "Requirement already satisfied: click>=5.1 in /Users/gaozhiyong/Documents/pyenv/pyenv3.6/lib/python3.6/site-packages (from flask->flask_compress) (7.1.2)\n",
      "Requirement already satisfied: Werkzeug>=0.15 in /Users/gaozhiyong/Documents/pyenv/pyenv3.6/lib/python3.6/site-packages (from flask->flask_compress) (1.0.1)\n",
      "Requirement already satisfied: MarkupSafe>=0.23 in /Users/gaozhiyong/Documents/pyenv/pyenv3.6/lib/python3.6/site-packages (from Jinja2>=2.10.1->flask->flask_compress) (1.1.1)\n",
      "Building wheels for collected packages: flask-compress\n",
      "  Building wheel for flask-compress (setup.py) ... \u001b[?25ldone\n",
      "\u001b[?25h  Created wheel for flask-compress: filename=Flask_Compress-1.9.0-py3-none-any.whl size=7258 sha256=e57e802bc1a2a801f40e5f5f861b3d60e0a4c47c3bc2dd5c1fd27fa875888c36\n",
      "  Stored in directory: /Users/gaozhiyong/Library/Caches/pip/wheels/50/5e/72/ce73c1442ee31be590df4d2340ef2f106f65d38a6be7c4497a\n",
      "Successfully built flask-compress\n",
      "Installing collected packages: brotli, flask-compress\n",
      "Successfully installed brotli-1.0.9 flask-compress-1.9.0\n",
      "\u001b[33mWARNING: You are using pip version 20.2.4; however, version 21.0.1 is available.\n",
      "You should consider upgrading via the '/Users/gaozhiyong/Documents/pyenv/pyenv3.6/bin/python -m pip install --upgrade pip' command.\u001b[0m\n"
     ]
    }
   ],
   "source": [
    "!pip install flask_compress -i https://pypi.tuna.tsinghua.edu.cn/simple"
   ]
  },
  {
   "cell_type": "code",
   "execution_count": 14,
   "id": "entire-royalty",
   "metadata": {},
   "outputs": [
    {
     "name": "stdout",
     "output_type": "stream",
     "text": [
      "Looking in indexes: https://pypi.tuna.tsinghua.edu.cn/simple\n",
      "Collecting flask_cors\n",
      "  Downloading https://pypi.tuna.tsinghua.edu.cn/packages/db/84/901e700de86604b1c4ef4b57110d4e947c218b9997adf5d38fa7da493bce/Flask_Cors-3.0.10-py2.py3-none-any.whl (14 kB)\n",
      "Requirement already satisfied: Flask>=0.9 in /Users/gaozhiyong/Documents/pyenv/pyenv3.6/lib/python3.6/site-packages (from flask_cors) (1.1.2)\n",
      "Requirement already satisfied: Six in /Users/gaozhiyong/Documents/pyenv/pyenv3.6/lib/python3.6/site-packages (from flask_cors) (1.15.0)\n",
      "Requirement already satisfied: click>=5.1 in /Users/gaozhiyong/Documents/pyenv/pyenv3.6/lib/python3.6/site-packages (from Flask>=0.9->flask_cors) (7.1.2)\n",
      "Requirement already satisfied: Jinja2>=2.10.1 in /Users/gaozhiyong/Documents/pyenv/pyenv3.6/lib/python3.6/site-packages (from Flask>=0.9->flask_cors) (2.11.3)\n",
      "Requirement already satisfied: Werkzeug>=0.15 in /Users/gaozhiyong/Documents/pyenv/pyenv3.6/lib/python3.6/site-packages (from Flask>=0.9->flask_cors) (1.0.1)\n",
      "Requirement already satisfied: itsdangerous>=0.24 in /Users/gaozhiyong/Documents/pyenv/pyenv3.6/lib/python3.6/site-packages (from Flask>=0.9->flask_cors) (1.1.0)\n",
      "Requirement already satisfied: MarkupSafe>=0.23 in /Users/gaozhiyong/Documents/pyenv/pyenv3.6/lib/python3.6/site-packages (from Jinja2>=2.10.1->Flask>=0.9->flask_cors) (1.1.1)\n",
      "Installing collected packages: flask-cors\n",
      "Successfully installed flask-cors-3.0.10\n",
      "\u001b[33mWARNING: You are using pip version 20.2.4; however, version 21.0.1 is available.\n",
      "You should consider upgrading via the '/Users/gaozhiyong/Documents/pyenv/pyenv3.6/bin/python -m pip install --upgrade pip' command.\u001b[0m\n"
     ]
    }
   ],
   "source": [
    "!pip install flask_cors -i https://pypi.tuna.tsinghua.edu.cn/simple"
   ]
  },
  {
   "cell_type": "code",
   "execution_count": 15,
   "id": "northern-dayton",
   "metadata": {},
   "outputs": [
    {
     "name": "stdout",
     "output_type": "stream",
     "text": [
      "Looking in indexes: https://pypi.tuna.tsinghua.edu.cn/simple\n",
      "Collecting flask_json\n",
      "  Downloading https://pypi.tuna.tsinghua.edu.cn/packages/6f/2d/4c21d98b11f3a206fabbdd965b53a2ca3ee9fab7646c93cf36c060e8f1a4/Flask_JSON-0.3.4-py3-none-any.whl (9.0 kB)\n",
      "Requirement already satisfied: Flask>=0.10 in /Users/gaozhiyong/Documents/pyenv/pyenv3.6/lib/python3.6/site-packages (from flask_json) (1.1.2)\n",
      "Requirement already satisfied: Werkzeug>=0.15 in /Users/gaozhiyong/Documents/pyenv/pyenv3.6/lib/python3.6/site-packages (from Flask>=0.10->flask_json) (1.0.1)\n",
      "Requirement already satisfied: itsdangerous>=0.24 in /Users/gaozhiyong/Documents/pyenv/pyenv3.6/lib/python3.6/site-packages (from Flask>=0.10->flask_json) (1.1.0)\n",
      "Requirement already satisfied: Jinja2>=2.10.1 in /Users/gaozhiyong/Documents/pyenv/pyenv3.6/lib/python3.6/site-packages (from Flask>=0.10->flask_json) (2.11.3)\n",
      "Requirement already satisfied: click>=5.1 in /Users/gaozhiyong/Documents/pyenv/pyenv3.6/lib/python3.6/site-packages (from Flask>=0.10->flask_json) (7.1.2)\n",
      "Requirement already satisfied: MarkupSafe>=0.23 in /Users/gaozhiyong/Documents/pyenv/pyenv3.6/lib/python3.6/site-packages (from Jinja2>=2.10.1->Flask>=0.10->flask_json) (1.1.1)\n",
      "Installing collected packages: flask-json\n",
      "Successfully installed flask-json-0.3.4\n",
      "\u001b[33mWARNING: You are using pip version 20.2.4; however, version 21.0.1 is available.\n",
      "You should consider upgrading via the '/Users/gaozhiyong/Documents/pyenv/pyenv3.6/bin/python -m pip install --upgrade pip' command.\u001b[0m\n"
     ]
    }
   ],
   "source": [
    "!pip install flask_json -i https://pypi.tuna.tsinghua.edu.cn/simple"
   ]
  },
  {
   "cell_type": "code",
   "execution_count": null,
   "id": "finished-somewhere",
   "metadata": {},
   "outputs": [],
   "source": []
  }
 ],
 "metadata": {
  "kernelspec": {
   "display_name": "Python 3",
   "language": "python",
   "name": "python3"
  },
  "language_info": {
   "codemirror_mode": {
    "name": "ipython",
    "version": 3
   },
   "file_extension": ".py",
   "mimetype": "text/x-python",
   "name": "python",
   "nbconvert_exporter": "python",
   "pygments_lexer": "ipython3",
   "version": "3.6.5"
  }
 },
 "nbformat": 4,
 "nbformat_minor": 5
}
