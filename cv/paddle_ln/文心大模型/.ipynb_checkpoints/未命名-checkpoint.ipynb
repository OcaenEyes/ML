{
 "cells": [
  {
   "cell_type": "code",
   "execution_count": 1,
   "id": "5d0005d8-06c2-4c3c-a22e-951044c63c8a",
   "metadata": {},
   "outputs": [
    {
     "data": {
      "text/plain": [
       "'/Users/gaozhiyong/.virtualenvs/pyenv3.8.5_paddle/bin/python'"
      ]
     },
     "execution_count": 1,
     "metadata": {},
     "output_type": "execute_result"
    }
   ],
   "source": [
    "import sys\n",
    "sys.executable"
   ]
  },
  {
   "cell_type": "code",
   "execution_count": 2,
   "id": "84705149-2962-413b-8687-4597274cd12e",
   "metadata": {},
   "outputs": [
    {
     "name": "stderr",
     "output_type": "stream",
     "text": [
      "/Users/gaozhiyong/.virtualenvs/pyenv3.8.5_paddle/lib/python3.8/site-packages/tqdm/auto.py:22: TqdmWarning: IProgress not found. Please update jupyter and ipywidgets. See https://ipywidgets.readthedocs.io/en/stable/user_install.html\n",
      "  from .autonotebook import tqdm as notebook_tqdm\n",
      "/Users/gaozhiyong/.virtualenvs/pyenv3.8.5_paddle/lib/python3.8/site-packages/paddlenlp/transformers/image_utils.py:213: DeprecationWarning: BILINEAR is deprecated and will be removed in Pillow 10 (2023-07-01). Use Resampling.BILINEAR instead.\n",
      "  resample=Image.BILINEAR,\n",
      "/Users/gaozhiyong/.virtualenvs/pyenv3.8.5_paddle/lib/python3.8/site-packages/paddlenlp/transformers/image_utils.py:379: DeprecationWarning: NEAREST is deprecated and will be removed in Pillow 10 (2023-07-01). Use Resampling.NEAREST or Dither.NONE instead.\n",
      "  resample=Image.NEAREST,\n",
      "/Users/gaozhiyong/.virtualenvs/pyenv3.8.5_paddle/lib/python3.8/site-packages/paddlenlp/transformers/ernie_vil/feature_extraction.py:65: DeprecationWarning: BICUBIC is deprecated and will be removed in Pillow 10 (2023-07-01). Use Resampling.BICUBIC instead.\n",
      "  resample=Image.BICUBIC,\n",
      "/Users/gaozhiyong/.virtualenvs/pyenv3.8.5_paddle/lib/python3.8/site-packages/paddlenlp/transformers/clip/feature_extraction.py:64: DeprecationWarning: BICUBIC is deprecated and will be removed in Pillow 10 (2023-07-01). Use Resampling.BICUBIC instead.\n",
      "  resample=Image.BICUBIC,\n"
     ]
    }
   ],
   "source": [
    "import paddlehub as hub"
   ]
  },
  {
   "cell_type": "code",
   "execution_count": 3,
   "id": "ea6725ff-9065-4dd2-8c4b-494cbe4726f8",
   "metadata": {},
   "outputs": [],
   "source": [
    "# module = hub.Module(name=\"ernie_vilg\")\n",
    "# text_prompts = [\"城市\",\"夜晚\",\"灯光\",\"精致\"]\n",
    "# images = module.generate_image(text_prompts=text_prompts, style='赛博朋克', output_dir='./ernie_vilg_out/')  "
   ]
  },
  {
   "cell_type": "code",
   "execution_count": 4,
   "id": "21a0e3d2-6314-46bd-9b2e-8aee22866de8",
   "metadata": {},
   "outputs": [],
   "source": [
    "# module = hub.Module(name=\"ernie_vilg\")\n",
    "# text_prompts = \"古风插画\"\n",
    "# module.generate_image(text_prompts=text_prompts, style='古风', output_dir='./ernie_vilg_out/')  "
   ]
  },
  {
   "cell_type": "code",
   "execution_count": 5,
   "id": "39b94a09-af10-4ce9-83da-8527cc2d5f64",
   "metadata": {},
   "outputs": [],
   "source": [
    "module = hub.Module(name=\"ernie_vilg\")"
   ]
  },
  {
   "cell_type": "code",
   "execution_count": 7,
   "id": "e64769ed-18df-46c0-b39e-780448f56a8f",
   "metadata": {},
   "outputs": [],
   "source": [
    "text_prompts = [\"清晨\", \"森林\", \"树木\", \"枝叶\", \"微风\", \"沙沙声\", \"空气\", \"泥土\", \"花草\", \"阳光\", \"光影\", \"河流\", \"水面\", \"小鸟\", \"生机\", \"活力\", \"时光\", \"和谐\", \"宁静\", \"祥和\"]  "
   ]
  },
  {
   "cell_type": "code",
   "execution_count": 9,
   "id": "2ba1db39-9f82-410c-a854-3aa609932219",
   "metadata": {},
   "outputs": [
    {
     "ename": "SyntaxError",
     "evalue": "invalid character in identifier (3065737773.py, line 1)",
     "output_type": "error",
     "traceback": [
      "\u001b[0;36m  Cell \u001b[0;32mIn [9], line 1\u001b[0;36m\u001b[0m\n\u001b[0;31m    module.generate_image(text_prompts=text_prompts, style='油画',topk=5， output_dir='./ernie_vilg_out/')\u001b[0m\n\u001b[0m                                                                      ^\u001b[0m\n\u001b[0;31mSyntaxError\u001b[0m\u001b[0;31m:\u001b[0m invalid character in identifier\n"
     ]
    }
   ],
   "source": [
    "module.generate_image(text_prompts=text_prompts, style='油画',topk=5,output_dir='./ernie_vilg_out/')"
   ]
  },
  {
   "cell_type": "code",
   "execution_count": null,
   "id": "30e869db-92ed-42a4-8a9e-cb6f5caf387a",
   "metadata": {},
   "outputs": [],
   "source": []
  }
 ],
 "metadata": {
  "kernelspec": {
   "display_name": "pyenv3.8.5_paddle",
   "language": "python",
   "name": "pyenv3.8.5_paddle"
  },
  "language_info": {
   "codemirror_mode": {
    "name": "ipython",
    "version": 3
   },
   "file_extension": ".py",
   "mimetype": "text/x-python",
   "name": "python",
   "nbconvert_exporter": "python",
   "pygments_lexer": "ipython3",
   "version": "3.8.5"
  }
 },
 "nbformat": 4,
 "nbformat_minor": 5
}
