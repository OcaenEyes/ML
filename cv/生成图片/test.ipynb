{
 "cells": [
  {
   "cell_type": "code",
   "execution_count": 1,
   "metadata": {},
   "outputs": [
    {
     "name": "stderr",
     "output_type": "stream",
     "text": [
      "C:\\Users\\Administrator\\Envs\\py3.8.6_paddle\\lib\\site-packages\\tqdm\\auto.py:22: TqdmWarning: IProgress not found. Please update jupyter and ipywidgets. See https://ipywidgets.readthedocs.io/en/stable/user_install.html\n",
      "  from .autonotebook import tqdm as notebook_tqdm\n"
     ]
    }
   ],
   "source": [
    "import paddlehub as hub"
   ]
  },
  {
   "cell_type": "code",
   "execution_count": 2,
   "metadata": {},
   "outputs": [],
   "source": [
    "model = hub.Module(name=\"ernie_vilg\")"
   ]
  },
  {
   "cell_type": "code",
   "execution_count": 3,
   "metadata": {},
   "outputs": [
    {
     "name": "stdout",
     "output_type": "stream",
     "text": [
      "Help on function runner in module paddlehub.compat.paddle_utils:\n",
      "\n",
      "runner(*args, **kwargs)\n",
      "\n"
     ]
    }
   ],
   "source": [
    "help(model.generate_image)"
   ]
  },
  {
   "cell_type": "code",
   "execution_count": 4,
   "metadata": {},
   "outputs": [
    {
     "name": "stderr",
     "output_type": "stream",
     "text": [
      "100%|█████████████████████████████████████████████████████████████████████████████████| 100/100 [00:36<00:00,  4.01%/s]"
     ]
    },
    {
     "name": "stdout",
     "output_type": "stream",
     "text": [
      "Saving Images...\n"
     ]
    },
    {
     "name": "stderr",
     "output_type": "stream",
     "text": [
      "100%|█████████████████████████████████████████████████████████████████████████████████| 100/100 [00:45<00:00,  2.19%/s]"
     ]
    },
    {
     "name": "stdout",
     "output_type": "stream",
     "text": [
      "Done\n"
     ]
    },
    {
     "name": "stderr",
     "output_type": "stream",
     "text": [
      "\n"
     ]
    },
    {
     "data": {
      "text/plain": [
       "[<PIL.JpegImagePlugin.JpegImageFile image mode=RGB size=1024x1024 at 0x24ADAA67C10>,\n",
       " <PIL.JpegImagePlugin.JpegImageFile image mode=RGB size=1024x1024 at 0x24ADBB20F40>,\n",
       " <PIL.JpegImagePlugin.JpegImageFile image mode=RGB size=1024x1024 at 0x24ADBB20F70>,\n",
       " <PIL.JpegImagePlugin.JpegImageFile image mode=RGB size=1024x1024 at 0x24ADBB20700>,\n",
       " <PIL.JpegImagePlugin.JpegImageFile image mode=RGB size=1024x1024 at 0x24ADBB300D0>,\n",
       " <PIL.JpegImagePlugin.JpegImageFile image mode=RGB size=1024x1024 at 0x24ADBB306D0>]"
      ]
     },
     "execution_count": 4,
     "metadata": {},
     "output_type": "execute_result"
    }
   ],
   "source": [
    "model.generate_image(text_prompts=\"夜空鲸鱼\",style=\"水彩\",topk=6)"
   ]
  },
  {
   "cell_type": "code",
   "execution_count": 5,
   "metadata": {},
   "outputs": [
    {
     "name": "stderr",
     "output_type": "stream",
     "text": [
      "100%|█████████████████████████████████████████████████████████████████████████████████| 100/100 [00:36<00:00,  4.02%/s]"
     ]
    },
    {
     "name": "stdout",
     "output_type": "stream",
     "text": [
      "Saving Images...\n"
     ]
    },
    {
     "name": "stderr",
     "output_type": "stream",
     "text": [
      "100%|█████████████████████████████████████████████████████████████████████████████████| 100/100 [00:45<00:00,  2.18%/s]"
     ]
    },
    {
     "name": "stdout",
     "output_type": "stream",
     "text": [
      "Done\n"
     ]
    },
    {
     "name": "stderr",
     "output_type": "stream",
     "text": [
      "\n"
     ]
    },
    {
     "data": {
      "text/plain": [
       "[<PIL.JpegImagePlugin.JpegImageFile image mode=RGB size=1024x1024 at 0x24AD5B93EE0>,\n",
       " <PIL.JpegImagePlugin.JpegImageFile image mode=RGB size=1024x1024 at 0x24ADAA7AB50>,\n",
       " <PIL.JpegImagePlugin.JpegImageFile image mode=RGB size=1024x1024 at 0x24A99040190>,\n",
       " <PIL.JpegImagePlugin.JpegImageFile image mode=RGB size=1024x1024 at 0x24ADAA7AE80>,\n",
       " <PIL.JpegImagePlugin.JpegImageFile image mode=RGB size=1024x1024 at 0x24A9904B250>,\n",
       " <PIL.JpegImagePlugin.JpegImageFile image mode=RGB size=1024x1024 at 0x24ADAA679D0>]"
      ]
     },
     "execution_count": 5,
     "metadata": {},
     "output_type": "execute_result"
    }
   ],
   "source": [
    "model.generate_image(text_prompts=\"月亮鲸鱼\",style=\"水彩\",topk=6)"
   ]
  },
  {
   "cell_type": "code",
   "execution_count": 6,
   "metadata": {},
   "outputs": [
    {
     "name": "stderr",
     "output_type": "stream",
     "text": [
      "100%|█████████████████████████████████████████████████████████████████████████████████| 100/100 [00:36<00:00,  4.00%/s]"
     ]
    },
    {
     "name": "stdout",
     "output_type": "stream",
     "text": [
      "Saving Images...\n"
     ]
    },
    {
     "name": "stderr",
     "output_type": "stream",
     "text": [
      "100%|█████████████████████████████████████████████████████████████████████████████████| 100/100 [00:45<00:00,  2.19%/s]"
     ]
    },
    {
     "name": "stdout",
     "output_type": "stream",
     "text": [
      "Done\n"
     ]
    },
    {
     "name": "stderr",
     "output_type": "stream",
     "text": [
      "\n"
     ]
    },
    {
     "data": {
      "text/plain": [
       "[<PIL.JpegImagePlugin.JpegImageFile image mode=RGB size=1024x1024 at 0x24ADAA7ABE0>,\n",
       " <PIL.JpegImagePlugin.JpegImageFile image mode=RGB size=1024x1024 at 0x24ADAA7AFD0>,\n",
       " <PIL.JpegImagePlugin.JpegImageFile image mode=RGB size=1024x1024 at 0x24ADAA7A130>,\n",
       " <PIL.JpegImagePlugin.JpegImageFile image mode=RGB size=1024x1024 at 0x24ADAA7ADC0>,\n",
       " <PIL.JpegImagePlugin.JpegImageFile image mode=RGB size=1024x1024 at 0x24ADAAB3AF0>,\n",
       " <PIL.JpegImagePlugin.JpegImageFile image mode=RGB size=1024x1024 at 0x24ADAAB3190>]"
      ]
     },
     "execution_count": 6,
     "metadata": {},
     "output_type": "execute_result"
    }
   ],
   "source": [
    "model.generate_image(text_prompts=\"月夜鲸鱼\",style=\"水彩\",topk=6)"
   ]
  },
  {
   "cell_type": "code",
   "execution_count": null,
   "metadata": {},
   "outputs": [],
   "source": []
  }
 ],
 "metadata": {
  "kernelspec": {
   "display_name": "py3.8.6_paddle",
   "language": "python",
   "name": "py3.8.6_paddle"
  },
  "language_info": {
   "codemirror_mode": {
    "name": "ipython",
    "version": 3
   },
   "file_extension": ".py",
   "mimetype": "text/x-python",
   "name": "python",
   "nbconvert_exporter": "python",
   "pygments_lexer": "ipython3",
   "version": "3.8.6"
  }
 },
 "nbformat": 4,
 "nbformat_minor": 4
}
