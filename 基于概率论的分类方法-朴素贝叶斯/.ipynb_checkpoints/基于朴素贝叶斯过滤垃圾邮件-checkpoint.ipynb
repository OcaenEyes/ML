{
 "cells": [
  {
   "cell_type": "markdown",
   "id": "amino-snowboard",
   "metadata": {},
   "source": [
    "## **基于朴素贝叶斯过滤垃圾邮件**\n",
    "- 收集数据：提供文本文件\n",
    "- 准备数据：将文本文件解析成词条向量\n",
    "- 分析数据：检查词条确保解析的正确性\n",
    "- 训练算法：使用trainNB1()函数\n",
    "- 测试算法：使用classifyNB() 并且构建一个新的测试函数来计算文档集的错误率\n",
    "- 使用算法：构建完整程序 对一组文档进行分类，并将错分的文档输出到屏幕"
   ]
  },
  {
   "cell_type": "markdown",
   "id": "collective-trigger",
   "metadata": {},
   "source": [
    "#### **准备数据：切分文本**"
   ]
  },
  {
   "cell_type": "code",
   "execution_count": 2,
   "id": "expensive-swedish",
   "metadata": {},
   "outputs": [],
   "source": [
    "mySent = 'this book is the best book on Python pr M.L I have ever laid eyes upon.'"
   ]
  },
  {
   "cell_type": "code",
   "execution_count": 3,
   "id": "proper-accounting",
   "metadata": {},
   "outputs": [
    {
     "data": {
      "text/plain": [
       "['this',\n",
       " 'book',\n",
       " 'is',\n",
       " 'the',\n",
       " 'best',\n",
       " 'book',\n",
       " 'on',\n",
       " 'Python',\n",
       " 'pr',\n",
       " 'M.L',\n",
       " 'I',\n",
       " 'have',\n",
       " 'ever',\n",
       " 'laid',\n",
       " 'eyes',\n",
       " 'upon.']"
      ]
     },
     "execution_count": 3,
     "metadata": {},
     "output_type": "execute_result"
    }
   ],
   "source": [
    "mySent.split()"
   ]
  },
  {
   "cell_type": "code",
   "execution_count": null,
   "id": "surprised-architecture",
   "metadata": {},
   "outputs": [],
   "source": []
  }
 ],
 "metadata": {
  "kernelspec": {
   "display_name": "Python 3",
   "language": "python",
   "name": "python3"
  },
  "language_info": {
   "codemirror_mode": {
    "name": "ipython",
    "version": 3
   },
   "file_extension": ".py",
   "mimetype": "text/x-python",
   "name": "python",
   "nbconvert_exporter": "python",
   "pygments_lexer": "ipython3",
   "version": "3.6.5"
  }
 },
 "nbformat": 4,
 "nbformat_minor": 5
}
