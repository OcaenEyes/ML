{
 "cells": [
  {
   "cell_type": "code",
   "execution_count": 1,
   "id": "3f104293-5c7f-48ab-8bff-9d6557309849",
   "metadata": {},
   "outputs": [],
   "source": [
    "import torch"
   ]
  },
  {
   "cell_type": "code",
   "execution_count": 2,
   "id": "298284e3-cbb1-4ebb-aa29-a24b61bfe9d0",
   "metadata": {},
   "outputs": [],
   "source": [
    "x_data=torch.Tensor([[1.0],[2.0],[3.0]])"
   ]
  },
  {
   "cell_type": "code",
   "execution_count": 3,
   "id": "6780db6d-bf5a-4083-8b1c-e9670060a5a6",
   "metadata": {},
   "outputs": [],
   "source": [
    "y_data=torch.Tensor([[2.0],[4.0],[6.0]])"
   ]
  },
  {
   "cell_type": "code",
   "execution_count": 4,
   "id": "e3683da7-e83d-4e57-b2cc-d9d25c110d74",
   "metadata": {},
   "outputs": [],
   "source": [
    "class LinearModel(torch.nn.Module):\n",
    "    def __init__(self):\n",
    "        super(LinearModel,self).__init__()\n",
    "        self.linear = torch.nn.Linear(1,1)\n",
    "        \n",
    "    def forward(self,x):\n",
    "        y_pred = self.linear(x)\n",
    "        return y_pred"
   ]
  },
  {
   "cell_type": "code",
   "execution_count": 5,
   "id": "1bd0adc4-e86b-4f6b-9be3-df1b18c2ef81",
   "metadata": {},
   "outputs": [],
   "source": [
    "model = LinearModel()"
   ]
  },
  {
   "cell_type": "code",
   "execution_count": 6,
   "id": "1e428b50-3530-42a6-bfb8-57e178aa946f",
   "metadata": {},
   "outputs": [
    {
     "data": {
      "text/plain": [
       "LinearModel(\n",
       "  (linear): Linear(in_features=1, out_features=1, bias=True)\n",
       ")"
      ]
     },
     "execution_count": 6,
     "metadata": {},
     "output_type": "execute_result"
    }
   ],
   "source": [
    "model"
   ]
  },
  {
   "cell_type": "code",
   "execution_count": 7,
   "id": "ee50c80d-bc57-47e6-80b4-d2251f4333a9",
   "metadata": {},
   "outputs": [
    {
     "data": {
      "text/plain": [
       "<generator object Module.parameters at 0x000001F97F697048>"
      ]
     },
     "execution_count": 7,
     "metadata": {},
     "output_type": "execute_result"
    }
   ],
   "source": [
    "model.parameters()"
   ]
  },
  {
   "cell_type": "code",
   "execution_count": 8,
   "id": "f8b6dcea-7887-4177-92ec-9e9cd9d7385b",
   "metadata": {},
   "outputs": [
    {
     "name": "stderr",
     "output_type": "stream",
     "text": [
      "C:\\Users\\Administrator\\Envs\\py3.6.5_torch1.10\\lib\\site-packages\\torch\\nn\\_reduction.py:42: UserWarning: size_average and reduce args will be deprecated, please use reduction='sum' instead.\n",
      "  warnings.warn(warning.format(ret))\n"
     ]
    }
   ],
   "source": [
    "criterion = torch.nn.MSELoss(size_average=False)"
   ]
  },
  {
   "cell_type": "code",
   "execution_count": 9,
   "id": "914d9b38-1934-4957-8e05-f4d139674e60",
   "metadata": {},
   "outputs": [],
   "source": [
    "optimizer = torch.optim.SGD(model.parameters(),lr=0.01)"
   ]
  },
  {
   "cell_type": "code",
   "execution_count": 10,
   "id": "3156d350-cb30-4718-bca5-a3669a5079b7",
   "metadata": {},
   "outputs": [
    {
     "data": {
      "text/plain": [
       "tensor([[1.],\n",
       "        [2.],\n",
       "        [3.]])"
      ]
     },
     "execution_count": 10,
     "metadata": {},
     "output_type": "execute_result"
    }
   ],
   "source": [
    "x_data"
   ]
  },
  {
   "cell_type": "code",
   "execution_count": 11,
   "id": "9c9e43de-f9e3-4cc5-b61e-5fc4f9153e1d",
   "metadata": {},
   "outputs": [
    {
     "data": {
      "text/plain": [
       "tensor([[2.],\n",
       "        [4.],\n",
       "        [6.]])"
      ]
     },
     "execution_count": 11,
     "metadata": {},
     "output_type": "execute_result"
    }
   ],
   "source": [
    "y_data"
   ]
  },
  {
   "cell_type": "code",
   "execution_count": 12,
   "id": "58f38f08-2a49-4fe6-85ec-fc03cecf1228",
   "metadata": {},
   "outputs": [
    {
     "name": "stdout",
     "output_type": "stream",
     "text": [
      "0 106.80548095703125\n",
      "1 47.605079650878906\n",
      "2 21.249906539916992\n",
      "3 9.516505241394043\n",
      "4 4.292313575744629\n",
      "5 1.9658492803573608\n",
      "6 0.9293834567070007\n",
      "7 0.46719890832901\n",
      "8 0.260678768157959\n",
      "9 0.16798478364944458\n",
      "10 0.12597310543060303\n",
      "11 0.10653543472290039\n",
      "12 0.09715721756219864\n",
      "13 0.09226737916469574\n",
      "14 0.08938620984554291\n",
      "15 0.08740928024053574\n",
      "16 0.08584484457969666\n",
      "17 0.08447398245334625\n",
      "18 0.08319877088069916\n",
      "19 0.08197592943906784\n",
      "20 0.08078577369451523\n",
      "21 0.07961929589509964\n",
      "22 0.07847267389297485\n",
      "23 0.0773438960313797\n",
      "24 0.07623177766799927\n",
      "25 0.07513603568077087\n",
      "26 0.07405611872673035\n",
      "27 0.0729917660355568\n",
      "28 0.07194282114505768\n",
      "29 0.07090876996517181\n",
      "30 0.06988978385925293\n",
      "31 0.06888535618782043\n",
      "32 0.06789535284042358\n",
      "33 0.06691956520080566\n",
      "34 0.06595789641141891\n",
      "35 0.06500982493162155\n",
      "36 0.06407563388347626\n",
      "37 0.0631546750664711\n",
      "38 0.062247127294540405\n",
      "39 0.061352573335170746\n",
      "40 0.06047078222036362\n",
      "41 0.05960174649953842\n",
      "42 0.0587451234459877\n",
      "43 0.05790082365274429\n",
      "44 0.05706881731748581\n",
      "45 0.05624855309724808\n",
      "46 0.05544029548764229\n",
      "47 0.054643429815769196\n",
      "48 0.05385811999440193\n",
      "49 0.05308416485786438\n",
      "50 0.05232120677828789\n",
      "51 0.05156928300857544\n",
      "52 0.05082821100950241\n",
      "53 0.050097718834877014\n",
      "54 0.04937766492366791\n",
      "55 0.048668164759874344\n",
      "56 0.04796866327524185\n",
      "57 0.04727926105260849\n",
      "58 0.04659977927803993\n",
      "59 0.04593004286289215\n",
      "60 0.045269925147295\n",
      "61 0.04461941123008728\n",
      "62 0.043978143483400345\n",
      "63 0.04334606975317001\n",
      "64 0.042723048478364944\n",
      "65 0.04210902750492096\n",
      "66 0.04150402545928955\n",
      "67 0.04090754687786102\n",
      "68 0.040319547057151794\n",
      "69 0.03974016010761261\n",
      "70 0.039169006049633026\n",
      "71 0.03860606253147125\n",
      "72 0.03805119916796684\n",
      "73 0.037504371255636215\n",
      "74 0.03696533665060997\n",
      "75 0.0364341214299202\n",
      "76 0.0359104759991169\n",
      "77 0.03539441525936127\n",
      "78 0.034885771572589874\n",
      "79 0.03438436612486839\n",
      "80 0.033890251070261\n",
      "81 0.0334031768143177\n",
      "82 0.0329231396317482\n",
      "83 0.03244992345571518\n",
      "84 0.03198355808854103\n",
      "85 0.03152398020029068\n",
      "86 0.03107098489999771\n",
      "87 0.030624330043792725\n",
      "88 0.03018423356115818\n",
      "89 0.02975047193467617\n",
      "90 0.029322892427444458\n",
      "91 0.02890149876475334\n",
      "92 0.02848612144589424\n",
      "93 0.028076786547899246\n",
      "94 0.02767321467399597\n",
      "95 0.02727552317082882\n",
      "96 0.026883551850914955\n",
      "97 0.026497190818190575\n",
      "98 0.02611635811626911\n",
      "99 0.02574099972844124\n"
     ]
    }
   ],
   "source": [
    "for epoch in range(100):\n",
    "    y_pred = model(x_data)\n",
    "    loss = criterion(y_pred,y_data)\n",
    "    print(epoch,loss.item())\n",
    "    \n",
    "    optimizer.zero_grad()\n",
    "    loss.backward()\n",
    "    optimizer.step()"
   ]
  },
  {
   "cell_type": "code",
   "execution_count": 13,
   "id": "26b85089-2ae0-4df3-9ee8-4afed0f921dc",
   "metadata": {},
   "outputs": [
    {
     "name": "stdout",
     "output_type": "stream",
     "text": [
      "w =  1.8931918144226074\n"
     ]
    }
   ],
   "source": [
    "print(\"w = \",model.linear.weight.item())"
   ]
  },
  {
   "cell_type": "code",
   "execution_count": 14,
   "id": "7927d8d8-10a1-4f5a-a16a-4ef2dd64d808",
   "metadata": {},
   "outputs": [
    {
     "name": "stdout",
     "output_type": "stream",
     "text": [
      "b= 0.2428002953529358\n"
     ]
    }
   ],
   "source": [
    "print(\"b=\",model.linear.bias.item())"
   ]
  },
  {
   "cell_type": "code",
   "execution_count": 15,
   "id": "095107d9-ace7-4843-90a3-47e4ab77b26b",
   "metadata": {},
   "outputs": [],
   "source": [
    "# test model\n",
    "x_test = torch.Tensor([[4.0]])\n",
    "y_test = model(x_test)"
   ]
  },
  {
   "cell_type": "code",
   "execution_count": 16,
   "id": "02846e07-5152-4f17-8531-e79cea7b65b2",
   "metadata": {},
   "outputs": [
    {
     "name": "stdout",
     "output_type": "stream",
     "text": [
      "y_test_pred= 7.815567493438721\n"
     ]
    }
   ],
   "source": [
    "print(\"y_test_pred=\",y_test.item())"
   ]
  },
  {
   "cell_type": "code",
   "execution_count": null,
   "id": "bb7134c2-d82d-4e1a-9139-a12a3bc2cd52",
   "metadata": {},
   "outputs": [],
   "source": []
  }
 ],
 "metadata": {
  "kernelspec": {
   "display_name": "py3.6.5_torch1.10",
   "language": "python",
   "name": "py3.6.5_torch1.10"
  },
  "language_info": {
   "codemirror_mode": {
    "name": "ipython",
    "version": 3
   },
   "file_extension": ".py",
   "mimetype": "text/x-python",
   "name": "python",
   "nbconvert_exporter": "python",
   "pygments_lexer": "ipython3",
   "version": "3.6.5"
  }
 },
 "nbformat": 4,
 "nbformat_minor": 5
}
