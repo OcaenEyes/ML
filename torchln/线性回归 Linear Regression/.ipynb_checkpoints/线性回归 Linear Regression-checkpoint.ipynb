{
 "cells": [
  {
   "cell_type": "code",
   "execution_count": 1,
   "id": "3f104293-5c7f-48ab-8bff-9d6557309849",
   "metadata": {},
   "outputs": [],
   "source": [
    "import torch"
   ]
  },
  {
   "cell_type": "code",
   "execution_count": 8,
   "id": "298284e3-cbb1-4ebb-aa29-a24b61bfe9d0",
   "metadata": {},
   "outputs": [],
   "source": [
    "x_data=torch.Tensor([[1.0],[2.0],[3.0]])"
   ]
  },
  {
   "cell_type": "code",
   "execution_count": 9,
   "id": "6780db6d-bf5a-4083-8b1c-e9670060a5a6",
   "metadata": {},
   "outputs": [],
   "source": [
    "y_data=torch.Tensor([[2.0],[4.0],[6.0]])"
   ]
  },
  {
   "cell_type": "code",
   "execution_count": 2,
   "id": "e3683da7-e83d-4e57-b2cc-d9d25c110d74",
   "metadata": {},
   "outputs": [],
   "source": [
    "class LinearModel(torch.nn.Module):\n",
    "    def __init__(self):\n",
    "        super(LinearModel,self).__init__()\n",
    "        self.linear = torch.nn.Linear(1,1)\n",
    "        \n",
    "    def forward(self,x):\n",
    "        y_pred = self.linear(x)\n",
    "        return y_pred"
   ]
  },
  {
   "cell_type": "code",
   "execution_count": 3,
   "id": "1bd0adc4-e86b-4f6b-9be3-df1b18c2ef81",
   "metadata": {},
   "outputs": [],
   "source": [
    "model = LinearModel()"
   ]
  },
  {
   "cell_type": "code",
   "execution_count": 4,
   "id": "1e428b50-3530-42a6-bfb8-57e178aa946f",
   "metadata": {},
   "outputs": [
    {
     "data": {
      "text/plain": [
       "LinearModel(\n",
       "  (linear): Linear(in_features=1, out_features=1, bias=True)\n",
       ")"
      ]
     },
     "execution_count": 4,
     "metadata": {},
     "output_type": "execute_result"
    }
   ],
   "source": [
    "model"
   ]
  },
  {
   "cell_type": "code",
   "execution_count": 5,
   "id": "ee50c80d-bc57-47e6-80b4-d2251f4333a9",
   "metadata": {},
   "outputs": [
    {
     "data": {
      "text/plain": [
       "<generator object Module.parameters at 0x0000023B54363BA0>"
      ]
     },
     "execution_count": 5,
     "metadata": {},
     "output_type": "execute_result"
    }
   ],
   "source": [
    "model.parameters()"
   ]
  },
  {
   "cell_type": "code",
   "execution_count": 6,
   "id": "f8b6dcea-7887-4177-92ec-9e9cd9d7385b",
   "metadata": {},
   "outputs": [
    {
     "name": "stderr",
     "output_type": "stream",
     "text": [
      "C:\\Users\\Administrator\\Envs\\py3.6.5_torch1.10\\lib\\site-packages\\torch\\nn\\_reduction.py:42: UserWarning: size_average and reduce args will be deprecated, please use reduction='sum' instead.\n",
      "  warnings.warn(warning.format(ret))\n"
     ]
    }
   ],
   "source": [
    "criterion = torch.nn.MSELoss(size_average=False)"
   ]
  },
  {
   "cell_type": "code",
   "execution_count": 7,
   "id": "914d9b38-1934-4957-8e05-f4d139674e60",
   "metadata": {},
   "outputs": [],
   "source": [
    "optimizer = torch.optim.SGD(model.parameters(),lr=0.01)"
   ]
  },
  {
   "cell_type": "code",
   "execution_count": 10,
   "id": "3156d350-cb30-4718-bca5-a3669a5079b7",
   "metadata": {},
   "outputs": [
    {
     "data": {
      "text/plain": [
       "tensor([[1.],\n",
       "        [2.],\n",
       "        [3.]])"
      ]
     },
     "execution_count": 10,
     "metadata": {},
     "output_type": "execute_result"
    }
   ],
   "source": [
    "x_data"
   ]
  },
  {
   "cell_type": "code",
   "execution_count": 11,
   "id": "9c9e43de-f9e3-4cc5-b61e-5fc4f9153e1d",
   "metadata": {},
   "outputs": [
    {
     "data": {
      "text/plain": [
       "tensor([[2.],\n",
       "        [4.],\n",
       "        [6.]])"
      ]
     },
     "execution_count": 11,
     "metadata": {},
     "output_type": "execute_result"
    }
   ],
   "source": [
    "y_data"
   ]
  },
  {
   "cell_type": "code",
   "execution_count": 13,
   "id": "58f38f08-2a49-4fe6-85ec-fc03cecf1228",
   "metadata": {},
   "outputs": [
    {
     "name": "stdout",
     "output_type": "stream",
     "text": [
      "0 0.00135782640427351\n",
      "1 0.0013383155455812812\n",
      "2 0.0013190852478146553\n",
      "3 0.0013001260813325644\n",
      "4 0.001281439675949514\n",
      "5 0.0012630145065486431\n",
      "6 0.0012448723427951336\n",
      "7 0.001226983848027885\n",
      "8 0.0012093482073396444\n",
      "9 0.0011919604148715734\n",
      "10 0.0011748282704502344\n",
      "11 0.0011579585261642933\n",
      "12 0.0011413111351430416\n",
      "13 0.001124899135902524\n",
      "14 0.001108737662434578\n",
      "15 0.0010927951661869884\n",
      "16 0.0010770938824862242\n",
      "17 0.001061619957908988\n",
      "18 0.0010463596554473042\n",
      "19 0.001031331135891378\n",
      "20 0.0010165150742977858\n",
      "21 0.0010018945904448628\n",
      "22 0.0009875042596831918\n",
      "23 0.0009733014740049839\n",
      "24 0.0009593096328899264\n",
      "25 0.0009455245453864336\n",
      "26 0.0009319350938312709\n",
      "27 0.0009185585076920688\n",
      "28 0.000905345194041729\n",
      "29 0.0008923317072913051\n",
      "30 0.0008795022149570286\n",
      "31 0.000866869930177927\n",
      "32 0.0008544140728190541\n",
      "33 0.0008421394159086049\n",
      "34 0.0008300307090394199\n",
      "35 0.0008181177545338869\n",
      "36 0.0008063552668318152\n",
      "37 0.0007947615813463926\n",
      "38 0.00078334950376302\n",
      "39 0.0007720828871242702\n",
      "40 0.0007609797175973654\n",
      "41 0.0007500493666157126\n",
      "42 0.0007392754778265953\n",
      "43 0.000728631392121315\n",
      "44 0.0007181595428846776\n",
      "45 0.0007078470080159605\n",
      "46 0.0006976750446483493\n",
      "47 0.000687648425810039\n",
      "48 0.0006777700036764145\n",
      "49 0.0006680322112515569\n",
      "50 0.0006584335351362824\n",
      "51 0.0006489576189778745\n",
      "52 0.0006396371754817665\n",
      "53 0.0006304512498900294\n",
      "54 0.0006213941378518939\n",
      "55 0.0006124471547082067\n",
      "56 0.0006036536069586873\n",
      "57 0.0005949633778072894\n",
      "58 0.0005864304839633405\n",
      "59 0.0005779871135018766\n",
      "60 0.0005696841981261969\n",
      "61 0.0005615073605440557\n",
      "62 0.0005534362280741334\n",
      "63 0.0005454709753394127\n",
      "64 0.0005376444314606488\n",
      "65 0.0005299051990732551\n",
      "66 0.0005223044427111745\n",
      "67 0.0005148021737113595\n",
      "68 0.0005073960637673736\n",
      "69 0.0005001021199859679\n",
      "70 0.0004929190617986023\n",
      "71 0.0004858328029513359\n",
      "72 0.0004788577207364142\n",
      "73 0.0004719721619039774\n",
      "74 0.000465179153252393\n",
      "75 0.0004584951384458691\n",
      "76 0.00045191257959231734\n",
      "77 0.0004454169829841703\n",
      "78 0.0004390109679661691\n",
      "79 0.0004327070200815797\n",
      "80 0.0004264822928234935\n",
      "81 0.0004203491553198546\n",
      "82 0.00041431369027122855\n",
      "83 0.00040834888932295144\n",
      "84 0.00040249619632959366\n",
      "85 0.0003967100055888295\n",
      "86 0.00039100254070945084\n",
      "87 0.00038538663648068905\n",
      "88 0.0003798453835770488\n",
      "89 0.00037438696017488837\n",
      "90 0.00036899931728839874\n",
      "91 0.0003637028858065605\n",
      "92 0.0003584755177143961\n",
      "93 0.00035332972765900195\n",
      "94 0.00034824066096916795\n",
      "95 0.00034323378349654377\n",
      "96 0.0003383080183994025\n",
      "97 0.00033345079282298684\n",
      "98 0.0003286582068540156\n",
      "99 0.00032392863067798316\n"
     ]
    }
   ],
   "source": [
    "for epoch in range(100):\n",
    "    y_pred = model(x_data)\n",
    "    loss = criterion(y_pred,y_data)\n",
    "    print(epoch,loss.item())\n",
    "    \n",
    "    optimizer.zero_grad()\n",
    "    loss.backward()\n",
    "    optimizer.step()"
   ]
  },
  {
   "cell_type": "code",
   "execution_count": 14,
   "id": "26b85089-2ae0-4df3-9ee8-4afed0f921dc",
   "metadata": {},
   "outputs": [
    {
     "name": "stdout",
     "output_type": "stream",
     "text": [
      "w =  1.988018274307251\n"
     ]
    }
   ],
   "source": [
    "print(\"w = \",model.linear.weight.item())"
   ]
  },
  {
   "cell_type": "code",
   "execution_count": 15,
   "id": "7927d8d8-10a1-4f5a-a16a-4ef2dd64d808",
   "metadata": {},
   "outputs": [
    {
     "name": "stdout",
     "output_type": "stream",
     "text": [
      "b= 0.027237242087721825\n"
     ]
    }
   ],
   "source": [
    "print(\"b=\",model.linear.bias.item())"
   ]
  },
  {
   "cell_type": "code",
   "execution_count": 16,
   "id": "095107d9-ace7-4843-90a3-47e4ab77b26b",
   "metadata": {},
   "outputs": [],
   "source": [
    "# test model\n",
    "x_test = torch.Tensor([[4.0]])\n",
    "y_test = model(x_test)"
   ]
  },
  {
   "cell_type": "code",
   "execution_count": 17,
   "id": "02846e07-5152-4f17-8531-e79cea7b65b2",
   "metadata": {},
   "outputs": [
    {
     "name": "stdout",
     "output_type": "stream",
     "text": [
      "y_test_pred= 7.979310512542725\n"
     ]
    }
   ],
   "source": [
    "print(\"y_test_pred=\",y_test.item())"
   ]
  },
  {
   "cell_type": "code",
   "execution_count": null,
   "id": "bb7134c2-d82d-4e1a-9139-a12a3bc2cd52",
   "metadata": {},
   "outputs": [],
   "source": []
  }
 ],
 "metadata": {
  "kernelspec": {
   "display_name": "py3.6.5_torch1.10",
   "language": "python",
   "name": "py3.6.5_torch1.10"
  },
  "language_info": {
   "codemirror_mode": {
    "name": "ipython",
    "version": 3
   },
   "file_extension": ".py",
   "mimetype": "text/x-python",
   "name": "python",
   "nbconvert_exporter": "python",
   "pygments_lexer": "ipython3",
   "version": "3.6.5"
  }
 },
 "nbformat": 4,
 "nbformat_minor": 5
}
