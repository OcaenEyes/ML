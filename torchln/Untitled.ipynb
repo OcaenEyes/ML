{
 "cells": [
  {
   "cell_type": "code",
   "execution_count": 1,
   "id": "22586348-dd64-4d33-be2a-7bf871e113b3",
   "metadata": {},
   "outputs": [],
   "source": [
    "import torch"
   ]
  },
  {
   "cell_type": "code",
   "execution_count": 2,
   "id": "ba537479-3538-420d-b6e2-24628bf94663",
   "metadata": {},
   "outputs": [
    {
     "data": {
      "text/plain": [
       "'1.10.0+cu113'"
      ]
     },
     "execution_count": 2,
     "metadata": {},
     "output_type": "execute_result"
    }
   ],
   "source": [
    "torch.__version__"
   ]
  },
  {
   "cell_type": "code",
   "execution_count": 5,
   "id": "dfac8c79-7082-473d-9b2d-2d5292f62f5d",
   "metadata": {},
   "outputs": [
    {
     "data": {
      "text/plain": [
       "True"
      ]
     },
     "execution_count": 5,
     "metadata": {},
     "output_type": "execute_result"
    }
   ],
   "source": [
    "torch.cuda.is_available()"
   ]
  },
  {
   "cell_type": "code",
   "execution_count": 1,
   "id": "59abc2f6-5f1e-418b-9dc9-6b2e5d7067b6",
   "metadata": {},
   "outputs": [],
   "source": [
    "tmp={}"
   ]
  },
  {
   "cell_type": "code",
   "execution_count": 2,
   "id": "6bb2934d-4910-4c0a-80f3-590ba751acd1",
   "metadata": {},
   "outputs": [],
   "source": [
    "a=[\n",
    "    \"欲出未出光辣達，千山萬山如火發。須臾走向天上來，逐却殘星趕却月。\",\n",
    "    \"未離海底千山黑，纔到天中萬國明。\",\n",
    "    \"滿目江山四望幽，白雲高卷嶂烟收。日回禽影穿疏木，風遞猿聲入小樓。遠岫似屏橫碧落，斷帆如葉截中流。\",\n",
    "    \"片片飛來靜又閑，樓頭江上復山前。飄零盡日不歸去，帖破清光萬里天。\",\n",
    "    \"因登巨石知來處，勃勃元生綠蘚痕。靜即等閑藏草木，動時頃刻徧乾坤。橫天未必朋元惡，捧日還曾瑞至尊。不獨朝朝在巫峽，楚王何事謾勞魂。\",\n",
    "    \"若教作鎮居中國，爭得泥金在泰山。\",\n",
    "    \"纔聞暖律先偷眼，既待和風始展眉。\",\n",
    "    \"嚼處春冰敲齒冷，嚥時雪液沃心寒。\",\n",
    "    \"蒙君知重惠瓊實，薄起金刀釘玉深。\",\n",
    "    \"深妝玉瓦平無壠，亂拂蘆花細有聲。\",\n",
    "    \"一氣東南王斗牛，祖龍潜爲子孫憂。金陵地脈何曾斷，不覺真人已姓劉。\",\n",
    "    \"五城樓雉各相望，山水英靈宅帝王。此地定由天造險，古來長恃作金湯。\",\n",
    "    \"孫吳紀德舊刊碑，草沒蟠螭與伏龜。惆悵岡頭三段石，至今猶似鼎分時。\"\n",
    "]"
   ]
  },
  {
   "cell_type": "code",
   "execution_count": 10,
   "id": "612f377f-ce6e-403f-b47d-19a909fcb961",
   "metadata": {},
   "outputs": [
    {
     "name": "stdout",
     "output_type": "stream",
     "text": [
      "0\n",
      "1\n",
      "2\n",
      "3\n",
      "4\n",
      "5\n",
      "6\n",
      "7\n",
      "8\n",
      "9\n",
      "10\n",
      "11\n",
      "12\n"
     ]
    }
   ],
   "source": [
    "for index,i in enumerate(a):\n",
    "    print(\"%s\"%index)"
   ]
  },
  {
   "cell_type": "code",
   "execution_count": 1,
   "id": "3b3930ce-0e41-4cc1-8a41-6d7695d7840a",
   "metadata": {},
   "outputs": [],
   "source": [
    "import numpy as np"
   ]
  },
  {
   "cell_type": "code",
   "execution_count": 2,
   "id": "7c8ed06e-6eca-4329-b634-41c92809df37",
   "metadata": {},
   "outputs": [],
   "source": [
    "a= [0,1,23,45,67,88,9]"
   ]
  },
  {
   "cell_type": "code",
   "execution_count": 3,
   "id": "1298bff1-d9ed-4457-b3dd-d047b218b5e5",
   "metadata": {},
   "outputs": [],
   "source": [
    "b = [11,22,44,3,12,455]"
   ]
  },
  {
   "cell_type": "code",
   "execution_count": 4,
   "id": "22c3002d-2aa9-41c6-a31a-19d755b463f0",
   "metadata": {},
   "outputs": [
    {
     "ename": "TypeError",
     "evalue": "'list' object cannot be interpreted as an integer",
     "output_type": "error",
     "traceback": [
      "\u001b[0;31m---------------------------------------------------------------------------\u001b[0m",
      "\u001b[0;31mTypeError\u001b[0m                                 Traceback (most recent call last)",
      "\u001b[0;32m<ipython-input-4-c8d59b222c69>\u001b[0m in \u001b[0;36m<module>\u001b[0;34m\u001b[0m\n\u001b[0;32m----> 1\u001b[0;31m \u001b[0mnp\u001b[0m\u001b[0;34m.\u001b[0m\u001b[0mconcatenate\u001b[0m\u001b[0;34m(\u001b[0m\u001b[0ma\u001b[0m\u001b[0;34m,\u001b[0m\u001b[0mb\u001b[0m\u001b[0;34m)\u001b[0m\u001b[0;34m\u001b[0m\u001b[0m\n\u001b[0m",
      "\u001b[0;32m<__array_function__ internals>\u001b[0m in \u001b[0;36mconcatenate\u001b[0;34m(*args, **kwargs)\u001b[0m\n",
      "\u001b[0;31mTypeError\u001b[0m: 'list' object cannot be interpreted as an integer"
     ]
    }
   ],
   "source": [
    "np.concatenate(a,b)"
   ]
  },
  {
   "cell_type": "code",
   "execution_count": null,
   "id": "e5e7ac6e-ef3b-43d3-b4b2-9eb70141d32a",
   "metadata": {},
   "outputs": [],
   "source": []
  }
 ],
 "metadata": {
  "kernelspec": {
   "display_name": "py3.6_tf2.6",
   "language": "python",
   "name": "py3.6_tf2.6"
  },
  "language_info": {
   "codemirror_mode": {
    "name": "ipython",
    "version": 3
   },
   "file_extension": ".py",
   "mimetype": "text/x-python",
   "name": "python",
   "nbconvert_exporter": "python",
   "pygments_lexer": "ipython3",
   "version": "3.6.5"
  }
 },
 "nbformat": 4,
 "nbformat_minor": 5
}
