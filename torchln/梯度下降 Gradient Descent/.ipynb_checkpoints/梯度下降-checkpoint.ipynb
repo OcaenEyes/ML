{
 "cells": [
  {
   "cell_type": "code",
   "execution_count": 1,
   "id": "7e6a367c-f125-43d0-9f08-73377070976c",
   "metadata": {},
   "outputs": [
    {
     "name": "stderr",
     "output_type": "stream",
     "text": [
      "d:\\programs\\python\\python36\\lib\\importlib\\_bootstrap.py:219: RuntimeWarning:\n",
      "\n",
      "numpy.ufunc size changed, may indicate binary incompatibility. Expected 192 from C header, got 216 from PyObject\n",
      "\n"
     ]
    }
   ],
   "source": [
    "import numpy as np\n",
    "import plotly\n",
    "import plotly.express as px\n",
    "import plotly.graph_objs as plotObj"
   ]
  },
  {
   "cell_type": "code",
   "execution_count": 2,
   "id": "27602056-9646-4739-b1dc-3c0503852f78",
   "metadata": {},
   "outputs": [],
   "source": [
    "x_data = [1.0,2.0,3.0]\n",
    "y_data = [2.0,4.0,6.0]"
   ]
  },
  {
   "cell_type": "code",
   "execution_count": 9,
   "id": "1d3fa61c-7c8d-4431-85d9-355c1abe5bdc",
   "metadata": {},
   "outputs": [],
   "source": [
    "w=1.0"
   ]
  },
  {
   "cell_type": "code",
   "execution_count": 10,
   "id": "d391132c-4d11-4204-a87d-9fe97d2b0034",
   "metadata": {},
   "outputs": [],
   "source": [
    "def forward(x):\n",
    "    return x*w"
   ]
  },
  {
   "cell_type": "code",
   "execution_count": 11,
   "id": "de51b525-c0bf-4360-a7fe-9cea687d5e50",
   "metadata": {},
   "outputs": [],
   "source": [
    "def cost(x_val,y_val): #成本函数\n",
    "    cost = 0\n",
    "    for x,y in zip(x_val,y_val):\n",
    "        y_pred = forward(x)\n",
    "        loss = (y_pred-y) ** 2\n",
    "        cost += loss\n",
    "    return cost / len(x_val)"
   ]
  },
  {
   "cell_type": "code",
   "execution_count": 12,
   "id": "3373ef87-643c-48be-b812-feead49145c6",
   "metadata": {},
   "outputs": [],
   "source": [
    "def gradient(x_val,y_val):\n",
    "    grad = 0\n",
    "    for x,y in zip(x_val,y_val):\n",
    "        grad += 2 * x * (forward(x) - y)\n",
    "    return grad / len(x_val)"
   ]
  },
  {
   "cell_type": "code",
   "execution_count": 13,
   "id": "56d42fb2-930b-4858-a94a-181868e5e72c",
   "metadata": {},
   "outputs": [
    {
     "name": "stdout",
     "output_type": "stream",
     "text": [
      "Predict before training 4 4.0\n"
     ]
    }
   ],
   "source": [
    "print(\"Predict before training\",4,forward(4))"
   ]
  },
  {
   "cell_type": "code",
   "execution_count": 21,
   "id": "ef288d9e-8390-4891-8dd4-df8bd97fbf95",
   "metadata": {},
   "outputs": [
    {
     "name": "stdout",
     "output_type": "stream",
     "text": [
      "epoch: 0 w= 1.9999999972011635 loss= 4.44699398222102e-17\n",
      "epoch: 1 w= 1.9999999974623883 loss= 3.6556265500679413e-17\n",
      "epoch: 2 w= 1.999999997699232 loss= 3.0050872966054246e-17\n",
      "epoch: 3 w= 1.9999999979139704 loss= 2.4703158303887335e-17\n",
      "epoch: 4 w= 1.9999999981086665 loss= 2.0307092257051805e-17\n",
      "epoch: 5 w= 1.999999998285191 loss= 1.669333268256768e-17\n",
      "epoch: 6 w= 1.99999999844524 loss= 1.3722659708836455e-17\n",
      "epoch: 7 w= 1.999999998590351 loss= 1.1280635854439595e-17\n",
      "epoch: 8 w= 1.9999999987219181 loss= 9.273181632846905e-18\n",
      "epoch: 9 w= 1.9999999988412058 loss= 7.62296905553995e-18\n",
      "epoch: 10 w= 1.99999999894936 loss= 6.266418865967686e-18\n",
      "epoch: 11 w= 1.9999999990474198 loss= 5.151273168829075e-18\n",
      "epoch: 12 w= 1.9999999991363273 loss= 4.2345758361966715e-18\n",
      "epoch: 13 w= 1.9999999992169368 loss= 3.4810090634203134e-18\n",
      "epoch: 14 w= 1.9999999992900228 loss= 2.8615433162267656e-18\n",
      "epoch: 15 w= 1.9999999993562874 loss= 2.3523158178713203e-18\n",
      "epoch: 16 w= 1.9999999994163673 loss= 1.933707819326033e-18\n",
      "epoch: 17 w= 1.9999999994708397 loss= 1.5895932539896047e-18\n",
      "epoch: 18 w= 1.999999999520228 loss= 1.3067156286736417e-18\n",
      "epoch: 19 w= 1.9999999995650066 loss= 1.0741790152332025e-18\n",
      "epoch: 20 w= 1.999999999605606 loss= 8.830231012997337e-19\n",
      "epoch: 21 w= 1.999999999642416 loss= 7.258847041312245e-19\n",
      "epoch: 22 w= 1.9999999996757905 loss= 5.967091954420124e-19\n",
      "epoch: 23 w= 1.99999999970605 loss= 4.905215904049574e-19\n",
      "epoch: 24 w= 1.9999999997334854 loss= 4.0323087491254164e-19\n",
      "epoch: 25 w= 1.9999999997583602 loss= 3.3147333496097863e-19\n",
      "epoch: 26 w= 1.9999999997809133 loss= 2.7248585116375776e-19\n",
      "epoch: 27 w= 1.9999999998013613 loss= 2.239952522545633e-19\n",
      "epoch: 28 w= 1.999999999819901 loss= 1.8413423735760678e-19\n",
      "epoch: 29 w= 1.9999999998367102 loss= 1.5136628442348685e-19\n",
      "epoch: 30 w= 1.9999999998519506 loss= 1.2442998077724893e-19\n",
      "epoch: 31 w= 1.9999999998657685 loss= 1.02286781854237e-19\n",
      "epoch: 32 w= 1.9999999998782967 loss= 8.408452424015493e-20\n",
      "epoch: 33 w= 1.9999999998896556 loss= 6.912119703883337e-20\n",
      "epoch: 34 w= 1.9999999998999545 loss= 5.682075547576174e-20\n",
      "epoch: 35 w= 1.9999999999092921 loss= 4.670921302547964e-20\n",
      "epoch: 36 w= 1.9999999999177582 loss= 3.8396962420010173e-20\n",
      "epoch: 37 w= 1.999999999925434 loss= 3.1563973280541844e-20\n",
      "epoch: 38 w= 1.9999999999323936 loss= 2.5946982551434627e-20\n",
      "epoch: 39 w= 1.9999999999387035 loss= 2.1329562715308646e-20\n",
      "epoch: 40 w= 1.9999999999444245 loss= 1.753387043041336e-20\n",
      "epoch: 41 w= 1.9999999999496114 loss= 1.4413707871706683e-20\n",
      "epoch: 42 w= 1.9999999999543143 loss= 1.1848754427320719e-20\n",
      "epoch: 43 w= 1.9999999999585782 loss= 9.74013800768683e-21\n",
      "epoch: 44 w= 1.9999999999624443 loss= 8.00686991282148e-21\n",
      "epoch: 45 w= 1.9999999999659495 loss= 6.582022201673281e-21\n",
      "epoch: 46 w= 1.9999999999691276 loss= 5.410686422989996e-21\n",
      "epoch: 47 w= 1.999999999972009 loss= 4.447841958913893e-21\n",
      "epoch: 48 w= 1.9999999999746216 loss= 3.65630012652187e-21\n",
      "epoch: 49 w= 1.9999999999769902 loss= 3.0055976279247355e-21\n",
      "epoch: 50 w= 1.9999999999791378 loss= 2.4707641248886712e-21\n",
      "epoch: 51 w= 1.999999999981085 loss= 2.0310707165475644e-21\n",
      "epoch: 52 w= 1.9999999999828504 loss= 1.6696600414727327e-21\n",
      "epoch: 53 w= 1.999999999984451 loss= 1.372502435574588e-21\n",
      "epoch: 54 w= 1.9999999999859024 loss= 1.128265183502323e-21\n",
      "epoch: 55 w= 1.9999999999872182 loss= 9.274782826895062e-22\n",
      "epoch: 56 w= 1.9999999999884113 loss= 7.624110128027355e-22\n",
      "epoch: 57 w= 1.9999999999894928 loss= 6.267219450121327e-22\n",
      "epoch: 58 w= 1.9999999999904736 loss= 5.152010077138626e-22\n",
      "epoch: 59 w= 1.9999999999913627 loss= 4.235046823424192e-22\n",
      "epoch: 60 w= 1.999999999992169 loss= 3.4814432530386782e-22\n",
      "epoch: 61 w= 1.9999999999929 loss= 2.861863370984748e-22\n",
      "epoch: 62 w= 1.9999999999935625 loss= 2.3525317986910194e-22\n",
      "epoch: 63 w= 1.9999999999941633 loss= 1.93394261759401e-22\n",
      "epoch: 64 w= 1.999999999994708 loss= 1.5897252685168227e-22\n",
      "epoch: 65 w= 1.9999999999952018 loss= 1.3069304223708962e-22\n",
      "epoch: 66 w= 1.9999999999956497 loss= 1.0743979827431346e-22\n",
      "epoch: 67 w= 1.9999999999960558 loss= 8.831709514160299e-23\n",
      "epoch: 68 w= 1.999999999996424 loss= 7.259544724253269e-23\n",
      "epoch: 69 w= 1.9999999999967577 loss= 5.967882271651158e-23\n",
      "epoch: 70 w= 1.9999999999970604 loss= 4.906111489932858e-23\n",
      "epoch: 71 w= 1.9999999999973348 loss= 4.0325850641832845e-23\n",
      "epoch: 72 w= 1.9999999999975835 loss= 3.3147542598305946e-23\n",
      "epoch: 73 w= 1.999999999997809 loss= 2.725005528438257e-23\n",
      "epoch: 74 w= 1.9999999999980136 loss= 2.23995155019223e-23\n",
      "epoch: 75 w= 1.999999999998199 loss= 1.8415632098569072e-23\n",
      "epoch: 76 w= 1.999999999998367 loss= 1.5136068593384884e-23\n",
      "epoch: 77 w= 1.9999999999985194 loss= 1.2444719189309538e-23\n",
      "epoch: 78 w= 1.9999999999986575 loss= 1.0230065496227323e-23\n",
      "epoch: 79 w= 1.9999999999987828 loss= 8.409340671696713e-24\n",
      "epoch: 80 w= 1.9999999999988964 loss= 6.915653058044263e-24\n",
      "epoch: 81 w= 1.9999999999989995 loss= 5.684272739430472e-24\n",
      "epoch: 82 w= 1.999999999999093 loss= 4.672531281306477e-24\n",
      "epoch: 83 w= 1.9999999999991775 loss= 3.8398734924462845e-24\n",
      "epoch: 84 w= 1.9999999999992544 loss= 3.1566700366380307e-24\n",
      "epoch: 85 w= 1.9999999999993239 loss= 2.5938075913094798e-24\n",
      "epoch: 86 w= 1.999999999999387 loss= 2.133648870080109e-24\n",
      "epoch: 87 w= 1.9999999999994442 loss= 1.754233727416397e-24\n",
      "epoch: 88 w= 1.9999999999994962 loss= 1.4412342306082354e-24\n",
      "epoch: 89 w= 1.9999999999995433 loss= 1.1847814667776736e-24\n",
      "epoch: 90 w= 1.9999999999995859 loss= 9.737473695652116e-25\n",
      "epoch: 91 w= 1.9999999999996245 loss= 8.00469338567985e-25\n",
      "epoch: 92 w= 1.9999999999996596 loss= 6.5775532891309395e-25\n",
      "epoch: 93 w= 1.9999999999996914 loss= 5.408700715401317e-25\n",
      "epoch: 94 w= 1.9999999999997202 loss= 4.442720651089536e-25\n",
      "epoch: 95 w= 1.9999999999997464 loss= 3.652820421625895e-25\n",
      "epoch: 96 w= 1.9999999999997702 loss= 2.998426774156594e-25\n",
      "epoch: 97 w= 1.9999999999997917 loss= 2.463701518203079e-25\n",
      "epoch: 98 w= 1.9999999999998113 loss= 2.026234594562219e-25\n",
      "epoch: 99 w= 1.9999999999998288 loss= 1.6640369985390437e-25\n"
     ]
    }
   ],
   "source": [
    "epochs=[]\n",
    "costs=[]\n",
    "for epoch in range(100):\n",
    "    cost_val = cost(x_data,y_data) #成本函数\n",
    "    grad_val = gradient(x_data,y_data)  #梯度\n",
    "    w -= 0.01 * grad_val  # w-学习率*权重\n",
    "    epochs.append(epoch)\n",
    "    costs.append(cost_val)\n",
    "    print(\"epoch:\",epoch,\"w=\",w,\"loss=\",cost_val)    "
   ]
  },
  {
   "cell_type": "code",
   "execution_count": 26,
   "id": "d8afab25-1985-4966-bc93-0fbd08a2afbd",
   "metadata": {},
   "outputs": [
    {
     "data": {
      "application/vnd.plotly.v1+json": {
       "config": {
        "plotlyServerURL": "https://plot.ly"
       },
       "data": [
        {
         "hovertemplate": "x=%{x}<br>y=%{y}<extra></extra>",
         "legendgroup": "",
         "line": {
          "color": "#636efa",
          "dash": "solid"
         },
         "marker": {
          "symbol": "circle"
         },
         "mode": "lines",
         "name": "",
         "orientation": "v",
         "showlegend": false,
         "type": "scatter",
         "x": [
          0,
          1,
          2,
          3,
          4,
          5,
          6,
          7,
          8,
          9,
          10,
          11,
          12,
          13,
          14,
          15,
          16,
          17,
          18,
          19,
          20,
          21,
          22,
          23,
          24,
          25,
          26,
          27,
          28,
          29,
          30,
          31,
          32,
          33,
          34,
          35,
          36,
          37,
          38,
          39,
          40,
          41,
          42,
          43,
          44,
          45,
          46,
          47,
          48,
          49,
          50,
          51,
          52,
          53,
          54,
          55,
          56,
          57,
          58,
          59,
          60,
          61,
          62,
          63,
          64,
          65,
          66,
          67,
          68,
          69,
          70,
          71,
          72,
          73,
          74,
          75,
          76,
          77,
          78,
          79,
          80,
          81,
          82,
          83,
          84,
          85,
          86,
          87,
          88,
          89,
          90,
          91,
          92,
          93,
          94,
          95,
          96,
          97,
          98,
          99
         ],
         "xaxis": "x",
         "y": [
          4.44699398222102e-17,
          3.6556265500679413e-17,
          3.0050872966054246e-17,
          2.4703158303887335e-17,
          2.0307092257051805e-17,
          1.669333268256768e-17,
          1.3722659708836455e-17,
          1.1280635854439595e-17,
          9.273181632846905e-18,
          7.62296905553995e-18,
          6.266418865967686e-18,
          5.151273168829075e-18,
          4.2345758361966715e-18,
          3.4810090634203134e-18,
          2.8615433162267656e-18,
          2.3523158178713203e-18,
          1.933707819326033e-18,
          1.5895932539896047e-18,
          1.3067156286736417e-18,
          1.0741790152332025e-18,
          8.830231012997337e-19,
          7.258847041312245e-19,
          5.967091954420124e-19,
          4.905215904049574e-19,
          4.0323087491254164e-19,
          3.3147333496097863e-19,
          2.7248585116375776e-19,
          2.239952522545633e-19,
          1.8413423735760678e-19,
          1.5136628442348685e-19,
          1.2442998077724893e-19,
          1.02286781854237e-19,
          8.408452424015493e-20,
          6.912119703883337e-20,
          5.682075547576174e-20,
          4.670921302547964e-20,
          3.8396962420010173e-20,
          3.1563973280541844e-20,
          2.5946982551434627e-20,
          2.1329562715308646e-20,
          1.753387043041336e-20,
          1.4413707871706683e-20,
          1.1848754427320719e-20,
          9.74013800768683e-21,
          8.00686991282148e-21,
          6.582022201673281e-21,
          5.410686422989996e-21,
          4.447841958913893e-21,
          3.65630012652187e-21,
          3.0055976279247355e-21,
          2.4707641248886712e-21,
          2.0310707165475644e-21,
          1.6696600414727327e-21,
          1.372502435574588e-21,
          1.128265183502323e-21,
          9.274782826895062e-22,
          7.624110128027355e-22,
          6.267219450121327e-22,
          5.152010077138626e-22,
          4.235046823424192e-22,
          3.4814432530386782e-22,
          2.861863370984748e-22,
          2.3525317986910194e-22,
          1.93394261759401e-22,
          1.5897252685168227e-22,
          1.3069304223708962e-22,
          1.0743979827431346e-22,
          8.831709514160299e-23,
          7.259544724253269e-23,
          5.967882271651158e-23,
          4.906111489932858e-23,
          4.0325850641832845e-23,
          3.3147542598305946e-23,
          2.725005528438257e-23,
          2.23995155019223e-23,
          1.8415632098569072e-23,
          1.5136068593384884e-23,
          1.2444719189309538e-23,
          1.0230065496227323e-23,
          8.409340671696713e-24,
          6.915653058044263e-24,
          5.684272739430472e-24,
          4.672531281306477e-24,
          3.8398734924462845e-24,
          3.1566700366380307e-24,
          2.5938075913094798e-24,
          2.133648870080109e-24,
          1.754233727416397e-24,
          1.4412342306082354e-24,
          1.1847814667776736e-24,
          9.737473695652116e-25,
          8.00469338567985e-25,
          6.5775532891309395e-25,
          5.408700715401317e-25,
          4.442720651089536e-25,
          3.652820421625895e-25,
          2.998426774156594e-25,
          2.463701518203079e-25,
          2.026234594562219e-25,
          1.6640369985390437e-25
         ],
         "yaxis": "y"
        }
       ],
       "layout": {
        "autosize": true,
        "legend": {
         "tracegroupgap": 0
        },
        "margin": {
         "t": 60
        },
        "template": {
         "data": {
          "bar": [
           {
            "error_x": {
             "color": "#2a3f5f"
            },
            "error_y": {
             "color": "#2a3f5f"
            },
            "marker": {
             "line": {
              "color": "#E5ECF6",
              "width": 0.5
             },
             "pattern": {
              "fillmode": "overlay",
              "size": 10,
              "solidity": 0.2
             }
            },
            "type": "bar"
           }
          ],
          "barpolar": [
           {
            "marker": {
             "line": {
              "color": "#E5ECF6",
              "width": 0.5
             },
             "pattern": {
              "fillmode": "overlay",
              "size": 10,
              "solidity": 0.2
             }
            },
            "type": "barpolar"
           }
          ],
          "carpet": [
           {
            "aaxis": {
             "endlinecolor": "#2a3f5f",
             "gridcolor": "white",
             "linecolor": "white",
             "minorgridcolor": "white",
             "startlinecolor": "#2a3f5f"
            },
            "baxis": {
             "endlinecolor": "#2a3f5f",
             "gridcolor": "white",
             "linecolor": "white",
             "minorgridcolor": "white",
             "startlinecolor": "#2a3f5f"
            },
            "type": "carpet"
           }
          ],
          "choropleth": [
           {
            "colorbar": {
             "outlinewidth": 0,
             "ticks": ""
            },
            "type": "choropleth"
           }
          ],
          "contour": [
           {
            "colorbar": {
             "outlinewidth": 0,
             "ticks": ""
            },
            "colorscale": [
             [
              0,
              "#0d0887"
             ],
             [
              0.1111111111111111,
              "#46039f"
             ],
             [
              0.2222222222222222,
              "#7201a8"
             ],
             [
              0.3333333333333333,
              "#9c179e"
             ],
             [
              0.4444444444444444,
              "#bd3786"
             ],
             [
              0.5555555555555556,
              "#d8576b"
             ],
             [
              0.6666666666666666,
              "#ed7953"
             ],
             [
              0.7777777777777778,
              "#fb9f3a"
             ],
             [
              0.8888888888888888,
              "#fdca26"
             ],
             [
              1,
              "#f0f921"
             ]
            ],
            "type": "contour"
           }
          ],
          "contourcarpet": [
           {
            "colorbar": {
             "outlinewidth": 0,
             "ticks": ""
            },
            "type": "contourcarpet"
           }
          ],
          "heatmap": [
           {
            "colorbar": {
             "outlinewidth": 0,
             "ticks": ""
            },
            "colorscale": [
             [
              0,
              "#0d0887"
             ],
             [
              0.1111111111111111,
              "#46039f"
             ],
             [
              0.2222222222222222,
              "#7201a8"
             ],
             [
              0.3333333333333333,
              "#9c179e"
             ],
             [
              0.4444444444444444,
              "#bd3786"
             ],
             [
              0.5555555555555556,
              "#d8576b"
             ],
             [
              0.6666666666666666,
              "#ed7953"
             ],
             [
              0.7777777777777778,
              "#fb9f3a"
             ],
             [
              0.8888888888888888,
              "#fdca26"
             ],
             [
              1,
              "#f0f921"
             ]
            ],
            "type": "heatmap"
           }
          ],
          "heatmapgl": [
           {
            "colorbar": {
             "outlinewidth": 0,
             "ticks": ""
            },
            "colorscale": [
             [
              0,
              "#0d0887"
             ],
             [
              0.1111111111111111,
              "#46039f"
             ],
             [
              0.2222222222222222,
              "#7201a8"
             ],
             [
              0.3333333333333333,
              "#9c179e"
             ],
             [
              0.4444444444444444,
              "#bd3786"
             ],
             [
              0.5555555555555556,
              "#d8576b"
             ],
             [
              0.6666666666666666,
              "#ed7953"
             ],
             [
              0.7777777777777778,
              "#fb9f3a"
             ],
             [
              0.8888888888888888,
              "#fdca26"
             ],
             [
              1,
              "#f0f921"
             ]
            ],
            "type": "heatmapgl"
           }
          ],
          "histogram": [
           {
            "marker": {
             "pattern": {
              "fillmode": "overlay",
              "size": 10,
              "solidity": 0.2
             }
            },
            "type": "histogram"
           }
          ],
          "histogram2d": [
           {
            "colorbar": {
             "outlinewidth": 0,
             "ticks": ""
            },
            "colorscale": [
             [
              0,
              "#0d0887"
             ],
             [
              0.1111111111111111,
              "#46039f"
             ],
             [
              0.2222222222222222,
              "#7201a8"
             ],
             [
              0.3333333333333333,
              "#9c179e"
             ],
             [
              0.4444444444444444,
              "#bd3786"
             ],
             [
              0.5555555555555556,
              "#d8576b"
             ],
             [
              0.6666666666666666,
              "#ed7953"
             ],
             [
              0.7777777777777778,
              "#fb9f3a"
             ],
             [
              0.8888888888888888,
              "#fdca26"
             ],
             [
              1,
              "#f0f921"
             ]
            ],
            "type": "histogram2d"
           }
          ],
          "histogram2dcontour": [
           {
            "colorbar": {
             "outlinewidth": 0,
             "ticks": ""
            },
            "colorscale": [
             [
              0,
              "#0d0887"
             ],
             [
              0.1111111111111111,
              "#46039f"
             ],
             [
              0.2222222222222222,
              "#7201a8"
             ],
             [
              0.3333333333333333,
              "#9c179e"
             ],
             [
              0.4444444444444444,
              "#bd3786"
             ],
             [
              0.5555555555555556,
              "#d8576b"
             ],
             [
              0.6666666666666666,
              "#ed7953"
             ],
             [
              0.7777777777777778,
              "#fb9f3a"
             ],
             [
              0.8888888888888888,
              "#fdca26"
             ],
             [
              1,
              "#f0f921"
             ]
            ],
            "type": "histogram2dcontour"
           }
          ],
          "mesh3d": [
           {
            "colorbar": {
             "outlinewidth": 0,
             "ticks": ""
            },
            "type": "mesh3d"
           }
          ],
          "parcoords": [
           {
            "line": {
             "colorbar": {
              "outlinewidth": 0,
              "ticks": ""
             }
            },
            "type": "parcoords"
           }
          ],
          "pie": [
           {
            "automargin": true,
            "type": "pie"
           }
          ],
          "scatter": [
           {
            "marker": {
             "colorbar": {
              "outlinewidth": 0,
              "ticks": ""
             }
            },
            "type": "scatter"
           }
          ],
          "scatter3d": [
           {
            "line": {
             "colorbar": {
              "outlinewidth": 0,
              "ticks": ""
             }
            },
            "marker": {
             "colorbar": {
              "outlinewidth": 0,
              "ticks": ""
             }
            },
            "type": "scatter3d"
           }
          ],
          "scattercarpet": [
           {
            "marker": {
             "colorbar": {
              "outlinewidth": 0,
              "ticks": ""
             }
            },
            "type": "scattercarpet"
           }
          ],
          "scattergeo": [
           {
            "marker": {
             "colorbar": {
              "outlinewidth": 0,
              "ticks": ""
             }
            },
            "type": "scattergeo"
           }
          ],
          "scattergl": [
           {
            "marker": {
             "colorbar": {
              "outlinewidth": 0,
              "ticks": ""
             }
            },
            "type": "scattergl"
           }
          ],
          "scattermapbox": [
           {
            "marker": {
             "colorbar": {
              "outlinewidth": 0,
              "ticks": ""
             }
            },
            "type": "scattermapbox"
           }
          ],
          "scatterpolar": [
           {
            "marker": {
             "colorbar": {
              "outlinewidth": 0,
              "ticks": ""
             }
            },
            "type": "scatterpolar"
           }
          ],
          "scatterpolargl": [
           {
            "marker": {
             "colorbar": {
              "outlinewidth": 0,
              "ticks": ""
             }
            },
            "type": "scatterpolargl"
           }
          ],
          "scatterternary": [
           {
            "marker": {
             "colorbar": {
              "outlinewidth": 0,
              "ticks": ""
             }
            },
            "type": "scatterternary"
           }
          ],
          "surface": [
           {
            "colorbar": {
             "outlinewidth": 0,
             "ticks": ""
            },
            "colorscale": [
             [
              0,
              "#0d0887"
             ],
             [
              0.1111111111111111,
              "#46039f"
             ],
             [
              0.2222222222222222,
              "#7201a8"
             ],
             [
              0.3333333333333333,
              "#9c179e"
             ],
             [
              0.4444444444444444,
              "#bd3786"
             ],
             [
              0.5555555555555556,
              "#d8576b"
             ],
             [
              0.6666666666666666,
              "#ed7953"
             ],
             [
              0.7777777777777778,
              "#fb9f3a"
             ],
             [
              0.8888888888888888,
              "#fdca26"
             ],
             [
              1,
              "#f0f921"
             ]
            ],
            "type": "surface"
           }
          ],
          "table": [
           {
            "cells": {
             "fill": {
              "color": "#EBF0F8"
             },
             "line": {
              "color": "white"
             }
            },
            "header": {
             "fill": {
              "color": "#C8D4E3"
             },
             "line": {
              "color": "white"
             }
            },
            "type": "table"
           }
          ]
         },
         "layout": {
          "annotationdefaults": {
           "arrowcolor": "#2a3f5f",
           "arrowhead": 0,
           "arrowwidth": 1
          },
          "autotypenumbers": "strict",
          "coloraxis": {
           "colorbar": {
            "outlinewidth": 0,
            "ticks": ""
           }
          },
          "colorscale": {
           "diverging": [
            [
             0,
             "#8e0152"
            ],
            [
             0.1,
             "#c51b7d"
            ],
            [
             0.2,
             "#de77ae"
            ],
            [
             0.3,
             "#f1b6da"
            ],
            [
             0.4,
             "#fde0ef"
            ],
            [
             0.5,
             "#f7f7f7"
            ],
            [
             0.6,
             "#e6f5d0"
            ],
            [
             0.7,
             "#b8e186"
            ],
            [
             0.8,
             "#7fbc41"
            ],
            [
             0.9,
             "#4d9221"
            ],
            [
             1,
             "#276419"
            ]
           ],
           "sequential": [
            [
             0,
             "#0d0887"
            ],
            [
             0.1111111111111111,
             "#46039f"
            ],
            [
             0.2222222222222222,
             "#7201a8"
            ],
            [
             0.3333333333333333,
             "#9c179e"
            ],
            [
             0.4444444444444444,
             "#bd3786"
            ],
            [
             0.5555555555555556,
             "#d8576b"
            ],
            [
             0.6666666666666666,
             "#ed7953"
            ],
            [
             0.7777777777777778,
             "#fb9f3a"
            ],
            [
             0.8888888888888888,
             "#fdca26"
            ],
            [
             1,
             "#f0f921"
            ]
           ],
           "sequentialminus": [
            [
             0,
             "#0d0887"
            ],
            [
             0.1111111111111111,
             "#46039f"
            ],
            [
             0.2222222222222222,
             "#7201a8"
            ],
            [
             0.3333333333333333,
             "#9c179e"
            ],
            [
             0.4444444444444444,
             "#bd3786"
            ],
            [
             0.5555555555555556,
             "#d8576b"
            ],
            [
             0.6666666666666666,
             "#ed7953"
            ],
            [
             0.7777777777777778,
             "#fb9f3a"
            ],
            [
             0.8888888888888888,
             "#fdca26"
            ],
            [
             1,
             "#f0f921"
            ]
           ]
          },
          "colorway": [
           "#636efa",
           "#EF553B",
           "#00cc96",
           "#ab63fa",
           "#FFA15A",
           "#19d3f3",
           "#FF6692",
           "#B6E880",
           "#FF97FF",
           "#FECB52"
          ],
          "font": {
           "color": "#2a3f5f"
          },
          "geo": {
           "bgcolor": "white",
           "lakecolor": "white",
           "landcolor": "#E5ECF6",
           "showlakes": true,
           "showland": true,
           "subunitcolor": "white"
          },
          "hoverlabel": {
           "align": "left"
          },
          "hovermode": "closest",
          "mapbox": {
           "style": "light"
          },
          "paper_bgcolor": "white",
          "plot_bgcolor": "#E5ECF6",
          "polar": {
           "angularaxis": {
            "gridcolor": "white",
            "linecolor": "white",
            "ticks": ""
           },
           "bgcolor": "#E5ECF6",
           "radialaxis": {
            "gridcolor": "white",
            "linecolor": "white",
            "ticks": ""
           }
          },
          "scene": {
           "xaxis": {
            "backgroundcolor": "#E5ECF6",
            "gridcolor": "white",
            "gridwidth": 2,
            "linecolor": "white",
            "showbackground": true,
            "ticks": "",
            "zerolinecolor": "white"
           },
           "yaxis": {
            "backgroundcolor": "#E5ECF6",
            "gridcolor": "white",
            "gridwidth": 2,
            "linecolor": "white",
            "showbackground": true,
            "ticks": "",
            "zerolinecolor": "white"
           },
           "zaxis": {
            "backgroundcolor": "#E5ECF6",
            "gridcolor": "white",
            "gridwidth": 2,
            "linecolor": "white",
            "showbackground": true,
            "ticks": "",
            "zerolinecolor": "white"
           }
          },
          "shapedefaults": {
           "line": {
            "color": "#2a3f5f"
           }
          },
          "ternary": {
           "aaxis": {
            "gridcolor": "white",
            "linecolor": "white",
            "ticks": ""
           },
           "baxis": {
            "gridcolor": "white",
            "linecolor": "white",
            "ticks": ""
           },
           "bgcolor": "#E5ECF6",
           "caxis": {
            "gridcolor": "white",
            "linecolor": "white",
            "ticks": ""
           }
          },
          "title": {
           "x": 0.05
          },
          "xaxis": {
           "automargin": true,
           "gridcolor": "white",
           "linecolor": "white",
           "ticks": "",
           "title": {
            "standoff": 15
           },
           "zerolinecolor": "white",
           "zerolinewidth": 2
          },
          "yaxis": {
           "automargin": true,
           "gridcolor": "white",
           "linecolor": "white",
           "ticks": "",
           "title": {
            "standoff": 15
           },
           "zerolinecolor": "white",
           "zerolinewidth": 2
          }
         }
        },
        "title": {
         "text": "训练时不同epoch的损失cost值"
        },
        "xaxis": {
         "anchor": "y",
         "autorange": true,
         "domain": [
          0,
          1
         ],
         "range": [
          0,
          99
         ],
         "title": {
          "text": "epoch"
         },
         "type": "linear"
        },
        "yaxis": {
         "anchor": "x",
         "autorange": true,
         "domain": [
          0,
          1
         ],
         "range": [
          -2.4705520366966608e-18,
          4.694049202531056e-17
         ],
         "title": {
          "text": "cost"
         },
         "type": "linear"
        }
       }
      },
      "image/png": "[encoded data removed]",
      "text/html": [
       "<div>                            <div id=\"937e2c04-87b3-4664-9ecb-f9cb50e250fd\" class=\"plotly-graph-div\" style=\"height:525px; width:100%;\"></div>            <script type=\"text/javascript\">                require([\"plotly\"], function(Plotly) {                    window.PLOTLYENV=window.PLOTLYENV || {};                                    if (document.getElementById(\"937e2c04-87b3-4664-9ecb-f9cb50e250fd\")) {                    Plotly.newPlot(                        \"937e2c04-87b3-4664-9ecb-f9cb50e250fd\",                        [{\"hovertemplate\":\"x=%{x}<br>y=%{y}<extra></extra>\",\"legendgroup\":\"\",\"line\":{\"color\":\"#636efa\",\"dash\":\"solid\"},\"marker\":{\"symbol\":\"circle\"},\"mode\":\"lines\",\"name\":\"\",\"orientation\":\"v\",\"showlegend\":false,\"x\":[0,1,2,3,4,5,6,7,8,9,10,11,12,13,14,15,16,17,18,19,20,21,22,23,24,25,26,27,28,29,30,31,32,33,34,35,36,37,38,39,40,41,42,43,44,45,46,47,48,49,50,51,52,53,54,55,56,57,58,59,60,61,62,63,64,65,66,67,68,69,70,71,72,73,74,75,76,77,78,79,80,81,82,83,84,85,86,87,88,89,90,91,92,93,94,95,96,97,98,99],\"xaxis\":\"x\",\"y\":[4.44699398222102e-17,3.6556265500679413e-17,3.0050872966054246e-17,2.4703158303887335e-17,2.0307092257051805e-17,1.669333268256768e-17,1.3722659708836455e-17,1.1280635854439595e-17,9.273181632846905e-18,7.62296905553995e-18,6.266418865967686e-18,5.151273168829075e-18,4.2345758361966715e-18,3.4810090634203134e-18,2.8615433162267656e-18,2.3523158178713203e-18,1.933707819326033e-18,1.5895932539896047e-18,1.3067156286736417e-18,1.0741790152332025e-18,8.830231012997337e-19,7.258847041312245e-19,5.967091954420124e-19,4.905215904049574e-19,4.0323087491254164e-19,3.3147333496097863e-19,2.7248585116375776e-19,2.239952522545633e-19,1.8413423735760678e-19,1.5136628442348685e-19,1.2442998077724893e-19,1.02286781854237e-19,8.408452424015493e-20,6.912119703883337e-20,5.682075547576174e-20,4.670921302547964e-20,3.8396962420010173e-20,3.1563973280541844e-20,2.5946982551434627e-20,2.1329562715308646e-20,1.753387043041336e-20,1.4413707871706683e-20,1.1848754427320719e-20,9.74013800768683e-21,8.00686991282148e-21,6.582022201673281e-21,5.410686422989996e-21,4.447841958913893e-21,3.65630012652187e-21,3.0055976279247355e-21,2.4707641248886712e-21,2.0310707165475644e-21,1.6696600414727327e-21,1.372502435574588e-21,1.128265183502323e-21,9.274782826895062e-22,7.624110128027355e-22,6.267219450121327e-22,5.152010077138626e-22,4.235046823424192e-22,3.4814432530386782e-22,2.861863370984748e-22,2.3525317986910194e-22,1.93394261759401e-22,1.5897252685168227e-22,1.3069304223708962e-22,1.0743979827431346e-22,8.831709514160299e-23,7.259544724253269e-23,5.967882271651158e-23,4.906111489932858e-23,4.0325850641832845e-23,3.3147542598305946e-23,2.725005528438257e-23,2.23995155019223e-23,1.8415632098569072e-23,1.5136068593384884e-23,1.2444719189309538e-23,1.0230065496227323e-23,8.409340671696713e-24,6.915653058044263e-24,5.684272739430472e-24,4.672531281306477e-24,3.8398734924462845e-24,3.1566700366380307e-24,2.5938075913094798e-24,2.133648870080109e-24,1.754233727416397e-24,1.4412342306082354e-24,1.1847814667776736e-24,9.737473695652116e-25,8.00469338567985e-25,6.5775532891309395e-25,5.408700715401317e-25,4.442720651089536e-25,3.652820421625895e-25,2.998426774156594e-25,2.463701518203079e-25,2.026234594562219e-25,1.6640369985390437e-25],\"yaxis\":\"y\",\"type\":\"scatter\"}],                        {\"template\":{\"data\":{\"bar\":[{\"error_x\":{\"color\":\"#2a3f5f\"},\"error_y\":{\"color\":\"#2a3f5f\"},\"marker\":{\"line\":{\"color\":\"#E5ECF6\",\"width\":0.5},\"pattern\":{\"fillmode\":\"overlay\",\"size\":10,\"solidity\":0.2}},\"type\":\"bar\"}],\"barpolar\":[{\"marker\":{\"line\":{\"color\":\"#E5ECF6\",\"width\":0.5},\"pattern\":{\"fillmode\":\"overlay\",\"size\":10,\"solidity\":0.2}},\"type\":\"barpolar\"}],\"carpet\":[{\"aaxis\":{\"endlinecolor\":\"#2a3f5f\",\"gridcolor\":\"white\",\"linecolor\":\"white\",\"minorgridcolor\":\"white\",\"startlinecolor\":\"#2a3f5f\"},\"baxis\":{\"endlinecolor\":\"#2a3f5f\",\"gridcolor\":\"white\",\"linecolor\":\"white\",\"minorgridcolor\":\"white\",\"startlinecolor\":\"#2a3f5f\"},\"type\":\"carpet\"}],\"choropleth\":[{\"colorbar\":{\"outlinewidth\":0,\"ticks\":\"\"},\"type\":\"choropleth\"}],\"contour\":[{\"colorbar\":{\"outlinewidth\":0,\"ticks\":\"\"},\"colorscale\":[[0.0,\"#0d0887\"],[0.1111111111111111,\"#46039f\"],[0.2222222222222222,\"#7201a8\"],[0.3333333333333333,\"#9c179e\"],[0.4444444444444444,\"#bd3786\"],[0.5555555555555556,\"#d8576b\"],[0.6666666666666666,\"#ed7953\"],[0.7777777777777778,\"#fb9f3a\"],[0.8888888888888888,\"#fdca26\"],[1.0,\"#f0f921\"]],\"type\":\"contour\"}],\"contourcarpet\":[{\"colorbar\":{\"outlinewidth\":0,\"ticks\":\"\"},\"type\":\"contourcarpet\"}],\"heatmap\":[{\"colorbar\":{\"outlinewidth\":0,\"ticks\":\"\"},\"colorscale\":[[0.0,\"#0d0887\"],[0.1111111111111111,\"#46039f\"],[0.2222222222222222,\"#7201a8\"],[0.3333333333333333,\"#9c179e\"],[0.4444444444444444,\"#bd3786\"],[0.5555555555555556,\"#d8576b\"],[0.6666666666666666,\"#ed7953\"],[0.7777777777777778,\"#fb9f3a\"],[0.8888888888888888,\"#fdca26\"],[1.0,\"#f0f921\"]],\"type\":\"heatmap\"}],\"heatmapgl\":[{\"colorbar\":{\"outlinewidth\":0,\"ticks\":\"\"},\"colorscale\":[[0.0,\"#0d0887\"],[0.1111111111111111,\"#46039f\"],[0.2222222222222222,\"#7201a8\"],[0.3333333333333333,\"#9c179e\"],[0.4444444444444444,\"#bd3786\"],[0.5555555555555556,\"#d8576b\"],[0.6666666666666666,\"#ed7953\"],[0.7777777777777778,\"#fb9f3a\"],[0.8888888888888888,\"#fdca26\"],[1.0,\"#f0f921\"]],\"type\":\"heatmapgl\"}],\"histogram\":[{\"marker\":{\"pattern\":{\"fillmode\":\"overlay\",\"size\":10,\"solidity\":0.2}},\"type\":\"histogram\"}],\"histogram2d\":[{\"colorbar\":{\"outlinewidth\":0,\"ticks\":\"\"},\"colorscale\":[[0.0,\"#0d0887\"],[0.1111111111111111,\"#46039f\"],[0.2222222222222222,\"#7201a8\"],[0.3333333333333333,\"#9c179e\"],[0.4444444444444444,\"#bd3786\"],[0.5555555555555556,\"#d8576b\"],[0.6666666666666666,\"#ed7953\"],[0.7777777777777778,\"#fb9f3a\"],[0.8888888888888888,\"#fdca26\"],[1.0,\"#f0f921\"]],\"type\":\"histogram2d\"}],\"histogram2dcontour\":[{\"colorbar\":{\"outlinewidth\":0,\"ticks\":\"\"},\"colorscale\":[[0.0,\"#0d0887\"],[0.1111111111111111,\"#46039f\"],[0.2222222222222222,\"#7201a8\"],[0.3333333333333333,\"#9c179e\"],[0.4444444444444444,\"#bd3786\"],[0.5555555555555556,\"#d8576b\"],[0.6666666666666666,\"#ed7953\"],[0.7777777777777778,\"#fb9f3a\"],[0.8888888888888888,\"#fdca26\"],[1.0,\"#f0f921\"]],\"type\":\"histogram2dcontour\"}],\"mesh3d\":[{\"colorbar\":{\"outlinewidth\":0,\"ticks\":\"\"},\"type\":\"mesh3d\"}],\"parcoords\":[{\"line\":{\"colorbar\":{\"outlinewidth\":0,\"ticks\":\"\"}},\"type\":\"parcoords\"}],\"pie\":[{\"automargin\":true,\"type\":\"pie\"}],\"scatter\":[{\"marker\":{\"colorbar\":{\"outlinewidth\":0,\"ticks\":\"\"}},\"type\":\"scatter\"}],\"scatter3d\":[{\"line\":{\"colorbar\":{\"outlinewidth\":0,\"ticks\":\"\"}},\"marker\":{\"colorbar\":{\"outlinewidth\":0,\"ticks\":\"\"}},\"type\":\"scatter3d\"}],\"scattercarpet\":[{\"marker\":{\"colorbar\":{\"outlinewidth\":0,\"ticks\":\"\"}},\"type\":\"scattercarpet\"}],\"scattergeo\":[{\"marker\":{\"colorbar\":{\"outlinewidth\":0,\"ticks\":\"\"}},\"type\":\"scattergeo\"}],\"scattergl\":[{\"marker\":{\"colorbar\":{\"outlinewidth\":0,\"ticks\":\"\"}},\"type\":\"scattergl\"}],\"scattermapbox\":[{\"marker\":{\"colorbar\":{\"outlinewidth\":0,\"ticks\":\"\"}},\"type\":\"scattermapbox\"}],\"scatterpolar\":[{\"marker\":{\"colorbar\":{\"outlinewidth\":0,\"ticks\":\"\"}},\"type\":\"scatterpolar\"}],\"scatterpolargl\":[{\"marker\":{\"colorbar\":{\"outlinewidth\":0,\"ticks\":\"\"}},\"type\":\"scatterpolargl\"}],\"scatterternary\":[{\"marker\":{\"colorbar\":{\"outlinewidth\":0,\"ticks\":\"\"}},\"type\":\"scatterternary\"}],\"surface\":[{\"colorbar\":{\"outlinewidth\":0,\"ticks\":\"\"},\"colorscale\":[[0.0,\"#0d0887\"],[0.1111111111111111,\"#46039f\"],[0.2222222222222222,\"#7201a8\"],[0.3333333333333333,\"#9c179e\"],[0.4444444444444444,\"#bd3786\"],[0.5555555555555556,\"#d8576b\"],[0.6666666666666666,\"#ed7953\"],[0.7777777777777778,\"#fb9f3a\"],[0.8888888888888888,\"#fdca26\"],[1.0,\"#f0f921\"]],\"type\":\"surface\"}],\"table\":[{\"cells\":{\"fill\":{\"color\":\"#EBF0F8\"},\"line\":{\"color\":\"white\"}},\"header\":{\"fill\":{\"color\":\"#C8D4E3\"},\"line\":{\"color\":\"white\"}},\"type\":\"table\"}]},\"layout\":{\"annotationdefaults\":{\"arrowcolor\":\"#2a3f5f\",\"arrowhead\":0,\"arrowwidth\":1},\"autotypenumbers\":\"strict\",\"coloraxis\":{\"colorbar\":{\"outlinewidth\":0,\"ticks\":\"\"}},\"colorscale\":{\"diverging\":[[0,\"#8e0152\"],[0.1,\"#c51b7d\"],[0.2,\"#de77ae\"],[0.3,\"#f1b6da\"],[0.4,\"#fde0ef\"],[0.5,\"#f7f7f7\"],[0.6,\"#e6f5d0\"],[0.7,\"#b8e186\"],[0.8,\"#7fbc41\"],[0.9,\"#4d9221\"],[1,\"#276419\"]],\"sequential\":[[0.0,\"#0d0887\"],[0.1111111111111111,\"#46039f\"],[0.2222222222222222,\"#7201a8\"],[0.3333333333333333,\"#9c179e\"],[0.4444444444444444,\"#bd3786\"],[0.5555555555555556,\"#d8576b\"],[0.6666666666666666,\"#ed7953\"],[0.7777777777777778,\"#fb9f3a\"],[0.8888888888888888,\"#fdca26\"],[1.0,\"#f0f921\"]],\"sequentialminus\":[[0.0,\"#0d0887\"],[0.1111111111111111,\"#46039f\"],[0.2222222222222222,\"#7201a8\"],[0.3333333333333333,\"#9c179e\"],[0.4444444444444444,\"#bd3786\"],[0.5555555555555556,\"#d8576b\"],[0.6666666666666666,\"#ed7953\"],[0.7777777777777778,\"#fb9f3a\"],[0.8888888888888888,\"#fdca26\"],[1.0,\"#f0f921\"]]},\"colorway\":[\"#636efa\",\"#EF553B\",\"#00cc96\",\"#ab63fa\",\"#FFA15A\",\"#19d3f3\",\"#FF6692\",\"#B6E880\",\"#FF97FF\",\"#FECB52\"],\"font\":{\"color\":\"#2a3f5f\"},\"geo\":{\"bgcolor\":\"white\",\"lakecolor\":\"white\",\"landcolor\":\"#E5ECF6\",\"showlakes\":true,\"showland\":true,\"subunitcolor\":\"white\"},\"hoverlabel\":{\"align\":\"left\"},\"hovermode\":\"closest\",\"mapbox\":{\"style\":\"light\"},\"paper_bgcolor\":\"white\",\"plot_bgcolor\":\"#E5ECF6\",\"polar\":{\"angularaxis\":{\"gridcolor\":\"white\",\"linecolor\":\"white\",\"ticks\":\"\"},\"bgcolor\":\"#E5ECF6\",\"radialaxis\":{\"gridcolor\":\"white\",\"linecolor\":\"white\",\"ticks\":\"\"}},\"scene\":{\"xaxis\":{\"backgroundcolor\":\"#E5ECF6\",\"gridcolor\":\"white\",\"gridwidth\":2,\"linecolor\":\"white\",\"showbackground\":true,\"ticks\":\"\",\"zerolinecolor\":\"white\"},\"yaxis\":{\"backgroundcolor\":\"#E5ECF6\",\"gridcolor\":\"white\",\"gridwidth\":2,\"linecolor\":\"white\",\"showbackground\":true,\"ticks\":\"\",\"zerolinecolor\":\"white\"},\"zaxis\":{\"backgroundcolor\":\"#E5ECF6\",\"gridcolor\":\"white\",\"gridwidth\":2,\"linecolor\":\"white\",\"showbackground\":true,\"ticks\":\"\",\"zerolinecolor\":\"white\"}},\"shapedefaults\":{\"line\":{\"color\":\"#2a3f5f\"}},\"ternary\":{\"aaxis\":{\"gridcolor\":\"white\",\"linecolor\":\"white\",\"ticks\":\"\"},\"baxis\":{\"gridcolor\":\"white\",\"linecolor\":\"white\",\"ticks\":\"\"},\"bgcolor\":\"#E5ECF6\",\"caxis\":{\"gridcolor\":\"white\",\"linecolor\":\"white\",\"ticks\":\"\"}},\"title\":{\"x\":0.05},\"xaxis\":{\"automargin\":true,\"gridcolor\":\"white\",\"linecolor\":\"white\",\"ticks\":\"\",\"title\":{\"standoff\":15},\"zerolinecolor\":\"white\",\"zerolinewidth\":2},\"yaxis\":{\"automargin\":true,\"gridcolor\":\"white\",\"linecolor\":\"white\",\"ticks\":\"\",\"title\":{\"standoff\":15},\"zerolinecolor\":\"white\",\"zerolinewidth\":2}}},\"xaxis\":{\"anchor\":\"y\",\"domain\":[0.0,1.0],\"title\":{\"text\":\"epoch\"}},\"yaxis\":{\"anchor\":\"x\",\"domain\":[0.0,1.0],\"title\":{\"text\":\"cost\"}},\"legend\":{\"tracegroupgap\":0},\"margin\":{\"t\":60},\"title\":{\"text\":\"\\u8bad\\u7ec3\\u65f6\\u4e0d\\u540cepoch\\u7684\\u635f\\u5931cost\\u503c\"}},                        {\"responsive\": true}                    ).then(function(){\n",
       "                            \n",
       "var gd = document.getElementById('937e2c04-87b3-4664-9ecb-f9cb50e250fd');\n",
       "var x = new MutationObserver(function (mutations, observer) {{\n",
       "        var display = window.getComputedStyle(gd).display;\n",
       "        if (!display || display === 'none') {{\n",
       "            console.log([gd, 'removed!']);\n",
       "            Plotly.purge(gd);\n",
       "            observer.disconnect();\n",
       "        }}\n",
       "}});\n",
       "\n",
       "// Listen for the removal of the full notebook cells\n",
       "var notebookContainer = gd.closest('#notebook-container');\n",
       "if (notebookContainer) {{\n",
       "    x.observe(notebookContainer, {childList: true});\n",
       "}}\n",
       "\n",
       "// Listen for the clearing of the current output cell\n",
       "var outputEl = gd.closest('.output');\n",
       "if (outputEl) {{\n",
       "    x.observe(outputEl, {childList: true});\n",
       "}}\n",
       "\n",
       "                        })                };                });            </script>        </div>"
      ]
     },
     "metadata": {},
     "output_type": "display_data"
    }
   ],
   "source": [
    "fig = px.line(x=epochs, y=costs)\n",
    "fig.update_layout(\n",
    "    title=\"训练时不同epoch的损失cost值\",\n",
    "    xaxis = dict(title=\"epoch\"),\n",
    "    yaxis = dict(title=\"cost\")\n",
    ")"
   ]
  },
  {
   "cell_type": "code",
   "execution_count": null,
   "id": "23ec709d-20ff-47da-a7ec-a1b188a8ddce",
   "metadata": {},
   "outputs": [],
   "source": []
  }
 ],
 "metadata": {
  "kernelspec": {
   "display_name": "py3.6.5_torch1.10",
   "language": "python",
   "name": "py3.6.5_torch1.10"
  },
  "language_info": {
   "codemirror_mode": {
    "name": "ipython",
    "version": 3
   },
   "file_extension": ".py",
   "mimetype": "text/x-python",
   "name": "python",
   "nbconvert_exporter": "python",
   "pygments_lexer": "ipython3",
   "version": "3.6.5"
  }
 },
 "nbformat": 4,
 "nbformat_minor": 5
}
